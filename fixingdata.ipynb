{
  "nbformat": 4,
  "nbformat_minor": 0,
  "metadata": {
    "colab": {
      "name": "Untitled5.ipynb",
      "provenance": [],
      "include_colab_link": true
    },
    "kernelspec": {
      "name": "python3",
      "display_name": "Python 3"
    }
  },
  "cells": [
    {
      "cell_type": "markdown",
      "metadata": {
        "id": "view-in-github",
        "colab_type": "text"
      },
      "source": [
        "<a href=\"https://colab.research.google.com/github/trmckibben/CalomirisPritchett_data/blob/master/fixingdata.ipynb\" target=\"_parent\"><img src=\"https://colab.research.google.com/assets/colab-badge.svg\" alt=\"Open In Colab\"/></a>"
      ]
    },
    {
      "cell_type": "code",
      "metadata": {
        "id": "QZa3qF_qwqCe"
      },
      "source": [
        "import pandas as pa\n",
        "import numpy as np\n",
        "\n",
        "data = pa.read_csv('https://raw.githubusercontent.com/trmckibben/CalomirisPritchett_data/master/CalomirisPritchettdata.csv')"
      ],
      "execution_count": 20,
      "outputs": []
    },
    {
      "cell_type": "code",
      "metadata": {
        "id": "iWy7071heAVC"
      },
      "source": [
        "#fix name cause format is terrible\n",
        "data[\"Sellers Name\"] = data[\"Sellers Last Name\"] + \",\" + \" \" + data[\"Sellers First Name\"]\n",
        "data[\"Buyers Name\"] = data[\"Buyers Last Name\"] + \",\" + \" \" + data[\"Buyers First Name\"]\n",
        "data[\"Notary Name\"] = data[\"Notary Last Name\"] + \",\" + \" \" + data[\"Notary First Name\"]"
      ],
      "execution_count": 21,
      "outputs": []
    },
    {
      "cell_type": "code",
      "metadata": {
        "id": "LC_q_g9Oe4MQ"
      },
      "source": [
        "data"
      ],
      "execution_count": null,
      "outputs": []
    },
    {
      "cell_type": "code",
      "metadata": {
        "id": "TQs4AH_Qe5Ve"
      },
      "source": [
        "#getting all of the column names\n",
        "cols = list(data.columns.values)"
      ],
      "execution_count": null,
      "outputs": []
    },
    {
      "cell_type": "code",
      "metadata": {
        "id": "ehjTGV-OgzBX"
      },
      "source": [
        "cols"
      ],
      "execution_count": null,
      "outputs": []
    },
    {
      "cell_type": "code",
      "metadata": {
        "id": "30OAyAMpgz70"
      },
      "source": [
        "# make dataframe without Conveyance, Page, Researcher,Calculations, Ratio, PresentValue, Dummy omission, reason for omission, comments, use name combo rows instead of separate columns.\n",
        "dataless = data[['ID number', 'Notary Name', 'Sales Date', 'Sellers Name', 'Sellers County of Origin', 'Sellers State of Origin', 'Representing Seller', 'Relationship to Seller', 'Buyers Name', 'Buyers County of Origin', 'Buyers State of Origin', 'Representing Buyer', 'Relationship to Buyer', 'Slave Name', 'Sex', 'Age', 'Color', 'Occupation', 'Family Relationship', 'Name Child 1', 'Sex Child 1', 'Age Child 1', 'Name Child 2', 'Sex Child 2', 'Age Child 2', 'Name Child 3', 'Sex Child 3', 'Age Child 3', 'Name Child 4', 'Sex Child 4', 'Age Child 4', 'Name Child 5', 'Sex Child 5', 'Age Child 5', 'Name Child 6', 'Sex Child 6', 'Age Child 6', 'Name Child 7', 'Sex Child 7', 'Age Child 7', 'Name Child 8', 'Sex Child 8', 'Age Child 8', 'Guaranteed', 'Notes on Guarantee', 'Number of Total Slaves', 'Number of Adult Slaves', 'Number of Child Slaves', 'Number of Prices', 'Price', 'Payment Method', 'Payment flag', 'DUMMY credit', 'Down Payment', 'mthcred', 'Interest Rate', 'Discount Rate', 'predicted rate', 'DUMMY Estate Sale']]"
      ],
      "execution_count": 22,
      "outputs": []
    },
    {
      "cell_type": "code",
      "metadata": {
        "id": "ES_gMnEWq-QE"
      },
      "source": [
        "#some of the rows have NaN values for price, which is needed for project so, throw those out.\n",
        "dataless = dataless[dataless['Price'].notna()]"
      ],
      "execution_count": 23,
      "outputs": []
    },
    {
      "cell_type": "code",
      "metadata": {
        "id": "0hxIQKfotTd7",
        "outputId": "50880d11-8f35-44fa-88f3-93fc16173396",
        "colab": {
          "base_uri": "https://localhost:8080/",
          "height": 34
        }
      },
      "source": [
        "#check all values in sex column\n",
        "dataless.Sex.unique()"
      ],
      "execution_count": 24,
      "outputs": [
        {
          "output_type": "execute_result",
          "data": {
            "text/plain": [
              "array(['M', 'F', nan, '.', 'F ', 'M ', 'F       '], dtype=object)"
            ]
          },
          "metadata": {
            "tags": []
          },
          "execution_count": 24
        }
      ]
    },
    {
      "cell_type": "code",
      "metadata": {
        "id": "NgJVfmHbwb6H",
        "outputId": "cae7c02d-d253-4b6b-8f96-a899799b5b2b",
        "colab": {
          "base_uri": "https://localhost:8080/",
          "height": 34
        }
      },
      "source": [
        "#cry because array(['M', 'F', nan, '.', 'F ', 'M ', 'F       '], dtype=object) and why would you do that? \n",
        "#Then fix the values so they are uniform for god's sake\n",
        "dataless.loc[(dataless.Sex == 'M '),'Sex']='M'\n",
        "dataless.loc[(dataless.Sex == 'F '),'Sex']='F'\n",
        "dataless.loc[(dataless.Sex == 'F       '),'Sex']='F'\n",
        "dataless.loc[(dataless.Sex == '.'),'Sex']=np.NaN\n",
        "dataless.Sex.unique()\n"
      ],
      "execution_count": 30,
      "outputs": [
        {
          "output_type": "execute_result",
          "data": {
            "text/plain": [
              "array(['M', 'F', nan], dtype=object)"
            ]
          },
          "metadata": {
            "tags": []
          },
          "execution_count": 30
        }
      ]
    },
    {
      "cell_type": "code",
      "metadata": {
        "id": "lWklcY-0sb2E",
        "outputId": "efe40cbe-4f23-4358-ce4f-8e038a88057b",
        "colab": {
          "base_uri": "https://localhost:8080/",
          "height": 561
        }
      },
      "source": [
        "#Categorical data to be converted to numeric data\n",
        "sex = dataless.Sex.unique()\n",
        "#Universal list of sexes\n",
        "totalsex = dataless.Sex\n",
        "#map each color to an integer\n",
        "mapping = {}\n",
        "for x in range(len(dataless.Sex)):\n",
        "  mapping[totalsex[x]] = x\n",
        "one_hot_encode = []\n",
        "for c in sex:\n",
        "  arr = list(np.zeroes(len(totalsex), dtype = int))\n",
        "  one_hot_encode.append(arr)\n",
        "print(one_hot_encode)"
      ],
      "execution_count": 31,
      "outputs": [
        {
          "output_type": "error",
          "ename": "KeyError",
          "evalue": "ignored",
          "traceback": [
            "\u001b[0;31m---------------------------------------------------------------------------\u001b[0m",
            "\u001b[0;31mKeyError\u001b[0m                                  Traceback (most recent call last)",
            "\u001b[0;32m/usr/local/lib/python3.6/dist-packages/pandas/core/indexes/base.py\u001b[0m in \u001b[0;36mget_loc\u001b[0;34m(self, key, method, tolerance)\u001b[0m\n\u001b[1;32m   2890\u001b[0m             \u001b[0;32mtry\u001b[0m\u001b[0;34m:\u001b[0m\u001b[0;34m\u001b[0m\u001b[0;34m\u001b[0m\u001b[0m\n\u001b[0;32m-> 2891\u001b[0;31m                 \u001b[0;32mreturn\u001b[0m \u001b[0mself\u001b[0m\u001b[0;34m.\u001b[0m\u001b[0m_engine\u001b[0m\u001b[0;34m.\u001b[0m\u001b[0mget_loc\u001b[0m\u001b[0;34m(\u001b[0m\u001b[0mcasted_key\u001b[0m\u001b[0;34m)\u001b[0m\u001b[0;34m\u001b[0m\u001b[0;34m\u001b[0m\u001b[0m\n\u001b[0m\u001b[1;32m   2892\u001b[0m             \u001b[0;32mexcept\u001b[0m \u001b[0mKeyError\u001b[0m \u001b[0;32mas\u001b[0m \u001b[0merr\u001b[0m\u001b[0;34m:\u001b[0m\u001b[0;34m\u001b[0m\u001b[0;34m\u001b[0m\u001b[0m\n",
            "\u001b[0;32mpandas/_libs/index.pyx\u001b[0m in \u001b[0;36mpandas._libs.index.IndexEngine.get_loc\u001b[0;34m()\u001b[0m\n",
            "\u001b[0;32mpandas/_libs/index.pyx\u001b[0m in \u001b[0;36mpandas._libs.index.IndexEngine.get_loc\u001b[0;34m()\u001b[0m\n",
            "\u001b[0;32mpandas/_libs/hashtable_class_helper.pxi\u001b[0m in \u001b[0;36mpandas._libs.hashtable.Int64HashTable.get_item\u001b[0;34m()\u001b[0m\n",
            "\u001b[0;32mpandas/_libs/hashtable_class_helper.pxi\u001b[0m in \u001b[0;36mpandas._libs.hashtable.Int64HashTable.get_item\u001b[0;34m()\u001b[0m\n",
            "\u001b[0;31mKeyError\u001b[0m: 8",
            "\nThe above exception was the direct cause of the following exception:\n",
            "\u001b[0;31mKeyError\u001b[0m                                  Traceback (most recent call last)",
            "\u001b[0;32m<ipython-input-31-54c71acd8521>\u001b[0m in \u001b[0;36m<module>\u001b[0;34m()\u001b[0m\n\u001b[1;32m      6\u001b[0m \u001b[0mmapping\u001b[0m \u001b[0;34m=\u001b[0m \u001b[0;34m{\u001b[0m\u001b[0;34m}\u001b[0m\u001b[0;34m\u001b[0m\u001b[0;34m\u001b[0m\u001b[0m\n\u001b[1;32m      7\u001b[0m \u001b[0;32mfor\u001b[0m \u001b[0mx\u001b[0m \u001b[0;32min\u001b[0m \u001b[0mrange\u001b[0m\u001b[0;34m(\u001b[0m\u001b[0mlen\u001b[0m\u001b[0;34m(\u001b[0m\u001b[0mdataless\u001b[0m\u001b[0;34m.\u001b[0m\u001b[0mSex\u001b[0m\u001b[0;34m)\u001b[0m\u001b[0;34m)\u001b[0m\u001b[0;34m:\u001b[0m\u001b[0;34m\u001b[0m\u001b[0;34m\u001b[0m\u001b[0m\n\u001b[0;32m----> 8\u001b[0;31m   \u001b[0mmapping\u001b[0m\u001b[0;34m[\u001b[0m\u001b[0mtotalsex\u001b[0m\u001b[0;34m[\u001b[0m\u001b[0mx\u001b[0m\u001b[0;34m]\u001b[0m\u001b[0;34m]\u001b[0m \u001b[0;34m=\u001b[0m \u001b[0mx\u001b[0m\u001b[0;34m\u001b[0m\u001b[0;34m\u001b[0m\u001b[0m\n\u001b[0m\u001b[1;32m      9\u001b[0m \u001b[0mone_hot_encode\u001b[0m \u001b[0;34m=\u001b[0m \u001b[0;34m[\u001b[0m\u001b[0;34m]\u001b[0m\u001b[0;34m\u001b[0m\u001b[0;34m\u001b[0m\u001b[0m\n\u001b[1;32m     10\u001b[0m \u001b[0;32mfor\u001b[0m \u001b[0mc\u001b[0m \u001b[0;32min\u001b[0m \u001b[0msex\u001b[0m\u001b[0;34m:\u001b[0m\u001b[0;34m\u001b[0m\u001b[0;34m\u001b[0m\u001b[0m\n",
            "\u001b[0;32m/usr/local/lib/python3.6/dist-packages/pandas/core/series.py\u001b[0m in \u001b[0;36m__getitem__\u001b[0;34m(self, key)\u001b[0m\n\u001b[1;32m    880\u001b[0m \u001b[0;34m\u001b[0m\u001b[0m\n\u001b[1;32m    881\u001b[0m         \u001b[0;32melif\u001b[0m \u001b[0mkey_is_scalar\u001b[0m\u001b[0;34m:\u001b[0m\u001b[0;34m\u001b[0m\u001b[0;34m\u001b[0m\u001b[0m\n\u001b[0;32m--> 882\u001b[0;31m             \u001b[0;32mreturn\u001b[0m \u001b[0mself\u001b[0m\u001b[0;34m.\u001b[0m\u001b[0m_get_value\u001b[0m\u001b[0;34m(\u001b[0m\u001b[0mkey\u001b[0m\u001b[0;34m)\u001b[0m\u001b[0;34m\u001b[0m\u001b[0;34m\u001b[0m\u001b[0m\n\u001b[0m\u001b[1;32m    883\u001b[0m \u001b[0;34m\u001b[0m\u001b[0m\n\u001b[1;32m    884\u001b[0m         if (\n",
            "\u001b[0;32m/usr/local/lib/python3.6/dist-packages/pandas/core/series.py\u001b[0m in \u001b[0;36m_get_value\u001b[0;34m(self, label, takeable)\u001b[0m\n\u001b[1;32m    989\u001b[0m \u001b[0;34m\u001b[0m\u001b[0m\n\u001b[1;32m    990\u001b[0m         \u001b[0;31m# Similar to Index.get_value, but we do not fall back to positional\u001b[0m\u001b[0;34m\u001b[0m\u001b[0;34m\u001b[0m\u001b[0;34m\u001b[0m\u001b[0m\n\u001b[0;32m--> 991\u001b[0;31m         \u001b[0mloc\u001b[0m \u001b[0;34m=\u001b[0m \u001b[0mself\u001b[0m\u001b[0;34m.\u001b[0m\u001b[0mindex\u001b[0m\u001b[0;34m.\u001b[0m\u001b[0mget_loc\u001b[0m\u001b[0;34m(\u001b[0m\u001b[0mlabel\u001b[0m\u001b[0;34m)\u001b[0m\u001b[0;34m\u001b[0m\u001b[0;34m\u001b[0m\u001b[0m\n\u001b[0m\u001b[1;32m    992\u001b[0m         \u001b[0;32mreturn\u001b[0m \u001b[0mself\u001b[0m\u001b[0;34m.\u001b[0m\u001b[0mindex\u001b[0m\u001b[0;34m.\u001b[0m\u001b[0m_get_values_for_loc\u001b[0m\u001b[0;34m(\u001b[0m\u001b[0mself\u001b[0m\u001b[0;34m,\u001b[0m \u001b[0mloc\u001b[0m\u001b[0;34m,\u001b[0m \u001b[0mlabel\u001b[0m\u001b[0;34m)\u001b[0m\u001b[0;34m\u001b[0m\u001b[0;34m\u001b[0m\u001b[0m\n\u001b[1;32m    993\u001b[0m \u001b[0;34m\u001b[0m\u001b[0m\n",
            "\u001b[0;32m/usr/local/lib/python3.6/dist-packages/pandas/core/indexes/base.py\u001b[0m in \u001b[0;36mget_loc\u001b[0;34m(self, key, method, tolerance)\u001b[0m\n\u001b[1;32m   2891\u001b[0m                 \u001b[0;32mreturn\u001b[0m \u001b[0mself\u001b[0m\u001b[0;34m.\u001b[0m\u001b[0m_engine\u001b[0m\u001b[0;34m.\u001b[0m\u001b[0mget_loc\u001b[0m\u001b[0;34m(\u001b[0m\u001b[0mcasted_key\u001b[0m\u001b[0;34m)\u001b[0m\u001b[0;34m\u001b[0m\u001b[0;34m\u001b[0m\u001b[0m\n\u001b[1;32m   2892\u001b[0m             \u001b[0;32mexcept\u001b[0m \u001b[0mKeyError\u001b[0m \u001b[0;32mas\u001b[0m \u001b[0merr\u001b[0m\u001b[0;34m:\u001b[0m\u001b[0;34m\u001b[0m\u001b[0;34m\u001b[0m\u001b[0m\n\u001b[0;32m-> 2893\u001b[0;31m                 \u001b[0;32mraise\u001b[0m \u001b[0mKeyError\u001b[0m\u001b[0;34m(\u001b[0m\u001b[0mkey\u001b[0m\u001b[0;34m)\u001b[0m \u001b[0;32mfrom\u001b[0m \u001b[0merr\u001b[0m\u001b[0;34m\u001b[0m\u001b[0;34m\u001b[0m\u001b[0m\n\u001b[0m\u001b[1;32m   2894\u001b[0m \u001b[0;34m\u001b[0m\u001b[0m\n\u001b[1;32m   2895\u001b[0m         \u001b[0;32mif\u001b[0m \u001b[0mtolerance\u001b[0m \u001b[0;32mis\u001b[0m \u001b[0;32mnot\u001b[0m \u001b[0;32mNone\u001b[0m\u001b[0;34m:\u001b[0m\u001b[0;34m\u001b[0m\u001b[0;34m\u001b[0m\u001b[0m\n",
            "\u001b[0;31mKeyError\u001b[0m: 8"
          ]
        }
      ]
    },
    {
      "cell_type": "code",
      "metadata": {
        "id": "O2rpG1Ad4R8I"
      },
      "source": [
        ""
      ],
      "execution_count": 29,
      "outputs": []
    },
    {
      "cell_type": "code",
      "metadata": {
        "id": "YG9fcfdQ6FrD",
        "outputId": "db711291-a262-4fd9-95e5-3ad10e66e53f",
        "colab": {
          "base_uri": "https://localhost:8080/",
          "height": 34
        }
      },
      "source": [
        "dataless.Sex.unique()"
      ],
      "execution_count": null,
      "outputs": [
        {
          "output_type": "execute_result",
          "data": {
            "text/plain": [
              "array(['M', 'F', nan, '.'], dtype=object)"
            ]
          },
          "metadata": {
            "tags": []
          },
          "execution_count": 103
        }
      ]
    },
    {
      "cell_type": "code",
      "metadata": {
        "id": "4XALBvB55FYn",
        "outputId": "06632e41-c936-48ac-a9d9-e28c98420ea9",
        "colab": {
          "base_uri": "https://localhost:8080/",
          "height": 176
        }
      },
      "source": [
        "#i give up it keeps coming out with '.' values. Find out our possible Colors.\n",
        "dataless.Color.unique()"
      ],
      "execution_count": null,
      "outputs": [
        {
          "output_type": "execute_result",
          "data": {
            "text/plain": [
              "array(['.', 'Negro', 'Mulatto', 'Griff', 'Dark Griff', 'Light Black',\n",
              "       'Black', 'Creole Negro', 'Yellow', 'Quarteroon', 'Colored',\n",
              "       'Creole Mulatto', 'Copper', 'Creole', 'Dark Negro',\n",
              "       'Light Mulatto', 'Bright Mulatto', 'Dark', 'Dark Mulatto', 'Brown',\n",
              "       'Light Griff', 'Dark Copper', 'Mulatto, Griff', 'Light Negro',\n",
              "       'Fair Mulatto', 'Bright Color', 'Light', nan, 'Light Brown',\n",
              "       'Albino, Negro', 'Dark Orange, Griff ', 'Chestnut',\n",
              "       'Yellow, Griff', 'Negro ', 'Black Negro', '. ', 'Griff Creole'],\n",
              "      dtype=object)"
            ]
          },
          "metadata": {
            "tags": []
          },
          "execution_count": 104
        }
      ]
    },
    {
      "cell_type": "code",
      "metadata": {
        "id": "P4BllArb8W9j",
        "outputId": "670b1dae-39af-4bff-f428-a533aeecb4e9",
        "colab": {
          "base_uri": "https://localhost:8080/",
          "height": 158
        }
      },
      "source": [
        "#fix their weird spacing for repeating values Also, \"Griff\" is a slave not entirely of African descent but was a number of different ethnicities\n",
        "dataless.loc[(dataless.Color == 'Negro '),'Color']='Negro'\n",
        "dataless.loc[(dataless.Color == '. '),'Color']='.'\n",
        "dataless.Color.unique()"
      ],
      "execution_count": null,
      "outputs": [
        {
          "output_type": "execute_result",
          "data": {
            "text/plain": [
              "array(['.', 'Negro', 'Mulatto', 'Griff', 'Dark Griff', 'Light Black',\n",
              "       'Black', 'Creole Negro', 'Yellow', 'Quarteroon', 'Colored',\n",
              "       'Creole Mulatto', 'Copper', 'Creole', 'Dark Negro',\n",
              "       'Light Mulatto', 'Bright Mulatto', 'Dark', 'Dark Mulatto', 'Brown',\n",
              "       'Light Griff', 'Dark Copper', 'Mulatto, Griff', 'Light Negro',\n",
              "       'Fair Mulatto', 'Bright Color', 'Light', nan, 'Light Brown',\n",
              "       'Albino, Negro', 'Dark Orange, Griff ', 'Chestnut',\n",
              "       'Yellow, Griff', 'Black Negro', 'Griff Creole'], dtype=object)"
            ]
          },
          "metadata": {
            "tags": []
          },
          "execution_count": 106
        }
      ]
    },
    {
      "cell_type": "code",
      "metadata": {
        "id": "30F8WDGU9bpG",
        "outputId": "34bbca55-c7c7-4b73-cd76-49f940a998bc",
        "colab": {
          "base_uri": "https://localhost:8080/",
          "height": 34
        }
      },
      "source": [
        "Quarteroon = dataless['Color'].str.contains('Quarteroon')\n",
        "ttlQuarteroon = Quarteroon.sum()\n",
        "Black = dataless['Color'].str.contains('Black')\n",
        "ttlBlack = Black.sum()\n",
        "Mulatto = dataless['Color'].str.contains('Mulatto')\n",
        "ttlMulatto = Mulatto.sum()\n",
        "print(ttlQuarteroon, ttlBlack, ttlMulatto)"
      ],
      "execution_count": null,
      "outputs": [
        {
          "output_type": "stream",
          "text": [
            "25 293 1485\n"
          ],
          "name": "stdout"
        }
      ]
    },
    {
      "cell_type": "code",
      "metadata": {
        "id": "RfT1P8QO951p"
      },
      "source": [
        "\n"
      ],
      "execution_count": null,
      "outputs": []
    },
    {
      "cell_type": "code",
      "metadata": {
        "id": "K_XxhYS8-KBE"
      },
      "source": [
        ""
      ],
      "execution_count": null,
      "outputs": []
    },
    {
      "cell_type": "code",
      "metadata": {
        "id": "NXPaFf1LBTPU"
      },
      "source": [
        ""
      ],
      "execution_count": null,
      "outputs": []
    }
  ]
}