{
  "nbformat": 4,
  "nbformat_minor": 0,
  "metadata": {
    "colab": {
      "name": "Untitled5.ipynb",
      "provenance": [],
      "include_colab_link": true
    },
    "kernelspec": {
      "name": "python3",
      "display_name": "Python 3"
    }
  },
  "cells": [
    {
      "cell_type": "markdown",
      "metadata": {
        "id": "view-in-github",
        "colab_type": "text"
      },
      "source": [
        "<a href=\"https://colab.research.google.com/github/trmckibben/CalomirisPritchett_data/blob/master/narrowing.ipynb\" target=\"_parent\"><img src=\"https://colab.research.google.com/assets/colab-badge.svg\" alt=\"Open In Colab\"/></a>"
      ]
    },
    {
      "cell_type": "code",
      "metadata": {
        "id": "QZa3qF_qwqCe"
      },
      "source": [
        "import pandas as pa\n",
        "import numpy as np\n",
        "\n",
        "data = pa.read_csv('https://raw.githubusercontent.com/trmckibben/CalomirisPritchett_data/master/CalomirisPritchettdata.csv')"
      ],
      "execution_count": 1,
      "outputs": []
    },
    {
      "cell_type": "code",
      "metadata": {
        "id": "iWy7071heAVC"
      },
      "source": [
        "#fix name cause format is terrible\n",
        "data[\"Sellers Name\"] = data[\"Sellers Last Name\"] + \",\" + \" \" + data[\"Sellers First Name\"]\n",
        "data[\"Buyers Name\"] = data[\"Buyers Last Name\"] + \",\" + \" \" + data[\"Buyers First Name\"]\n",
        "data[\"Notary Name\"] = data[\"Notary Last Name\"] + \",\" + \" \" + data[\"Notary First Name\"]"
      ],
      "execution_count": 2,
      "outputs": []
    },
    {
      "cell_type": "code",
      "metadata": {
        "id": "LC_q_g9Oe4MQ",
        "outputId": "bc71a83e-f121-4baa-e87e-db976868d7b2",
        "colab": {
          "base_uri": "https://localhost:8080/",
          "height": 864
        }
      },
      "source": [
        "data"
      ],
      "execution_count": 3,
      "outputs": [
        {
          "output_type": "execute_result",
          "data": {
            "text/html": [
              "<div>\n",
              "<style scoped>\n",
              "    .dataframe tbody tr th:only-of-type {\n",
              "        vertical-align: middle;\n",
              "    }\n",
              "\n",
              "    .dataframe tbody tr th {\n",
              "        vertical-align: top;\n",
              "    }\n",
              "\n",
              "    .dataframe thead th {\n",
              "        text-align: right;\n",
              "    }\n",
              "</style>\n",
              "<table border=\"1\" class=\"dataframe\">\n",
              "  <thead>\n",
              "    <tr style=\"text-align: right;\">\n",
              "      <th></th>\n",
              "      <th>ID number</th>\n",
              "      <th>Conveyance</th>\n",
              "      <th>Page</th>\n",
              "      <th>Researcher</th>\n",
              "      <th>Notary First Name</th>\n",
              "      <th>Notary Last Name</th>\n",
              "      <th>Sales Date</th>\n",
              "      <th>Sellers First Name</th>\n",
              "      <th>Sellers Last Name</th>\n",
              "      <th>Sellers County of Origin</th>\n",
              "      <th>Sellers State of Origin</th>\n",
              "      <th>Representing Seller</th>\n",
              "      <th>Relationship to Seller</th>\n",
              "      <th>Buyers First Name</th>\n",
              "      <th>Buyers Last Name</th>\n",
              "      <th>Buyers County of Origin</th>\n",
              "      <th>Buyers State of Origin</th>\n",
              "      <th>Representing Buyer</th>\n",
              "      <th>Relationship to Buyer</th>\n",
              "      <th>Slave Name</th>\n",
              "      <th>Sex</th>\n",
              "      <th>Age</th>\n",
              "      <th>Color</th>\n",
              "      <th>Occupation</th>\n",
              "      <th>Family Relationship</th>\n",
              "      <th>Name Child 1</th>\n",
              "      <th>Sex Child 1</th>\n",
              "      <th>Age Child 1</th>\n",
              "      <th>Name Child 2</th>\n",
              "      <th>Sex Child 2</th>\n",
              "      <th>Age Child 2</th>\n",
              "      <th>Name Child 3</th>\n",
              "      <th>Sex Child 3</th>\n",
              "      <th>Age Child 3</th>\n",
              "      <th>Name Child 4</th>\n",
              "      <th>Sex Child 4</th>\n",
              "      <th>Age Child 4</th>\n",
              "      <th>Name Child 5</th>\n",
              "      <th>Sex Child 5</th>\n",
              "      <th>Age Child 5</th>\n",
              "      <th>Name Child 6</th>\n",
              "      <th>Sex Child 6</th>\n",
              "      <th>Age Child 6</th>\n",
              "      <th>Name Child 7</th>\n",
              "      <th>Sex Child 7</th>\n",
              "      <th>Age Child 7</th>\n",
              "      <th>Name Child 8</th>\n",
              "      <th>Sex Child 8</th>\n",
              "      <th>Age Child 8</th>\n",
              "      <th>Guaranteed</th>\n",
              "      <th>Notes on Guarantee</th>\n",
              "      <th>Number of Total Slaves</th>\n",
              "      <th>Number of Adult Slaves</th>\n",
              "      <th>Number of Child Slaves</th>\n",
              "      <th>Number of Prices</th>\n",
              "      <th>Price</th>\n",
              "      <th>Payment Method</th>\n",
              "      <th>Payment flag</th>\n",
              "      <th>DUMMY credit</th>\n",
              "      <th>Down Payment</th>\n",
              "      <th>mthcred</th>\n",
              "      <th>Interest Rate</th>\n",
              "      <th>Discount Rate</th>\n",
              "      <th>predicted rate</th>\n",
              "      <th>Calculations</th>\n",
              "      <th>Ratio</th>\n",
              "      <th>PresentValue</th>\n",
              "      <th>DUMMY omission</th>\n",
              "      <th>Reason for Omission</th>\n",
              "      <th>Comments</th>\n",
              "      <th>DUMMY Estate Sale</th>\n",
              "      <th>Sellers Name</th>\n",
              "      <th>Buyers Name</th>\n",
              "      <th>Notary Name</th>\n",
              "    </tr>\n",
              "  </thead>\n",
              "  <tbody>\n",
              "    <tr>\n",
              "      <th>0</th>\n",
              "      <td>1</td>\n",
              "      <td>70</td>\n",
              "      <td>348</td>\n",
              "      <td>MS</td>\n",
              "      <td>John French</td>\n",
              "      <td>Coffey</td>\n",
              "      <td>10/6/1856</td>\n",
              "      <td>Benjamin</td>\n",
              "      <td>Screws</td>\n",
              "      <td>.</td>\n",
              "      <td>AL</td>\n",
              "      <td>James Whitfield Bozeman</td>\n",
              "      <td>Agent</td>\n",
              "      <td>Maria</td>\n",
              "      <td>Hopson</td>\n",
              "      <td>.</td>\n",
              "      <td>.</td>\n",
              "      <td>.</td>\n",
              "      <td>.</td>\n",
              "      <td>Shadrack</td>\n",
              "      <td>M</td>\n",
              "      <td>40</td>\n",
              "      <td>.</td>\n",
              "      <td>.</td>\n",
              "      <td>.</td>\n",
              "      <td>.</td>\n",
              "      <td>.</td>\n",
              "      <td>.</td>\n",
              "      <td>.</td>\n",
              "      <td>.</td>\n",
              "      <td>.</td>\n",
              "      <td>.</td>\n",
              "      <td>.</td>\n",
              "      <td>.</td>\n",
              "      <td>.</td>\n",
              "      <td>.</td>\n",
              "      <td>.</td>\n",
              "      <td>.</td>\n",
              "      <td>.</td>\n",
              "      <td>.</td>\n",
              "      <td>.</td>\n",
              "      <td>.</td>\n",
              "      <td>.</td>\n",
              "      <td>.</td>\n",
              "      <td>.</td>\n",
              "      <td>.</td>\n",
              "      <td>.</td>\n",
              "      <td>.</td>\n",
              "      <td>.</td>\n",
              "      <td>.</td>\n",
              "      <td>.</td>\n",
              "      <td>1</td>\n",
              "      <td>1</td>\n",
              "      <td>0</td>\n",
              "      <td>1</td>\n",
              "      <td>650</td>\n",
              "      <td>Cash</td>\n",
              "      <td>NaN</td>\n",
              "      <td>0</td>\n",
              "      <td>NaN</td>\n",
              "      <td>NaN</td>\n",
              "      <td>NaN</td>\n",
              "      <td>0.00602698</td>\n",
              "      <td>0.07477</td>\n",
              "      <td>NaN</td>\n",
              "      <td>NaN</td>\n",
              "      <td>NaN</td>\n",
              "      <td>0</td>\n",
              "      <td>NaN</td>\n",
              "      <td>NaN</td>\n",
              "      <td>NaN</td>\n",
              "      <td>Screws, Benjamin</td>\n",
              "      <td>Hopson, Maria</td>\n",
              "      <td>Coffey, John French</td>\n",
              "    </tr>\n",
              "    <tr>\n",
              "      <th>1</th>\n",
              "      <td>2</td>\n",
              "      <td>70</td>\n",
              "      <td>349</td>\n",
              "      <td>MS</td>\n",
              "      <td>William</td>\n",
              "      <td>Shannon</td>\n",
              "      <td>10/7/1856</td>\n",
              "      <td>Santiago</td>\n",
              "      <td>Galseran</td>\n",
              "      <td>New Orleans</td>\n",
              "      <td>LA</td>\n",
              "      <td>.</td>\n",
              "      <td>.</td>\n",
              "      <td>Peyton N.</td>\n",
              "      <td>Reynolds</td>\n",
              "      <td>New Orleans</td>\n",
              "      <td>LA</td>\n",
              "      <td>.</td>\n",
              "      <td>.</td>\n",
              "      <td>Jane</td>\n",
              "      <td>F</td>\n",
              "      <td>44</td>\n",
              "      <td>Negro</td>\n",
              "      <td>.</td>\n",
              "      <td>.</td>\n",
              "      <td>.</td>\n",
              "      <td>.</td>\n",
              "      <td>.</td>\n",
              "      <td>.</td>\n",
              "      <td>.</td>\n",
              "      <td>.</td>\n",
              "      <td>.</td>\n",
              "      <td>.</td>\n",
              "      <td>.</td>\n",
              "      <td>.</td>\n",
              "      <td>.</td>\n",
              "      <td>.</td>\n",
              "      <td>.</td>\n",
              "      <td>.</td>\n",
              "      <td>.</td>\n",
              "      <td>.</td>\n",
              "      <td>.</td>\n",
              "      <td>.</td>\n",
              "      <td>.</td>\n",
              "      <td>.</td>\n",
              "      <td>.</td>\n",
              "      <td>.</td>\n",
              "      <td>.</td>\n",
              "      <td>.</td>\n",
              "      <td>.</td>\n",
              "      <td>.</td>\n",
              "      <td>1</td>\n",
              "      <td>1</td>\n",
              "      <td>0</td>\n",
              "      <td>1</td>\n",
              "      <td>550</td>\n",
              "      <td>Cash</td>\n",
              "      <td>NaN</td>\n",
              "      <td>0</td>\n",
              "      <td>NaN</td>\n",
              "      <td>NaN</td>\n",
              "      <td>NaN</td>\n",
              "      <td>0.00602698</td>\n",
              "      <td>0.07477</td>\n",
              "      <td>NaN</td>\n",
              "      <td>NaN</td>\n",
              "      <td>NaN</td>\n",
              "      <td>0</td>\n",
              "      <td>NaN</td>\n",
              "      <td>NaN</td>\n",
              "      <td>NaN</td>\n",
              "      <td>Galseran, Santiago</td>\n",
              "      <td>Reynolds, Peyton N.</td>\n",
              "      <td>Shannon, William</td>\n",
              "    </tr>\n",
              "    <tr>\n",
              "      <th>2</th>\n",
              "      <td>3</td>\n",
              "      <td>70</td>\n",
              "      <td>351</td>\n",
              "      <td>MS</td>\n",
              "      <td>Edward George</td>\n",
              "      <td>Gottschalk</td>\n",
              "      <td>10/1/1856</td>\n",
              "      <td>Pierre</td>\n",
              "      <td>Macou</td>\n",
              "      <td>New Orleans</td>\n",
              "      <td>LA</td>\n",
              "      <td>Jean Louis Moinet</td>\n",
              "      <td>Joint Seller</td>\n",
              "      <td>Heloise</td>\n",
              "      <td>Bagneris</td>\n",
              "      <td>New Orleans</td>\n",
              "      <td>LA</td>\n",
              "      <td>.</td>\n",
              "      <td>.</td>\n",
              "      <td>Helen</td>\n",
              "      <td>F</td>\n",
              "      <td>24</td>\n",
              "      <td>Negro</td>\n",
              "      <td>.</td>\n",
              "      <td>.</td>\n",
              "      <td>.</td>\n",
              "      <td>.</td>\n",
              "      <td>.</td>\n",
              "      <td>.</td>\n",
              "      <td>.</td>\n",
              "      <td>.</td>\n",
              "      <td>.</td>\n",
              "      <td>.</td>\n",
              "      <td>.</td>\n",
              "      <td>.</td>\n",
              "      <td>.</td>\n",
              "      <td>.</td>\n",
              "      <td>.</td>\n",
              "      <td>.</td>\n",
              "      <td>.</td>\n",
              "      <td>.</td>\n",
              "      <td>.</td>\n",
              "      <td>.</td>\n",
              "      <td>.</td>\n",
              "      <td>.</td>\n",
              "      <td>.</td>\n",
              "      <td>.</td>\n",
              "      <td>.</td>\n",
              "      <td>.</td>\n",
              "      <td>.</td>\n",
              "      <td>.</td>\n",
              "      <td>1</td>\n",
              "      <td>1</td>\n",
              "      <td>0</td>\n",
              "      <td>1</td>\n",
              "      <td>1000</td>\n",
              "      <td>Cash</td>\n",
              "      <td>NaN</td>\n",
              "      <td>0</td>\n",
              "      <td>NaN</td>\n",
              "      <td>NaN</td>\n",
              "      <td>NaN</td>\n",
              "      <td>0.00602698</td>\n",
              "      <td>0.07477</td>\n",
              "      <td>NaN</td>\n",
              "      <td>NaN</td>\n",
              "      <td>NaN</td>\n",
              "      <td>0</td>\n",
              "      <td>NaN</td>\n",
              "      <td>NaN</td>\n",
              "      <td>NaN</td>\n",
              "      <td>Macou, Pierre</td>\n",
              "      <td>Bagneris, Heloise</td>\n",
              "      <td>Gottschalk, Edward George</td>\n",
              "    </tr>\n",
              "    <tr>\n",
              "      <th>3</th>\n",
              "      <td>4</td>\n",
              "      <td>70</td>\n",
              "      <td>352</td>\n",
              "      <td>MS</td>\n",
              "      <td>Paul Emile</td>\n",
              "      <td>Laresche</td>\n",
              "      <td>10/8/1856</td>\n",
              "      <td>Benjamin Franklin</td>\n",
              "      <td>Irby</td>\n",
              "      <td>Vanzand</td>\n",
              "      <td>TX</td>\n",
              "      <td>.</td>\n",
              "      <td>.</td>\n",
              "      <td>Francis</td>\n",
              "      <td>Dugue Jr.</td>\n",
              "      <td>Jefferson</td>\n",
              "      <td>LA</td>\n",
              "      <td>.</td>\n",
              "      <td>.</td>\n",
              "      <td>Jeff</td>\n",
              "      <td>M</td>\n",
              "      <td>23</td>\n",
              "      <td>Negro</td>\n",
              "      <td>.</td>\n",
              "      <td>.</td>\n",
              "      <td>.</td>\n",
              "      <td>.</td>\n",
              "      <td>.</td>\n",
              "      <td>.</td>\n",
              "      <td>.</td>\n",
              "      <td>.</td>\n",
              "      <td>.</td>\n",
              "      <td>.</td>\n",
              "      <td>.</td>\n",
              "      <td>.</td>\n",
              "      <td>.</td>\n",
              "      <td>.</td>\n",
              "      <td>.</td>\n",
              "      <td>.</td>\n",
              "      <td>.</td>\n",
              "      <td>.</td>\n",
              "      <td>.</td>\n",
              "      <td>.</td>\n",
              "      <td>.</td>\n",
              "      <td>.</td>\n",
              "      <td>.</td>\n",
              "      <td>.</td>\n",
              "      <td>.</td>\n",
              "      <td>.</td>\n",
              "      <td>.</td>\n",
              "      <td>.</td>\n",
              "      <td>1</td>\n",
              "      <td>1</td>\n",
              "      <td>0</td>\n",
              "      <td>1</td>\n",
              "      <td>1400</td>\n",
              "      <td>Cash</td>\n",
              "      <td>NaN</td>\n",
              "      <td>0</td>\n",
              "      <td>NaN</td>\n",
              "      <td>NaN</td>\n",
              "      <td>NaN</td>\n",
              "      <td>0.00602698</td>\n",
              "      <td>0.07477</td>\n",
              "      <td>NaN</td>\n",
              "      <td>NaN</td>\n",
              "      <td>NaN</td>\n",
              "      <td>0</td>\n",
              "      <td>NaN</td>\n",
              "      <td>NaN</td>\n",
              "      <td>NaN</td>\n",
              "      <td>Irby, Benjamin Franklin</td>\n",
              "      <td>Dugue Jr., Francis</td>\n",
              "      <td>Laresche, Paul Emile</td>\n",
              "    </tr>\n",
              "    <tr>\n",
              "      <th>4</th>\n",
              "      <td>5</td>\n",
              "      <td>70</td>\n",
              "      <td>352</td>\n",
              "      <td>MS</td>\n",
              "      <td>George</td>\n",
              "      <td>Rareshide</td>\n",
              "      <td>10/8/1856</td>\n",
              "      <td>Richard</td>\n",
              "      <td>Condon</td>\n",
              "      <td>New Orleans</td>\n",
              "      <td>LA</td>\n",
              "      <td>.</td>\n",
              "      <td>.</td>\n",
              "      <td>Anthony</td>\n",
              "      <td>O'Dowd</td>\n",
              "      <td>New Orleans</td>\n",
              "      <td>LA</td>\n",
              "      <td>.</td>\n",
              "      <td>.</td>\n",
              "      <td>John</td>\n",
              "      <td>M</td>\n",
              "      <td>12</td>\n",
              "      <td>Negro</td>\n",
              "      <td>.</td>\n",
              "      <td>.</td>\n",
              "      <td>.</td>\n",
              "      <td>.</td>\n",
              "      <td>.</td>\n",
              "      <td>.</td>\n",
              "      <td>.</td>\n",
              "      <td>.</td>\n",
              "      <td>.</td>\n",
              "      <td>.</td>\n",
              "      <td>.</td>\n",
              "      <td>.</td>\n",
              "      <td>.</td>\n",
              "      <td>.</td>\n",
              "      <td>.</td>\n",
              "      <td>.</td>\n",
              "      <td>.</td>\n",
              "      <td>.</td>\n",
              "      <td>.</td>\n",
              "      <td>.</td>\n",
              "      <td>.</td>\n",
              "      <td>.</td>\n",
              "      <td>.</td>\n",
              "      <td>.</td>\n",
              "      <td>.</td>\n",
              "      <td>.</td>\n",
              "      <td>.</td>\n",
              "      <td>.</td>\n",
              "      <td>1</td>\n",
              "      <td>1</td>\n",
              "      <td>0</td>\n",
              "      <td>1</td>\n",
              "      <td>700</td>\n",
              "      <td>Cash</td>\n",
              "      <td>NaN</td>\n",
              "      <td>0</td>\n",
              "      <td>NaN</td>\n",
              "      <td>NaN</td>\n",
              "      <td>NaN</td>\n",
              "      <td>0.00602698</td>\n",
              "      <td>0.07477</td>\n",
              "      <td>NaN</td>\n",
              "      <td>NaN</td>\n",
              "      <td>NaN</td>\n",
              "      <td>0</td>\n",
              "      <td>NaN</td>\n",
              "      <td>NaN</td>\n",
              "      <td>NaN</td>\n",
              "      <td>Condon, Richard</td>\n",
              "      <td>O'Dowd, Anthony</td>\n",
              "      <td>Rareshide, George</td>\n",
              "    </tr>\n",
              "    <tr>\n",
              "      <th>...</th>\n",
              "      <td>...</td>\n",
              "      <td>...</td>\n",
              "      <td>...</td>\n",
              "      <td>...</td>\n",
              "      <td>...</td>\n",
              "      <td>...</td>\n",
              "      <td>...</td>\n",
              "      <td>...</td>\n",
              "      <td>...</td>\n",
              "      <td>...</td>\n",
              "      <td>...</td>\n",
              "      <td>...</td>\n",
              "      <td>...</td>\n",
              "      <td>...</td>\n",
              "      <td>...</td>\n",
              "      <td>...</td>\n",
              "      <td>...</td>\n",
              "      <td>...</td>\n",
              "      <td>...</td>\n",
              "      <td>...</td>\n",
              "      <td>...</td>\n",
              "      <td>...</td>\n",
              "      <td>...</td>\n",
              "      <td>...</td>\n",
              "      <td>...</td>\n",
              "      <td>...</td>\n",
              "      <td>...</td>\n",
              "      <td>...</td>\n",
              "      <td>...</td>\n",
              "      <td>...</td>\n",
              "      <td>...</td>\n",
              "      <td>...</td>\n",
              "      <td>...</td>\n",
              "      <td>...</td>\n",
              "      <td>...</td>\n",
              "      <td>...</td>\n",
              "      <td>...</td>\n",
              "      <td>...</td>\n",
              "      <td>...</td>\n",
              "      <td>...</td>\n",
              "      <td>...</td>\n",
              "      <td>...</td>\n",
              "      <td>...</td>\n",
              "      <td>...</td>\n",
              "      <td>...</td>\n",
              "      <td>...</td>\n",
              "      <td>...</td>\n",
              "      <td>...</td>\n",
              "      <td>...</td>\n",
              "      <td>...</td>\n",
              "      <td>...</td>\n",
              "      <td>...</td>\n",
              "      <td>...</td>\n",
              "      <td>...</td>\n",
              "      <td>...</td>\n",
              "      <td>...</td>\n",
              "      <td>...</td>\n",
              "      <td>...</td>\n",
              "      <td>...</td>\n",
              "      <td>...</td>\n",
              "      <td>...</td>\n",
              "      <td>...</td>\n",
              "      <td>...</td>\n",
              "      <td>...</td>\n",
              "      <td>...</td>\n",
              "      <td>...</td>\n",
              "      <td>...</td>\n",
              "      <td>...</td>\n",
              "      <td>...</td>\n",
              "      <td>...</td>\n",
              "      <td>...</td>\n",
              "      <td>...</td>\n",
              "      <td>...</td>\n",
              "      <td>...</td>\n",
              "    </tr>\n",
              "    <tr>\n",
              "      <th>14708</th>\n",
              "      <td>15321</td>\n",
              "      <td>87</td>\n",
              "      <td>265</td>\n",
              "      <td>KRZC</td>\n",
              "      <td>Amedee</td>\n",
              "      <td>Ducatel</td>\n",
              "      <td>8/3/1861</td>\n",
              "      <td>Nywatt C.</td>\n",
              "      <td>Cutler</td>\n",
              "      <td>Jefferson</td>\n",
              "      <td>LA</td>\n",
              "      <td>.</td>\n",
              "      <td>.</td>\n",
              "      <td>Matthew Jules</td>\n",
              "      <td>Bujac</td>\n",
              "      <td>New Orleans</td>\n",
              "      <td>LA</td>\n",
              "      <td>.</td>\n",
              "      <td>.</td>\n",
              "      <td>Thomassine</td>\n",
              "      <td>F</td>\n",
              "      <td>25</td>\n",
              "      <td>Mulatto</td>\n",
              "      <td>.</td>\n",
              "      <td>Mother of 1 Child</td>\n",
              "      <td>Ernest</td>\n",
              "      <td>M</td>\n",
              "      <td>8</td>\n",
              "      <td>.</td>\n",
              "      <td>.</td>\n",
              "      <td>.</td>\n",
              "      <td>.</td>\n",
              "      <td>.</td>\n",
              "      <td>.</td>\n",
              "      <td>.</td>\n",
              "      <td>.</td>\n",
              "      <td>.</td>\n",
              "      <td>.</td>\n",
              "      <td>.</td>\n",
              "      <td>.</td>\n",
              "      <td>.</td>\n",
              "      <td>.</td>\n",
              "      <td>.</td>\n",
              "      <td>.</td>\n",
              "      <td>.</td>\n",
              "      <td>.</td>\n",
              "      <td>.</td>\n",
              "      <td>.</td>\n",
              "      <td>.</td>\n",
              "      <td>.</td>\n",
              "      <td>.</td>\n",
              "      <td>2</td>\n",
              "      <td>1</td>\n",
              "      <td>1</td>\n",
              "      <td>1</td>\n",
              "      <td>1100</td>\n",
              "      <td>Cash</td>\n",
              "      <td>NaN</td>\n",
              "      <td>0</td>\n",
              "      <td>NaN</td>\n",
              "      <td>NaN</td>\n",
              "      <td>NaN</td>\n",
              "      <td>0.00602698</td>\n",
              "      <td>0.07477</td>\n",
              "      <td>NaN</td>\n",
              "      <td>NaN</td>\n",
              "      <td>NaN</td>\n",
              "      <td>0</td>\n",
              "      <td>NaN</td>\n",
              "      <td>NaN</td>\n",
              "      <td>NaN</td>\n",
              "      <td>Cutler, Nywatt C.</td>\n",
              "      <td>Bujac, Matthew Jules</td>\n",
              "      <td>Ducatel, Amedee</td>\n",
              "    </tr>\n",
              "    <tr>\n",
              "      <th>14709</th>\n",
              "      <td>15370</td>\n",
              "      <td>87</td>\n",
              "      <td>332</td>\n",
              "      <td>KRZC</td>\n",
              "      <td>Adolphe</td>\n",
              "      <td>Mazareau</td>\n",
              "      <td>5/7/1861</td>\n",
              "      <td>John G.</td>\n",
              "      <td>Chadwick</td>\n",
              "      <td>New Orleans</td>\n",
              "      <td>LA</td>\n",
              "      <td>.</td>\n",
              "      <td>.</td>\n",
              "      <td>Sarah Ann</td>\n",
              "      <td>Chadwick</td>\n",
              "      <td>New Orleans</td>\n",
              "      <td>LA</td>\n",
              "      <td>.</td>\n",
              "      <td>.</td>\n",
              "      <td>Lucinda</td>\n",
              "      <td>F</td>\n",
              "      <td>24</td>\n",
              "      <td>Negro</td>\n",
              "      <td>.</td>\n",
              "      <td>Mother of 1 Child</td>\n",
              "      <td>.</td>\n",
              "      <td>.</td>\n",
              "      <td>.</td>\n",
              "      <td>.</td>\n",
              "      <td>.</td>\n",
              "      <td>.</td>\n",
              "      <td>.</td>\n",
              "      <td>.</td>\n",
              "      <td>.</td>\n",
              "      <td>.</td>\n",
              "      <td>.</td>\n",
              "      <td>.</td>\n",
              "      <td>.</td>\n",
              "      <td>.</td>\n",
              "      <td>.</td>\n",
              "      <td>.</td>\n",
              "      <td>.</td>\n",
              "      <td>.</td>\n",
              "      <td>.</td>\n",
              "      <td>.</td>\n",
              "      <td>.</td>\n",
              "      <td>.</td>\n",
              "      <td>.</td>\n",
              "      <td>.</td>\n",
              "      <td>Yes</td>\n",
              "      <td>Fully guaranteed</td>\n",
              "      <td>3</td>\n",
              "      <td>3</td>\n",
              "      <td>0</td>\n",
              "      <td>1</td>\n",
              "      <td>1600</td>\n",
              "      <td>Cash and Credit</td>\n",
              "      <td>200 paid cash with a note for 1400 due in 2 ye...</td>\n",
              "      <td>1</td>\n",
              "      <td>200</td>\n",
              "      <td>24</td>\n",
              "      <td>0.08</td>\n",
              "      <td>0.006054689</td>\n",
              "      <td>0.07512528</td>\n",
              "      <td>NaN</td>\n",
              "      <td>NaN</td>\n",
              "      <td>1600</td>\n",
              "      <td>1</td>\n",
              "      <td>OMIT: Group sale</td>\n",
              "      <td>NaN</td>\n",
              "      <td>NaN</td>\n",
              "      <td>Chadwick, John G.</td>\n",
              "      <td>Chadwick, Sarah Ann</td>\n",
              "      <td>Mazareau, Adolphe</td>\n",
              "    </tr>\n",
              "    <tr>\n",
              "      <th>14710</th>\n",
              "      <td>15371</td>\n",
              "      <td>87</td>\n",
              "      <td>332</td>\n",
              "      <td>KRZC</td>\n",
              "      <td>Adolphe</td>\n",
              "      <td>Mazareau</td>\n",
              "      <td>5/7/1861</td>\n",
              "      <td>John G.</td>\n",
              "      <td>Chadwick</td>\n",
              "      <td>New Orleans</td>\n",
              "      <td>LA</td>\n",
              "      <td>.</td>\n",
              "      <td>.</td>\n",
              "      <td>Sarah Ann</td>\n",
              "      <td>Chadwick</td>\n",
              "      <td>New Orleans</td>\n",
              "      <td>LA</td>\n",
              "      <td>.</td>\n",
              "      <td>.</td>\n",
              "      <td>Child</td>\n",
              "      <td>.</td>\n",
              "      <td>1</td>\n",
              "      <td>.</td>\n",
              "      <td>.</td>\n",
              "      <td>Child of Lucinda</td>\n",
              "      <td>.</td>\n",
              "      <td>.</td>\n",
              "      <td>.</td>\n",
              "      <td>.</td>\n",
              "      <td>.</td>\n",
              "      <td>.</td>\n",
              "      <td>.</td>\n",
              "      <td>.</td>\n",
              "      <td>.</td>\n",
              "      <td>.</td>\n",
              "      <td>.</td>\n",
              "      <td>.</td>\n",
              "      <td>.</td>\n",
              "      <td>.</td>\n",
              "      <td>.</td>\n",
              "      <td>.</td>\n",
              "      <td>.</td>\n",
              "      <td>.</td>\n",
              "      <td>.</td>\n",
              "      <td>.</td>\n",
              "      <td>.</td>\n",
              "      <td>.</td>\n",
              "      <td>.</td>\n",
              "      <td>.</td>\n",
              "      <td>Yes</td>\n",
              "      <td>Fully guaranteed</td>\n",
              "      <td>3</td>\n",
              "      <td>3</td>\n",
              "      <td>0</td>\n",
              "      <td>1</td>\n",
              "      <td>NaN</td>\n",
              "      <td>NaN</td>\n",
              "      <td>NaN</td>\n",
              "      <td>1</td>\n",
              "      <td>NaN</td>\n",
              "      <td>NaN</td>\n",
              "      <td>NaN</td>\n",
              "      <td>0.00602698</td>\n",
              "      <td>0.07477</td>\n",
              "      <td>NaN</td>\n",
              "      <td>NaN</td>\n",
              "      <td>NaN</td>\n",
              "      <td>1</td>\n",
              "      <td>OMIT: Group sale</td>\n",
              "      <td>NaN</td>\n",
              "      <td>NaN</td>\n",
              "      <td>Chadwick, John G.</td>\n",
              "      <td>Chadwick, Sarah Ann</td>\n",
              "      <td>Mazareau, Adolphe</td>\n",
              "    </tr>\n",
              "    <tr>\n",
              "      <th>14711</th>\n",
              "      <td>15372</td>\n",
              "      <td>87</td>\n",
              "      <td>332</td>\n",
              "      <td>KRZC</td>\n",
              "      <td>Adolphe</td>\n",
              "      <td>Mazareau</td>\n",
              "      <td>5/7/1861</td>\n",
              "      <td>John G.</td>\n",
              "      <td>Chadwick</td>\n",
              "      <td>New Orleans</td>\n",
              "      <td>LA</td>\n",
              "      <td>.</td>\n",
              "      <td>.</td>\n",
              "      <td>Sarah Ann</td>\n",
              "      <td>Chadwick</td>\n",
              "      <td>New Orleans</td>\n",
              "      <td>LA</td>\n",
              "      <td>.</td>\n",
              "      <td>.</td>\n",
              "      <td>Martha</td>\n",
              "      <td>F</td>\n",
              "      <td>46</td>\n",
              "      <td>Negro</td>\n",
              "      <td>.</td>\n",
              "      <td>.</td>\n",
              "      <td>.</td>\n",
              "      <td>.</td>\n",
              "      <td>.</td>\n",
              "      <td>.</td>\n",
              "      <td>.</td>\n",
              "      <td>.</td>\n",
              "      <td>.</td>\n",
              "      <td>.</td>\n",
              "      <td>.</td>\n",
              "      <td>.</td>\n",
              "      <td>.</td>\n",
              "      <td>.</td>\n",
              "      <td>.</td>\n",
              "      <td>.</td>\n",
              "      <td>.</td>\n",
              "      <td>.</td>\n",
              "      <td>.</td>\n",
              "      <td>.</td>\n",
              "      <td>.</td>\n",
              "      <td>.</td>\n",
              "      <td>.</td>\n",
              "      <td>.</td>\n",
              "      <td>.</td>\n",
              "      <td>.</td>\n",
              "      <td>Yes</td>\n",
              "      <td>Fully guaranteed</td>\n",
              "      <td>3</td>\n",
              "      <td>3</td>\n",
              "      <td>0</td>\n",
              "      <td>1</td>\n",
              "      <td>NaN</td>\n",
              "      <td>NaN</td>\n",
              "      <td>NaN</td>\n",
              "      <td>1</td>\n",
              "      <td>NaN</td>\n",
              "      <td>NaN</td>\n",
              "      <td>NaN</td>\n",
              "      <td>0.00602698</td>\n",
              "      <td>0.07477</td>\n",
              "      <td>NaN</td>\n",
              "      <td>NaN</td>\n",
              "      <td>NaN</td>\n",
              "      <td>1</td>\n",
              "      <td>OMIT: Group sale</td>\n",
              "      <td>NaN</td>\n",
              "      <td>NaN</td>\n",
              "      <td>Chadwick, John G.</td>\n",
              "      <td>Chadwick, Sarah Ann</td>\n",
              "      <td>Mazareau, Adolphe</td>\n",
              "    </tr>\n",
              "    <tr>\n",
              "      <th>14712</th>\n",
              "      <td>15377</td>\n",
              "      <td>87</td>\n",
              "      <td>340</td>\n",
              "      <td>KRZC</td>\n",
              "      <td>Amedee</td>\n",
              "      <td>Ducatel</td>\n",
              "      <td>7/29/1861</td>\n",
              "      <td>Antoine</td>\n",
              "      <td>Guidry</td>\n",
              "      <td>Lafayette</td>\n",
              "      <td>LA</td>\n",
              "      <td>.</td>\n",
              "      <td>.</td>\n",
              "      <td>Pierre</td>\n",
              "      <td>Balois</td>\n",
              "      <td>New Orleans</td>\n",
              "      <td>LA</td>\n",
              "      <td>.</td>\n",
              "      <td>.</td>\n",
              "      <td>Emilien</td>\n",
              "      <td>M</td>\n",
              "      <td>42</td>\n",
              "      <td>.</td>\n",
              "      <td>.</td>\n",
              "      <td>.</td>\n",
              "      <td>.</td>\n",
              "      <td>.</td>\n",
              "      <td>.</td>\n",
              "      <td>.</td>\n",
              "      <td>.</td>\n",
              "      <td>.</td>\n",
              "      <td>.</td>\n",
              "      <td>.</td>\n",
              "      <td>.</td>\n",
              "      <td>.</td>\n",
              "      <td>.</td>\n",
              "      <td>.</td>\n",
              "      <td>.</td>\n",
              "      <td>.</td>\n",
              "      <td>.</td>\n",
              "      <td>.</td>\n",
              "      <td>.</td>\n",
              "      <td>.</td>\n",
              "      <td>.</td>\n",
              "      <td>.</td>\n",
              "      <td>.</td>\n",
              "      <td>.</td>\n",
              "      <td>.</td>\n",
              "      <td>.</td>\n",
              "      <td>.</td>\n",
              "      <td>.</td>\n",
              "      <td>1</td>\n",
              "      <td>1</td>\n",
              "      <td>0</td>\n",
              "      <td>1</td>\n",
              "      <td>1600</td>\n",
              "      <td>Cash and Credit</td>\n",
              "      <td>800 paid cash with a note for 800 due 1/3/1862...</td>\n",
              "      <td>1</td>\n",
              "      <td>800</td>\n",
              "      <td>10</td>\n",
              "      <td>0.08</td>\n",
              "      <td>0.005849522</td>\n",
              "      <td>0.0724972</td>\n",
              "      <td>NaN</td>\n",
              "      <td>NaN</td>\n",
              "      <td>1600</td>\n",
              "      <td>0</td>\n",
              "      <td>NaN</td>\n",
              "      <td>NaN</td>\n",
              "      <td>NaN</td>\n",
              "      <td>Guidry , Antoine</td>\n",
              "      <td>Balois, Pierre</td>\n",
              "      <td>Ducatel, Amedee</td>\n",
              "    </tr>\n",
              "  </tbody>\n",
              "</table>\n",
              "<p>14713 rows × 74 columns</p>\n",
              "</div>"
            ],
            "text/plain": [
              "       ID number  Conveyance  ...           Buyers Name                Notary Name\n",
              "0              1          70  ...         Hopson, Maria        Coffey, John French\n",
              "1              2          70  ...   Reynolds, Peyton N.           Shannon, William\n",
              "2              3          70  ...     Bagneris, Heloise  Gottschalk, Edward George\n",
              "3              4          70  ...    Dugue Jr., Francis       Laresche, Paul Emile\n",
              "4              5          70  ...       O'Dowd, Anthony          Rareshide, George\n",
              "...          ...         ...  ...                   ...                        ...\n",
              "14708      15321          87  ...  Bujac, Matthew Jules            Ducatel, Amedee\n",
              "14709      15370          87  ...   Chadwick, Sarah Ann          Mazareau, Adolphe\n",
              "14710      15371          87  ...   Chadwick, Sarah Ann          Mazareau, Adolphe\n",
              "14711      15372          87  ...   Chadwick, Sarah Ann          Mazareau, Adolphe\n",
              "14712      15377          87  ...        Balois, Pierre            Ducatel, Amedee\n",
              "\n",
              "[14713 rows x 74 columns]"
            ]
          },
          "metadata": {
            "tags": []
          },
          "execution_count": 3
        }
      ]
    },
    {
      "cell_type": "code",
      "metadata": {
        "id": "TQs4AH_Qe5Ve"
      },
      "source": [
        "#getting all of the column names\n",
        "cols = list(data.columns.values)"
      ],
      "execution_count": 4,
      "outputs": []
    },
    {
      "cell_type": "code",
      "metadata": {
        "id": "ehjTGV-OgzBX",
        "outputId": "bfae7603-45e2-4f5b-9470-ffb28481fb0b",
        "colab": {
          "base_uri": "https://localhost:8080/"
        }
      },
      "source": [
        "cols"
      ],
      "execution_count": 5,
      "outputs": [
        {
          "output_type": "execute_result",
          "data": {
            "text/plain": [
              "['ID number',\n",
              " 'Conveyance',\n",
              " 'Page',\n",
              " 'Researcher',\n",
              " 'Notary First Name',\n",
              " 'Notary Last Name',\n",
              " 'Sales Date',\n",
              " 'Sellers First Name',\n",
              " 'Sellers Last Name',\n",
              " 'Sellers County of Origin',\n",
              " 'Sellers State of Origin',\n",
              " 'Representing Seller',\n",
              " 'Relationship to Seller',\n",
              " 'Buyers First Name',\n",
              " 'Buyers Last Name',\n",
              " 'Buyers County of Origin',\n",
              " 'Buyers State of Origin',\n",
              " 'Representing Buyer',\n",
              " 'Relationship to Buyer',\n",
              " 'Slave Name',\n",
              " 'Sex',\n",
              " 'Age',\n",
              " 'Color',\n",
              " 'Occupation',\n",
              " 'Family Relationship',\n",
              " 'Name Child 1',\n",
              " 'Sex Child 1',\n",
              " 'Age Child 1',\n",
              " 'Name Child 2',\n",
              " 'Sex Child 2',\n",
              " 'Age Child 2',\n",
              " 'Name Child 3',\n",
              " 'Sex Child 3',\n",
              " 'Age Child 3',\n",
              " 'Name Child 4',\n",
              " 'Sex Child 4',\n",
              " 'Age Child 4',\n",
              " 'Name Child 5',\n",
              " 'Sex Child 5',\n",
              " 'Age Child 5',\n",
              " 'Name Child 6',\n",
              " 'Sex Child 6',\n",
              " 'Age Child 6',\n",
              " 'Name Child 7',\n",
              " 'Sex Child 7',\n",
              " 'Age Child 7',\n",
              " 'Name Child 8',\n",
              " 'Sex Child 8',\n",
              " 'Age Child 8',\n",
              " 'Guaranteed',\n",
              " 'Notes on Guarantee',\n",
              " 'Number of Total Slaves',\n",
              " 'Number of Adult Slaves',\n",
              " 'Number of Child Slaves',\n",
              " 'Number of Prices',\n",
              " 'Price',\n",
              " 'Payment Method',\n",
              " 'Payment flag',\n",
              " 'DUMMY credit',\n",
              " 'Down Payment',\n",
              " 'mthcred',\n",
              " 'Interest Rate',\n",
              " 'Discount Rate',\n",
              " 'predicted rate',\n",
              " 'Calculations',\n",
              " 'Ratio',\n",
              " 'PresentValue',\n",
              " 'DUMMY omission',\n",
              " 'Reason for Omission',\n",
              " 'Comments',\n",
              " 'DUMMY Estate Sale',\n",
              " 'Sellers Name',\n",
              " 'Buyers Name',\n",
              " 'Notary Name']"
            ]
          },
          "metadata": {
            "tags": []
          },
          "execution_count": 5
        }
      ]
    },
    {
      "cell_type": "code",
      "metadata": {
        "id": "30OAyAMpgz70"
      },
      "source": [
        "# make dataframe with ID number, sales date, representing seller, slave name, sex, age, color, price\n",
        "dataless = data[['ID number', 'Sales Date', 'Sex', 'Age', 'Color', 'Price']]"
      ],
      "execution_count": 6,
      "outputs": []
    },
    {
      "cell_type": "code",
      "metadata": {
        "id": "ES_gMnEWq-QE"
      },
      "source": [
        "#some of the rows have NaN values for price, which is needed for project so, throw those out.\n",
        "dataless = dataless[dataless['Price'].notna()]"
      ],
      "execution_count": 7,
      "outputs": []
    },
    {
      "cell_type": "code",
      "metadata": {
        "id": "0hxIQKfotTd7",
        "outputId": "9aab3589-e6a9-4ed1-fe0d-f7b3dc8558f5",
        "colab": {
          "base_uri": "https://localhost:8080/"
        }
      },
      "source": [
        "#check all values in sex column\n",
        "dataless.Sex.unique()"
      ],
      "execution_count": 8,
      "outputs": [
        {
          "output_type": "execute_result",
          "data": {
            "text/plain": [
              "array(['M', 'F', nan, '.', 'F ', 'M ', 'F       '], dtype=object)"
            ]
          },
          "metadata": {
            "tags": []
          },
          "execution_count": 8
        }
      ]
    },
    {
      "cell_type": "code",
      "metadata": {
        "id": "NgJVfmHbwb6H",
        "outputId": "0fb7ef19-5c38-4fcf-e0f5-314810d34322",
        "colab": {
          "base_uri": "https://localhost:8080/"
        }
      },
      "source": [
        "#cry because array(['M', 'F', nan, '.', 'F ', 'M ', 'F       '], dtype=object) and why would you do that? \n",
        "#Then fix the values so they are uniform for god's sake\n",
        "dataless.loc[(dataless.Sex == 'M '),'Sex']='M'\n",
        "dataless.loc[(dataless.Sex == 'F '),'Sex']='F'\n",
        "dataless.loc[(dataless.Sex == 'F       '),'Sex']='F'\n",
        "dataless.loc[(dataless.Sex == '.'),'Sex']=np.NaN\n",
        "dataless.loc[pa.isna(dataless.Sex),'Sex'] = 'U'\n",
        "dataless.Sex.unique()\n"
      ],
      "execution_count": 9,
      "outputs": [
        {
          "output_type": "execute_result",
          "data": {
            "text/plain": [
              "array(['M', 'F', 'U'], dtype=object)"
            ]
          },
          "metadata": {
            "tags": []
          },
          "execution_count": 9
        }
      ]
    },
    {
      "cell_type": "code",
      "metadata": {
        "id": "4XALBvB55FYn",
        "outputId": "bee5e4dc-8587-4e08-8a3c-8512ee600269",
        "colab": {
          "base_uri": "https://localhost:8080/"
        }
      },
      "source": [
        "#Find out our possible Colors.\n",
        "dataless.Color.unique()"
      ],
      "execution_count": 10,
      "outputs": [
        {
          "output_type": "execute_result",
          "data": {
            "text/plain": [
              "array(['.', 'Negro', 'Mulatto', 'Griff', 'Dark Griff', 'Light Black',\n",
              "       'Black', 'Creole Negro', 'Yellow', 'Quarteroon', 'Colored',\n",
              "       'Creole Mulatto', 'Copper', 'Creole', 'Dark Negro',\n",
              "       'Light Mulatto', 'Bright Mulatto', 'Dark', 'Dark Mulatto', 'Brown',\n",
              "       'Light Griff', 'Dark Copper', 'Mulatto, Griff', 'Light Negro',\n",
              "       'Fair Mulatto', 'Bright Color', 'Light', nan, 'Light Brown',\n",
              "       'Albino, Negro', 'Dark Orange, Griff ', 'Chestnut',\n",
              "       'Yellow, Griff', 'Negro ', 'Black Negro', '. ', 'Griff Creole'],\n",
              "      dtype=object)"
            ]
          },
          "metadata": {
            "tags": []
          },
          "execution_count": 10
        }
      ]
    },
    {
      "cell_type": "code",
      "metadata": {
        "id": "P4BllArb8W9j",
        "outputId": "51e723f6-46a9-4f1f-c994-fe17fe17f967",
        "colab": {
          "base_uri": "https://localhost:8080/"
        }
      },
      "source": [
        "#fix their weird spacing for repeating values Also, \"Griff\" is a slave not entirely of African descent but was a number of different ethnicities\n",
        "dataless.loc[(dataless.Color == 'Negro '),'Color']='Negro'\n",
        "dataless.loc[(dataless.Color == '. '),'Color']='.'\n",
        "dataless.loc[(dataless.Color == '.'),'Color']='UC'\n",
        "dataless.loc[pa.isna(dataless.Color),'Color'] = 'UC'\n",
        "dataless.Color.unique()"
      ],
      "execution_count": 11,
      "outputs": [
        {
          "output_type": "execute_result",
          "data": {
            "text/plain": [
              "array(['UC', 'Negro', 'Mulatto', 'Griff', 'Dark Griff', 'Light Black',\n",
              "       'Black', 'Creole Negro', 'Yellow', 'Quarteroon', 'Colored',\n",
              "       'Creole Mulatto', 'Copper', 'Creole', 'Dark Negro',\n",
              "       'Light Mulatto', 'Bright Mulatto', 'Dark', 'Dark Mulatto', 'Brown',\n",
              "       'Light Griff', 'Dark Copper', 'Mulatto, Griff', 'Light Negro',\n",
              "       'Fair Mulatto', 'Bright Color', 'Light', 'Light Brown',\n",
              "       'Albino, Negro', 'Dark Orange, Griff ', 'Chestnut',\n",
              "       'Yellow, Griff', 'Black Negro', 'Griff Creole'], dtype=object)"
            ]
          },
          "metadata": {
            "tags": []
          },
          "execution_count": 11
        }
      ]
    },
    {
      "cell_type": "code",
      "metadata": {
        "id": "30F8WDGU9bpG",
        "outputId": "b33dc80d-6a1e-49a0-a3a5-01f88fefd6e2",
        "colab": {
          "base_uri": "https://localhost:8080/"
        }
      },
      "source": [
        "Quarteroon = dataless['Color'].str.contains('Quarteroon')\n",
        "ttlQuarteroon = Quarteroon.sum()\n",
        "Black = dataless['Color'].str.contains('Black')\n",
        "ttlBlack = Black.sum()\n",
        "Mulatto = dataless['Color'].str.contains('Mulatto')\n",
        "ttlMulatto = Mulatto.sum()\n",
        "print(ttlQuarteroon, ttlBlack, ttlMulatto)"
      ],
      "execution_count": 12,
      "outputs": [
        {
          "output_type": "stream",
          "text": [
            "25 293 1485\n"
          ],
          "name": "stdout"
        }
      ]
    },
    {
      "cell_type": "code",
      "metadata": {
        "id": "7EWvJLkc1MHw",
        "outputId": "98a57ece-fa75-4faa-86e2-f6b8cd4ce03b",
        "colab": {
          "base_uri": "https://localhost:8080/",
          "height": 419
        }
      },
      "source": [
        "dataless"
      ],
      "execution_count": 13,
      "outputs": [
        {
          "output_type": "execute_result",
          "data": {
            "text/html": [
              "<div>\n",
              "<style scoped>\n",
              "    .dataframe tbody tr th:only-of-type {\n",
              "        vertical-align: middle;\n",
              "    }\n",
              "\n",
              "    .dataframe tbody tr th {\n",
              "        vertical-align: top;\n",
              "    }\n",
              "\n",
              "    .dataframe thead th {\n",
              "        text-align: right;\n",
              "    }\n",
              "</style>\n",
              "<table border=\"1\" class=\"dataframe\">\n",
              "  <thead>\n",
              "    <tr style=\"text-align: right;\">\n",
              "      <th></th>\n",
              "      <th>ID number</th>\n",
              "      <th>Sales Date</th>\n",
              "      <th>Sex</th>\n",
              "      <th>Age</th>\n",
              "      <th>Color</th>\n",
              "      <th>Price</th>\n",
              "    </tr>\n",
              "  </thead>\n",
              "  <tbody>\n",
              "    <tr>\n",
              "      <th>0</th>\n",
              "      <td>1</td>\n",
              "      <td>10/6/1856</td>\n",
              "      <td>M</td>\n",
              "      <td>40</td>\n",
              "      <td>UC</td>\n",
              "      <td>650</td>\n",
              "    </tr>\n",
              "    <tr>\n",
              "      <th>1</th>\n",
              "      <td>2</td>\n",
              "      <td>10/7/1856</td>\n",
              "      <td>F</td>\n",
              "      <td>44</td>\n",
              "      <td>Negro</td>\n",
              "      <td>550</td>\n",
              "    </tr>\n",
              "    <tr>\n",
              "      <th>2</th>\n",
              "      <td>3</td>\n",
              "      <td>10/1/1856</td>\n",
              "      <td>F</td>\n",
              "      <td>24</td>\n",
              "      <td>Negro</td>\n",
              "      <td>1000</td>\n",
              "    </tr>\n",
              "    <tr>\n",
              "      <th>3</th>\n",
              "      <td>4</td>\n",
              "      <td>10/8/1856</td>\n",
              "      <td>M</td>\n",
              "      <td>23</td>\n",
              "      <td>Negro</td>\n",
              "      <td>1400</td>\n",
              "    </tr>\n",
              "    <tr>\n",
              "      <th>4</th>\n",
              "      <td>5</td>\n",
              "      <td>10/8/1856</td>\n",
              "      <td>M</td>\n",
              "      <td>12</td>\n",
              "      <td>Negro</td>\n",
              "      <td>700</td>\n",
              "    </tr>\n",
              "    <tr>\n",
              "      <th>...</th>\n",
              "      <td>...</td>\n",
              "      <td>...</td>\n",
              "      <td>...</td>\n",
              "      <td>...</td>\n",
              "      <td>...</td>\n",
              "      <td>...</td>\n",
              "    </tr>\n",
              "    <tr>\n",
              "      <th>14704</th>\n",
              "      <td>15268</td>\n",
              "      <td>4/4/1861</td>\n",
              "      <td>M</td>\n",
              "      <td>35</td>\n",
              "      <td>Negro</td>\n",
              "      <td>950</td>\n",
              "    </tr>\n",
              "    <tr>\n",
              "      <th>14705</th>\n",
              "      <td>15280</td>\n",
              "      <td>5/23/1861</td>\n",
              "      <td>M</td>\n",
              "      <td>50</td>\n",
              "      <td>Negro</td>\n",
              "      <td>650</td>\n",
              "    </tr>\n",
              "    <tr>\n",
              "      <th>14708</th>\n",
              "      <td>15321</td>\n",
              "      <td>8/3/1861</td>\n",
              "      <td>F</td>\n",
              "      <td>25</td>\n",
              "      <td>Mulatto</td>\n",
              "      <td>1100</td>\n",
              "    </tr>\n",
              "    <tr>\n",
              "      <th>14709</th>\n",
              "      <td>15370</td>\n",
              "      <td>5/7/1861</td>\n",
              "      <td>F</td>\n",
              "      <td>24</td>\n",
              "      <td>Negro</td>\n",
              "      <td>1600</td>\n",
              "    </tr>\n",
              "    <tr>\n",
              "      <th>14712</th>\n",
              "      <td>15377</td>\n",
              "      <td>7/29/1861</td>\n",
              "      <td>M</td>\n",
              "      <td>42</td>\n",
              "      <td>UC</td>\n",
              "      <td>1600</td>\n",
              "    </tr>\n",
              "  </tbody>\n",
              "</table>\n",
              "<p>12207 rows × 6 columns</p>\n",
              "</div>"
            ],
            "text/plain": [
              "       ID number Sales Date Sex Age    Color Price\n",
              "0              1  10/6/1856   M  40       UC   650\n",
              "1              2  10/7/1856   F  44    Negro   550\n",
              "2              3  10/1/1856   F  24    Negro  1000\n",
              "3              4  10/8/1856   M  23    Negro  1400\n",
              "4              5  10/8/1856   M  12    Negro   700\n",
              "...          ...        ...  ..  ..      ...   ...\n",
              "14704      15268   4/4/1861   M  35    Negro   950\n",
              "14705      15280  5/23/1861   M  50    Negro   650\n",
              "14708      15321   8/3/1861   F  25  Mulatto  1100\n",
              "14709      15370   5/7/1861   F  24    Negro  1600\n",
              "14712      15377  7/29/1861   M  42       UC  1600\n",
              "\n",
              "[12207 rows x 6 columns]"
            ]
          },
          "metadata": {
            "tags": []
          },
          "execution_count": 13
        }
      ]
    },
    {
      "cell_type": "code",
      "metadata": {
        "id": "4jG7ewGA1eAV",
        "outputId": "e9de0b33-8751-4ecc-9005-9207d482933a",
        "colab": {
          "base_uri": "https://localhost:8080/",
          "height": 350
        }
      },
      "source": [
        "# do correlation based on sex?\n",
        "Men = dataless['Sex'].str.contains('M')\n",
        "if Men == True:\n",
        "  print(dataless['Sex'], dataless['Age'], dataless['Color'], dataless['Price'])\n",
        "\n",
        "\n",
        "\n"
      ],
      "execution_count": 14,
      "outputs": [
        {
          "output_type": "error",
          "ename": "ValueError",
          "evalue": "ignored",
          "traceback": [
            "\u001b[0;31m---------------------------------------------------------------------------\u001b[0m",
            "\u001b[0;31mValueError\u001b[0m                                Traceback (most recent call last)",
            "\u001b[0;32m<ipython-input-14-a7f05cc286c1>\u001b[0m in \u001b[0;36m<module>\u001b[0;34m()\u001b[0m\n\u001b[1;32m      1\u001b[0m \u001b[0;31m# do correlation based on sex?\u001b[0m\u001b[0;34m\u001b[0m\u001b[0;34m\u001b[0m\u001b[0;34m\u001b[0m\u001b[0m\n\u001b[1;32m      2\u001b[0m \u001b[0mMen\u001b[0m \u001b[0;34m=\u001b[0m \u001b[0mdataless\u001b[0m\u001b[0;34m[\u001b[0m\u001b[0;34m'Sex'\u001b[0m\u001b[0;34m]\u001b[0m\u001b[0;34m.\u001b[0m\u001b[0mstr\u001b[0m\u001b[0;34m.\u001b[0m\u001b[0mcontains\u001b[0m\u001b[0;34m(\u001b[0m\u001b[0;34m'M'\u001b[0m\u001b[0;34m)\u001b[0m\u001b[0;34m\u001b[0m\u001b[0;34m\u001b[0m\u001b[0m\n\u001b[0;32m----> 3\u001b[0;31m \u001b[0;32mif\u001b[0m \u001b[0mMen\u001b[0m \u001b[0;34m==\u001b[0m \u001b[0;32mTrue\u001b[0m\u001b[0;34m:\u001b[0m\u001b[0;34m\u001b[0m\u001b[0;34m\u001b[0m\u001b[0m\n\u001b[0m\u001b[1;32m      4\u001b[0m   \u001b[0mprint\u001b[0m\u001b[0;34m(\u001b[0m\u001b[0mdataless\u001b[0m\u001b[0;34m[\u001b[0m\u001b[0;34m'Sex'\u001b[0m\u001b[0;34m]\u001b[0m\u001b[0;34m,\u001b[0m \u001b[0mdataless\u001b[0m\u001b[0;34m[\u001b[0m\u001b[0;34m'Age'\u001b[0m\u001b[0;34m]\u001b[0m\u001b[0;34m,\u001b[0m \u001b[0mdataless\u001b[0m\u001b[0;34m[\u001b[0m\u001b[0;34m'Color'\u001b[0m\u001b[0;34m]\u001b[0m\u001b[0;34m,\u001b[0m \u001b[0mdataless\u001b[0m\u001b[0;34m[\u001b[0m\u001b[0;34m'Price'\u001b[0m\u001b[0;34m]\u001b[0m\u001b[0;34m)\u001b[0m\u001b[0;34m\u001b[0m\u001b[0;34m\u001b[0m\u001b[0m\n\u001b[1;32m      5\u001b[0m \u001b[0;34m\u001b[0m\u001b[0m\n",
            "\u001b[0;32m/usr/local/lib/python3.6/dist-packages/pandas/core/generic.py\u001b[0m in \u001b[0;36m__nonzero__\u001b[0;34m(self)\u001b[0m\n\u001b[1;32m   1328\u001b[0m     \u001b[0;32mdef\u001b[0m \u001b[0m__nonzero__\u001b[0m\u001b[0;34m(\u001b[0m\u001b[0mself\u001b[0m\u001b[0;34m)\u001b[0m\u001b[0;34m:\u001b[0m\u001b[0;34m\u001b[0m\u001b[0;34m\u001b[0m\u001b[0m\n\u001b[1;32m   1329\u001b[0m         raise ValueError(\n\u001b[0;32m-> 1330\u001b[0;31m             \u001b[0;34mf\"The truth value of a {type(self).__name__} is ambiguous. \"\u001b[0m\u001b[0;34m\u001b[0m\u001b[0;34m\u001b[0m\u001b[0m\n\u001b[0m\u001b[1;32m   1331\u001b[0m             \u001b[0;34m\"Use a.empty, a.bool(), a.item(), a.any() or a.all().\"\u001b[0m\u001b[0;34m\u001b[0m\u001b[0;34m\u001b[0m\u001b[0m\n\u001b[1;32m   1332\u001b[0m         )\n",
            "\u001b[0;31mValueError\u001b[0m: The truth value of a Series is ambiguous. Use a.empty, a.bool(), a.item(), a.any() or a.all()."
          ]
        }
      ]
    },
    {
      "cell_type": "code",
      "metadata": {
        "id": "2XFsFhlJyePS",
        "outputId": "b58d78d4-9eb4-4e70-8d4f-22e70e2a3ef6",
        "colab": {
          "base_uri": "https://localhost:8080/"
        }
      },
      "source": [
        "from sklearn import preprocessing\n",
        "\n",
        "lb = preprocessing.LabelBinarizer()\n",
        "\n",
        "#lb.fit_transform(dataless.Sex)\n",
        "sex = np.array(dataless.Sex)\n",
        "#sex = np.append(sex,np.array(dataless.Color))\n",
        "sexbi = lb.fit_transform(sex)\n",
        "sexbi[0,:]"
      ],
      "execution_count": 15,
      "outputs": [
        {
          "output_type": "execute_result",
          "data": {
            "text/plain": [
              "array([0, 1, 0])"
            ]
          },
          "metadata": {
            "tags": []
          },
          "execution_count": 15
        }
      ]
    },
    {
      "cell_type": "code",
      "metadata": {
        "id": "RfT1P8QO951p",
        "outputId": "aa8fbfe3-7f51-4d4d-f765-422c3d3e3800",
        "colab": {
          "base_uri": "https://localhost:8080/"
        }
      },
      "source": [
        "color = np.array(dataless.Color)\n",
        "colorbi = lb.fit_transform(color)\n",
        "colorbi"
      ],
      "execution_count": 16,
      "outputs": [
        {
          "output_type": "execute_result",
          "data": {
            "text/plain": [
              "array([[0, 0, 0, ..., 1, 0, 0],\n",
              "       [0, 0, 0, ..., 0, 0, 0],\n",
              "       [0, 0, 0, ..., 0, 0, 0],\n",
              "       ...,\n",
              "       [0, 0, 0, ..., 0, 0, 0],\n",
              "       [0, 0, 0, ..., 0, 0, 0],\n",
              "       [0, 0, 0, ..., 1, 0, 0]])"
            ]
          },
          "metadata": {
            "tags": []
          },
          "execution_count": 16
        }
      ]
    },
    {
      "cell_type": "code",
      "metadata": {
        "id": "K_XxhYS8-KBE",
        "outputId": "ea765fe3-933a-46a8-b55d-33441283a234",
        "colab": {
          "base_uri": "https://localhost:8080/"
        }
      },
      "source": [
        "combine = np.append(sexbi,colorbi,axis = 1)\n",
        "combine.shape"
      ],
      "execution_count": 17,
      "outputs": [
        {
          "output_type": "execute_result",
          "data": {
            "text/plain": [
              "(12207, 37)"
            ]
          },
          "metadata": {
            "tags": []
          },
          "execution_count": 17
        }
      ]
    },
    {
      "cell_type": "markdown",
      "metadata": {
        "id": "gsWkZI204a1s"
      },
      "source": [
        "https://scikit-learn.org/stable/modules/generated/sklearn.linear_model.LinearRegression.html "
      ]
    },
    {
      "cell_type": "code",
      "metadata": {
        "id": "lGd7-u0v04iF",
        "outputId": "7f3e76ef-c837-4b47-9672-3d7f497166f9",
        "colab": {
          "base_uri": "https://localhost:8080/"
        }
      },
      "source": [
        "age = np.array(dataless.Age)\n",
        "agebi = lb.fit_transform(age)\n",
        "agebi"
      ],
      "execution_count": 23,
      "outputs": [
        {
          "output_type": "execute_result",
          "data": {
            "text/plain": [
              "array([[0, 0, 0, ..., 0, 0, 0],\n",
              "       [0, 0, 0, ..., 0, 0, 0],\n",
              "       [0, 0, 0, ..., 0, 0, 0],\n",
              "       ...,\n",
              "       [0, 0, 0, ..., 0, 0, 0],\n",
              "       [0, 0, 0, ..., 0, 0, 0],\n",
              "       [0, 0, 0, ..., 0, 0, 0]])"
            ]
          },
          "metadata": {
            "tags": []
          },
          "execution_count": 23
        }
      ]
    },
    {
      "cell_type": "code",
      "metadata": {
        "id": "dy6gQaBh0ZI1",
        "outputId": "abe782c2-68df-41a5-bfb0-f2231e82412b",
        "colab": {
          "base_uri": "https://localhost:8080/"
        }
      },
      "source": [
        "price = np.array(dataless.Price)\n",
        "pricebi = lb.fit_transform(price)\n",
        "pricebi"
      ],
      "execution_count": 22,
      "outputs": [
        {
          "output_type": "execute_result",
          "data": {
            "text/plain": [
              "array([[0, 0, 0, ..., 0, 0, 0],\n",
              "       [0, 0, 0, ..., 0, 0, 0],\n",
              "       [0, 0, 0, ..., 0, 0, 0],\n",
              "       ...,\n",
              "       [0, 0, 0, ..., 0, 0, 0],\n",
              "       [0, 0, 0, ..., 0, 0, 0],\n",
              "       [0, 0, 0, ..., 0, 0, 0]])"
            ]
          },
          "metadata": {
            "tags": []
          },
          "execution_count": 22
        }
      ]
    },
    {
      "cell_type": "code",
      "metadata": {
        "id": "n16sAnjW1PoM",
        "outputId": "ca607d31-f74c-4890-e83f-f5d52940d67e",
        "colab": {
          "base_uri": "https://localhost:8080/"
        }
      },
      "source": [
        "combine = np.append(sexbi,colorbi,axis = 1)\n",
        "combine.shape"
      ],
      "execution_count": 24,
      "outputs": [
        {
          "output_type": "execute_result",
          "data": {
            "text/plain": [
              "(12207, 37)"
            ]
          },
          "metadata": {
            "tags": []
          },
          "execution_count": 24
        }
      ]
    },
    {
      "cell_type": "code",
      "metadata": {
        "id": "yqY6VmUS1Txc",
        "outputId": "3cd0e15a-bb1d-4092-895a-5006ab89ee08",
        "colab": {
          "base_uri": "https://localhost:8080/"
        }
      },
      "source": [
        "com3 = np.append(agebi,pricebi, axis = 1)\n",
        "com3.shape"
      ],
      "execution_count": 42,
      "outputs": [
        {
          "output_type": "execute_result",
          "data": {
            "text/plain": [
              "(12207, 919)"
            ]
          },
          "metadata": {
            "tags": []
          },
          "execution_count": 42
        }
      ]
    },
    {
      "cell_type": "markdown",
      "metadata": {
        "id": "QEs9zmdV218z"
      },
      "source": [
        "trying to get all 4 in one array?"
      ]
    },
    {
      "cell_type": "code",
      "metadata": {
        "id": "myyIqZRg2Zvz",
        "outputId": "63ea4029-2c71-4c70-b72f-d90f95e0dd67",
        "colab": {
          "base_uri": "https://localhost:8080/",
          "height": 180
        }
      },
      "source": [
        "array4 = np.array([[sexbi],[colorbi],[agebi],[pricebi]])\n",
        "array4"
      ],
      "execution_count": 40,
      "outputs": [
        {
          "output_type": "error",
          "ename": "ValueError",
          "evalue": "ignored",
          "traceback": [
            "\u001b[0;31m---------------------------------------------------------------------------\u001b[0m",
            "\u001b[0;31mValueError\u001b[0m                                Traceback (most recent call last)",
            "\u001b[0;32m<ipython-input-40-d1f292395fd0>\u001b[0m in \u001b[0;36m<module>\u001b[0;34m()\u001b[0m\n\u001b[0;32m----> 1\u001b[0;31m \u001b[0marray4\u001b[0m \u001b[0;34m=\u001b[0m \u001b[0mnp\u001b[0m\u001b[0;34m.\u001b[0m\u001b[0marray\u001b[0m\u001b[0;34m(\u001b[0m\u001b[0;34m[\u001b[0m\u001b[0;34m[\u001b[0m\u001b[0msexbi\u001b[0m\u001b[0;34m]\u001b[0m\u001b[0;34m,\u001b[0m\u001b[0;34m[\u001b[0m\u001b[0mcolorbi\u001b[0m\u001b[0;34m]\u001b[0m\u001b[0;34m,\u001b[0m\u001b[0;34m[\u001b[0m\u001b[0magebi\u001b[0m\u001b[0;34m]\u001b[0m\u001b[0;34m,\u001b[0m\u001b[0;34m[\u001b[0m\u001b[0mpricebi\u001b[0m\u001b[0;34m]\u001b[0m\u001b[0;34m]\u001b[0m\u001b[0;34m)\u001b[0m\u001b[0;34m\u001b[0m\u001b[0;34m\u001b[0m\u001b[0m\n\u001b[0m\u001b[1;32m      2\u001b[0m \u001b[0marray4\u001b[0m\u001b[0;34m\u001b[0m\u001b[0;34m\u001b[0m\u001b[0m\n",
            "\u001b[0;31mValueError\u001b[0m: could not broadcast input array from shape (12207,3) into shape (12207)"
          ]
        }
      ]
    },
    {
      "cell_type": "code",
      "metadata": {
        "id": "WOBaB2Lb14Rt"
      },
      "source": [
        ""
      ],
      "execution_count": 32,
      "outputs": []
    },
    {
      "cell_type": "code",
      "metadata": {
        "id": "NXPaFf1LBTPU"
      },
      "source": [
        "from sklearn.linear_model import LinearRegression"
      ],
      "execution_count": 33,
      "outputs": []
    },
    {
      "cell_type": "code",
      "metadata": {
        "id": "kbBHtewGzPSM",
        "outputId": "630365ac-dc02-4600-a266-77a49835567e",
        "colab": {
          "base_uri": "https://localhost:8080/",
          "height": 163
        }
      },
      "source": [
        "array4.get_params([])"
      ],
      "execution_count": 34,
      "outputs": [
        {
          "output_type": "error",
          "ename": "AttributeError",
          "evalue": "ignored",
          "traceback": [
            "\u001b[0;31m---------------------------------------------------------------------------\u001b[0m",
            "\u001b[0;31mAttributeError\u001b[0m                            Traceback (most recent call last)",
            "\u001b[0;32m<ipython-input-34-c2a2d183bfde>\u001b[0m in \u001b[0;36m<module>\u001b[0;34m()\u001b[0m\n\u001b[0;32m----> 1\u001b[0;31m \u001b[0marray4\u001b[0m\u001b[0;34m.\u001b[0m\u001b[0mget_params\u001b[0m\u001b[0;34m(\u001b[0m\u001b[0;34m[\u001b[0m\u001b[0;34m]\u001b[0m\u001b[0;34m)\u001b[0m\u001b[0;34m\u001b[0m\u001b[0;34m\u001b[0m\u001b[0m\n\u001b[0m",
            "\u001b[0;31mAttributeError\u001b[0m: 'list' object has no attribute 'get_params'"
          ]
        }
      ]
    },
    {
      "cell_type": "code",
      "metadata": {
        "id": "VKJ88R_Sz39j"
      },
      "source": [
        ""
      ],
      "execution_count": null,
      "outputs": []
    }
  ]
}