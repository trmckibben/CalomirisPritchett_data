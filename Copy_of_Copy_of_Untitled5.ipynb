{
  "nbformat": 4,
  "nbformat_minor": 0,
  "metadata": {
    "colab": {
      "name": "Copy of Copy of Untitled5.ipynb",
      "provenance": [],
      "include_colab_link": true
    },
    "kernelspec": {
      "name": "python3",
      "display_name": "Python 3"
    }
  },
  "cells": [
    {
      "cell_type": "markdown",
      "metadata": {
        "id": "view-in-github",
        "colab_type": "text"
      },
      "source": [
        "<a href=\"https://colab.research.google.com/github/trmckibben/CalomirisPritchett_data/blob/master/Copy_of_Copy_of_Untitled5.ipynb\" target=\"_parent\"><img src=\"https://colab.research.google.com/assets/colab-badge.svg\" alt=\"Open In Colab\"/></a>"
      ]
    },
    {
      "cell_type": "code",
      "metadata": {
        "id": "QZa3qF_qwqCe"
      },
      "source": [
        "import pandas as pa\n",
        "import numpy as np\n",
        "\n",
        "data = pa.read_csv('https://raw.githubusercontent.com/trmckibben/CalomirisPritchett_data/master/CalomirisPritchettdata.csv')"
      ],
      "execution_count": 89,
      "outputs": []
    },
    {
      "cell_type": "code",
      "metadata": {
        "id": "iWy7071heAVC"
      },
      "source": [
        "#fix name cause format is terrible\n",
        "data[\"Sellers Name\"] = data[\"Sellers Last Name\"] + \",\" + \" \" + data[\"Sellers First Name\"]\n",
        "data[\"Buyers Name\"] = data[\"Buyers Last Name\"] + \",\" + \" \" + data[\"Buyers First Name\"]\n",
        "data[\"Notary Name\"] = data[\"Notary Last Name\"] + \",\" + \" \" + data[\"Notary First Name\"]"
      ],
      "execution_count": 90,
      "outputs": []
    },
    {
      "cell_type": "code",
      "metadata": {
        "id": "LC_q_g9Oe4MQ",
        "colab": {
          "base_uri": "https://localhost:8080/",
          "height": 864
        },
        "outputId": "6d7c158a-40a2-47c7-a7ea-ed555e276eb6"
      },
      "source": [
        "data"
      ],
      "execution_count": 91,
      "outputs": [
        {
          "output_type": "execute_result",
          "data": {
            "text/html": [
              "<div>\n",
              "<style scoped>\n",
              "    .dataframe tbody tr th:only-of-type {\n",
              "        vertical-align: middle;\n",
              "    }\n",
              "\n",
              "    .dataframe tbody tr th {\n",
              "        vertical-align: top;\n",
              "    }\n",
              "\n",
              "    .dataframe thead th {\n",
              "        text-align: right;\n",
              "    }\n",
              "</style>\n",
              "<table border=\"1\" class=\"dataframe\">\n",
              "  <thead>\n",
              "    <tr style=\"text-align: right;\">\n",
              "      <th></th>\n",
              "      <th>ID number</th>\n",
              "      <th>Conveyance</th>\n",
              "      <th>Page</th>\n",
              "      <th>Researcher</th>\n",
              "      <th>Notary First Name</th>\n",
              "      <th>Notary Last Name</th>\n",
              "      <th>Sales Date</th>\n",
              "      <th>Sellers First Name</th>\n",
              "      <th>Sellers Last Name</th>\n",
              "      <th>Sellers County of Origin</th>\n",
              "      <th>Sellers State of Origin</th>\n",
              "      <th>Representing Seller</th>\n",
              "      <th>Relationship to Seller</th>\n",
              "      <th>Buyers First Name</th>\n",
              "      <th>Buyers Last Name</th>\n",
              "      <th>Buyers County of Origin</th>\n",
              "      <th>Buyers State of Origin</th>\n",
              "      <th>Representing Buyer</th>\n",
              "      <th>Relationship to Buyer</th>\n",
              "      <th>Slave Name</th>\n",
              "      <th>Sex</th>\n",
              "      <th>Age</th>\n",
              "      <th>Color</th>\n",
              "      <th>Occupation</th>\n",
              "      <th>Family Relationship</th>\n",
              "      <th>Name Child 1</th>\n",
              "      <th>Sex Child 1</th>\n",
              "      <th>Age Child 1</th>\n",
              "      <th>Name Child 2</th>\n",
              "      <th>Sex Child 2</th>\n",
              "      <th>Age Child 2</th>\n",
              "      <th>Name Child 3</th>\n",
              "      <th>Sex Child 3</th>\n",
              "      <th>Age Child 3</th>\n",
              "      <th>Name Child 4</th>\n",
              "      <th>Sex Child 4</th>\n",
              "      <th>Age Child 4</th>\n",
              "      <th>Name Child 5</th>\n",
              "      <th>Sex Child 5</th>\n",
              "      <th>Age Child 5</th>\n",
              "      <th>Name Child 6</th>\n",
              "      <th>Sex Child 6</th>\n",
              "      <th>Age Child 6</th>\n",
              "      <th>Name Child 7</th>\n",
              "      <th>Sex Child 7</th>\n",
              "      <th>Age Child 7</th>\n",
              "      <th>Name Child 8</th>\n",
              "      <th>Sex Child 8</th>\n",
              "      <th>Age Child 8</th>\n",
              "      <th>Guaranteed</th>\n",
              "      <th>Notes on Guarantee</th>\n",
              "      <th>Number of Total Slaves</th>\n",
              "      <th>Number of Adult Slaves</th>\n",
              "      <th>Number of Child Slaves</th>\n",
              "      <th>Number of Prices</th>\n",
              "      <th>Price</th>\n",
              "      <th>Payment Method</th>\n",
              "      <th>Payment flag</th>\n",
              "      <th>DUMMY credit</th>\n",
              "      <th>Down Payment</th>\n",
              "      <th>mthcred</th>\n",
              "      <th>Interest Rate</th>\n",
              "      <th>Discount Rate</th>\n",
              "      <th>predicted rate</th>\n",
              "      <th>Calculations</th>\n",
              "      <th>Ratio</th>\n",
              "      <th>PresentValue</th>\n",
              "      <th>DUMMY omission</th>\n",
              "      <th>Reason for Omission</th>\n",
              "      <th>Comments</th>\n",
              "      <th>DUMMY Estate Sale</th>\n",
              "      <th>Sellers Name</th>\n",
              "      <th>Buyers Name</th>\n",
              "      <th>Notary Name</th>\n",
              "    </tr>\n",
              "  </thead>\n",
              "  <tbody>\n",
              "    <tr>\n",
              "      <th>0</th>\n",
              "      <td>1</td>\n",
              "      <td>70</td>\n",
              "      <td>348</td>\n",
              "      <td>MS</td>\n",
              "      <td>John French</td>\n",
              "      <td>Coffey</td>\n",
              "      <td>10/6/1856</td>\n",
              "      <td>Benjamin</td>\n",
              "      <td>Screws</td>\n",
              "      <td>.</td>\n",
              "      <td>AL</td>\n",
              "      <td>James Whitfield Bozeman</td>\n",
              "      <td>Agent</td>\n",
              "      <td>Maria</td>\n",
              "      <td>Hopson</td>\n",
              "      <td>.</td>\n",
              "      <td>.</td>\n",
              "      <td>.</td>\n",
              "      <td>.</td>\n",
              "      <td>Shadrack</td>\n",
              "      <td>M</td>\n",
              "      <td>40</td>\n",
              "      <td>.</td>\n",
              "      <td>.</td>\n",
              "      <td>.</td>\n",
              "      <td>.</td>\n",
              "      <td>.</td>\n",
              "      <td>.</td>\n",
              "      <td>.</td>\n",
              "      <td>.</td>\n",
              "      <td>.</td>\n",
              "      <td>.</td>\n",
              "      <td>.</td>\n",
              "      <td>.</td>\n",
              "      <td>.</td>\n",
              "      <td>.</td>\n",
              "      <td>.</td>\n",
              "      <td>.</td>\n",
              "      <td>.</td>\n",
              "      <td>.</td>\n",
              "      <td>.</td>\n",
              "      <td>.</td>\n",
              "      <td>.</td>\n",
              "      <td>.</td>\n",
              "      <td>.</td>\n",
              "      <td>.</td>\n",
              "      <td>.</td>\n",
              "      <td>.</td>\n",
              "      <td>.</td>\n",
              "      <td>.</td>\n",
              "      <td>.</td>\n",
              "      <td>1</td>\n",
              "      <td>1</td>\n",
              "      <td>0</td>\n",
              "      <td>1</td>\n",
              "      <td>650</td>\n",
              "      <td>Cash</td>\n",
              "      <td>NaN</td>\n",
              "      <td>0</td>\n",
              "      <td>NaN</td>\n",
              "      <td>NaN</td>\n",
              "      <td>NaN</td>\n",
              "      <td>0.00602698</td>\n",
              "      <td>0.07477</td>\n",
              "      <td>NaN</td>\n",
              "      <td>NaN</td>\n",
              "      <td>NaN</td>\n",
              "      <td>0</td>\n",
              "      <td>NaN</td>\n",
              "      <td>NaN</td>\n",
              "      <td>NaN</td>\n",
              "      <td>Screws, Benjamin</td>\n",
              "      <td>Hopson, Maria</td>\n",
              "      <td>Coffey, John French</td>\n",
              "    </tr>\n",
              "    <tr>\n",
              "      <th>1</th>\n",
              "      <td>2</td>\n",
              "      <td>70</td>\n",
              "      <td>349</td>\n",
              "      <td>MS</td>\n",
              "      <td>William</td>\n",
              "      <td>Shannon</td>\n",
              "      <td>10/7/1856</td>\n",
              "      <td>Santiago</td>\n",
              "      <td>Galseran</td>\n",
              "      <td>New Orleans</td>\n",
              "      <td>LA</td>\n",
              "      <td>.</td>\n",
              "      <td>.</td>\n",
              "      <td>Peyton N.</td>\n",
              "      <td>Reynolds</td>\n",
              "      <td>New Orleans</td>\n",
              "      <td>LA</td>\n",
              "      <td>.</td>\n",
              "      <td>.</td>\n",
              "      <td>Jane</td>\n",
              "      <td>F</td>\n",
              "      <td>44</td>\n",
              "      <td>Negro</td>\n",
              "      <td>.</td>\n",
              "      <td>.</td>\n",
              "      <td>.</td>\n",
              "      <td>.</td>\n",
              "      <td>.</td>\n",
              "      <td>.</td>\n",
              "      <td>.</td>\n",
              "      <td>.</td>\n",
              "      <td>.</td>\n",
              "      <td>.</td>\n",
              "      <td>.</td>\n",
              "      <td>.</td>\n",
              "      <td>.</td>\n",
              "      <td>.</td>\n",
              "      <td>.</td>\n",
              "      <td>.</td>\n",
              "      <td>.</td>\n",
              "      <td>.</td>\n",
              "      <td>.</td>\n",
              "      <td>.</td>\n",
              "      <td>.</td>\n",
              "      <td>.</td>\n",
              "      <td>.</td>\n",
              "      <td>.</td>\n",
              "      <td>.</td>\n",
              "      <td>.</td>\n",
              "      <td>.</td>\n",
              "      <td>.</td>\n",
              "      <td>1</td>\n",
              "      <td>1</td>\n",
              "      <td>0</td>\n",
              "      <td>1</td>\n",
              "      <td>550</td>\n",
              "      <td>Cash</td>\n",
              "      <td>NaN</td>\n",
              "      <td>0</td>\n",
              "      <td>NaN</td>\n",
              "      <td>NaN</td>\n",
              "      <td>NaN</td>\n",
              "      <td>0.00602698</td>\n",
              "      <td>0.07477</td>\n",
              "      <td>NaN</td>\n",
              "      <td>NaN</td>\n",
              "      <td>NaN</td>\n",
              "      <td>0</td>\n",
              "      <td>NaN</td>\n",
              "      <td>NaN</td>\n",
              "      <td>NaN</td>\n",
              "      <td>Galseran, Santiago</td>\n",
              "      <td>Reynolds, Peyton N.</td>\n",
              "      <td>Shannon, William</td>\n",
              "    </tr>\n",
              "    <tr>\n",
              "      <th>2</th>\n",
              "      <td>3</td>\n",
              "      <td>70</td>\n",
              "      <td>351</td>\n",
              "      <td>MS</td>\n",
              "      <td>Edward George</td>\n",
              "      <td>Gottschalk</td>\n",
              "      <td>10/1/1856</td>\n",
              "      <td>Pierre</td>\n",
              "      <td>Macou</td>\n",
              "      <td>New Orleans</td>\n",
              "      <td>LA</td>\n",
              "      <td>Jean Louis Moinet</td>\n",
              "      <td>Joint Seller</td>\n",
              "      <td>Heloise</td>\n",
              "      <td>Bagneris</td>\n",
              "      <td>New Orleans</td>\n",
              "      <td>LA</td>\n",
              "      <td>.</td>\n",
              "      <td>.</td>\n",
              "      <td>Helen</td>\n",
              "      <td>F</td>\n",
              "      <td>24</td>\n",
              "      <td>Negro</td>\n",
              "      <td>.</td>\n",
              "      <td>.</td>\n",
              "      <td>.</td>\n",
              "      <td>.</td>\n",
              "      <td>.</td>\n",
              "      <td>.</td>\n",
              "      <td>.</td>\n",
              "      <td>.</td>\n",
              "      <td>.</td>\n",
              "      <td>.</td>\n",
              "      <td>.</td>\n",
              "      <td>.</td>\n",
              "      <td>.</td>\n",
              "      <td>.</td>\n",
              "      <td>.</td>\n",
              "      <td>.</td>\n",
              "      <td>.</td>\n",
              "      <td>.</td>\n",
              "      <td>.</td>\n",
              "      <td>.</td>\n",
              "      <td>.</td>\n",
              "      <td>.</td>\n",
              "      <td>.</td>\n",
              "      <td>.</td>\n",
              "      <td>.</td>\n",
              "      <td>.</td>\n",
              "      <td>.</td>\n",
              "      <td>.</td>\n",
              "      <td>1</td>\n",
              "      <td>1</td>\n",
              "      <td>0</td>\n",
              "      <td>1</td>\n",
              "      <td>1000</td>\n",
              "      <td>Cash</td>\n",
              "      <td>NaN</td>\n",
              "      <td>0</td>\n",
              "      <td>NaN</td>\n",
              "      <td>NaN</td>\n",
              "      <td>NaN</td>\n",
              "      <td>0.00602698</td>\n",
              "      <td>0.07477</td>\n",
              "      <td>NaN</td>\n",
              "      <td>NaN</td>\n",
              "      <td>NaN</td>\n",
              "      <td>0</td>\n",
              "      <td>NaN</td>\n",
              "      <td>NaN</td>\n",
              "      <td>NaN</td>\n",
              "      <td>Macou, Pierre</td>\n",
              "      <td>Bagneris, Heloise</td>\n",
              "      <td>Gottschalk, Edward George</td>\n",
              "    </tr>\n",
              "    <tr>\n",
              "      <th>3</th>\n",
              "      <td>4</td>\n",
              "      <td>70</td>\n",
              "      <td>352</td>\n",
              "      <td>MS</td>\n",
              "      <td>Paul Emile</td>\n",
              "      <td>Laresche</td>\n",
              "      <td>10/8/1856</td>\n",
              "      <td>Benjamin Franklin</td>\n",
              "      <td>Irby</td>\n",
              "      <td>Vanzand</td>\n",
              "      <td>TX</td>\n",
              "      <td>.</td>\n",
              "      <td>.</td>\n",
              "      <td>Francis</td>\n",
              "      <td>Dugue Jr.</td>\n",
              "      <td>Jefferson</td>\n",
              "      <td>LA</td>\n",
              "      <td>.</td>\n",
              "      <td>.</td>\n",
              "      <td>Jeff</td>\n",
              "      <td>M</td>\n",
              "      <td>23</td>\n",
              "      <td>Negro</td>\n",
              "      <td>.</td>\n",
              "      <td>.</td>\n",
              "      <td>.</td>\n",
              "      <td>.</td>\n",
              "      <td>.</td>\n",
              "      <td>.</td>\n",
              "      <td>.</td>\n",
              "      <td>.</td>\n",
              "      <td>.</td>\n",
              "      <td>.</td>\n",
              "      <td>.</td>\n",
              "      <td>.</td>\n",
              "      <td>.</td>\n",
              "      <td>.</td>\n",
              "      <td>.</td>\n",
              "      <td>.</td>\n",
              "      <td>.</td>\n",
              "      <td>.</td>\n",
              "      <td>.</td>\n",
              "      <td>.</td>\n",
              "      <td>.</td>\n",
              "      <td>.</td>\n",
              "      <td>.</td>\n",
              "      <td>.</td>\n",
              "      <td>.</td>\n",
              "      <td>.</td>\n",
              "      <td>.</td>\n",
              "      <td>.</td>\n",
              "      <td>1</td>\n",
              "      <td>1</td>\n",
              "      <td>0</td>\n",
              "      <td>1</td>\n",
              "      <td>1400</td>\n",
              "      <td>Cash</td>\n",
              "      <td>NaN</td>\n",
              "      <td>0</td>\n",
              "      <td>NaN</td>\n",
              "      <td>NaN</td>\n",
              "      <td>NaN</td>\n",
              "      <td>0.00602698</td>\n",
              "      <td>0.07477</td>\n",
              "      <td>NaN</td>\n",
              "      <td>NaN</td>\n",
              "      <td>NaN</td>\n",
              "      <td>0</td>\n",
              "      <td>NaN</td>\n",
              "      <td>NaN</td>\n",
              "      <td>NaN</td>\n",
              "      <td>Irby, Benjamin Franklin</td>\n",
              "      <td>Dugue Jr., Francis</td>\n",
              "      <td>Laresche, Paul Emile</td>\n",
              "    </tr>\n",
              "    <tr>\n",
              "      <th>4</th>\n",
              "      <td>5</td>\n",
              "      <td>70</td>\n",
              "      <td>352</td>\n",
              "      <td>MS</td>\n",
              "      <td>George</td>\n",
              "      <td>Rareshide</td>\n",
              "      <td>10/8/1856</td>\n",
              "      <td>Richard</td>\n",
              "      <td>Condon</td>\n",
              "      <td>New Orleans</td>\n",
              "      <td>LA</td>\n",
              "      <td>.</td>\n",
              "      <td>.</td>\n",
              "      <td>Anthony</td>\n",
              "      <td>O'Dowd</td>\n",
              "      <td>New Orleans</td>\n",
              "      <td>LA</td>\n",
              "      <td>.</td>\n",
              "      <td>.</td>\n",
              "      <td>John</td>\n",
              "      <td>M</td>\n",
              "      <td>12</td>\n",
              "      <td>Negro</td>\n",
              "      <td>.</td>\n",
              "      <td>.</td>\n",
              "      <td>.</td>\n",
              "      <td>.</td>\n",
              "      <td>.</td>\n",
              "      <td>.</td>\n",
              "      <td>.</td>\n",
              "      <td>.</td>\n",
              "      <td>.</td>\n",
              "      <td>.</td>\n",
              "      <td>.</td>\n",
              "      <td>.</td>\n",
              "      <td>.</td>\n",
              "      <td>.</td>\n",
              "      <td>.</td>\n",
              "      <td>.</td>\n",
              "      <td>.</td>\n",
              "      <td>.</td>\n",
              "      <td>.</td>\n",
              "      <td>.</td>\n",
              "      <td>.</td>\n",
              "      <td>.</td>\n",
              "      <td>.</td>\n",
              "      <td>.</td>\n",
              "      <td>.</td>\n",
              "      <td>.</td>\n",
              "      <td>.</td>\n",
              "      <td>.</td>\n",
              "      <td>1</td>\n",
              "      <td>1</td>\n",
              "      <td>0</td>\n",
              "      <td>1</td>\n",
              "      <td>700</td>\n",
              "      <td>Cash</td>\n",
              "      <td>NaN</td>\n",
              "      <td>0</td>\n",
              "      <td>NaN</td>\n",
              "      <td>NaN</td>\n",
              "      <td>NaN</td>\n",
              "      <td>0.00602698</td>\n",
              "      <td>0.07477</td>\n",
              "      <td>NaN</td>\n",
              "      <td>NaN</td>\n",
              "      <td>NaN</td>\n",
              "      <td>0</td>\n",
              "      <td>NaN</td>\n",
              "      <td>NaN</td>\n",
              "      <td>NaN</td>\n",
              "      <td>Condon, Richard</td>\n",
              "      <td>O'Dowd, Anthony</td>\n",
              "      <td>Rareshide, George</td>\n",
              "    </tr>\n",
              "    <tr>\n",
              "      <th>...</th>\n",
              "      <td>...</td>\n",
              "      <td>...</td>\n",
              "      <td>...</td>\n",
              "      <td>...</td>\n",
              "      <td>...</td>\n",
              "      <td>...</td>\n",
              "      <td>...</td>\n",
              "      <td>...</td>\n",
              "      <td>...</td>\n",
              "      <td>...</td>\n",
              "      <td>...</td>\n",
              "      <td>...</td>\n",
              "      <td>...</td>\n",
              "      <td>...</td>\n",
              "      <td>...</td>\n",
              "      <td>...</td>\n",
              "      <td>...</td>\n",
              "      <td>...</td>\n",
              "      <td>...</td>\n",
              "      <td>...</td>\n",
              "      <td>...</td>\n",
              "      <td>...</td>\n",
              "      <td>...</td>\n",
              "      <td>...</td>\n",
              "      <td>...</td>\n",
              "      <td>...</td>\n",
              "      <td>...</td>\n",
              "      <td>...</td>\n",
              "      <td>...</td>\n",
              "      <td>...</td>\n",
              "      <td>...</td>\n",
              "      <td>...</td>\n",
              "      <td>...</td>\n",
              "      <td>...</td>\n",
              "      <td>...</td>\n",
              "      <td>...</td>\n",
              "      <td>...</td>\n",
              "      <td>...</td>\n",
              "      <td>...</td>\n",
              "      <td>...</td>\n",
              "      <td>...</td>\n",
              "      <td>...</td>\n",
              "      <td>...</td>\n",
              "      <td>...</td>\n",
              "      <td>...</td>\n",
              "      <td>...</td>\n",
              "      <td>...</td>\n",
              "      <td>...</td>\n",
              "      <td>...</td>\n",
              "      <td>...</td>\n",
              "      <td>...</td>\n",
              "      <td>...</td>\n",
              "      <td>...</td>\n",
              "      <td>...</td>\n",
              "      <td>...</td>\n",
              "      <td>...</td>\n",
              "      <td>...</td>\n",
              "      <td>...</td>\n",
              "      <td>...</td>\n",
              "      <td>...</td>\n",
              "      <td>...</td>\n",
              "      <td>...</td>\n",
              "      <td>...</td>\n",
              "      <td>...</td>\n",
              "      <td>...</td>\n",
              "      <td>...</td>\n",
              "      <td>...</td>\n",
              "      <td>...</td>\n",
              "      <td>...</td>\n",
              "      <td>...</td>\n",
              "      <td>...</td>\n",
              "      <td>...</td>\n",
              "      <td>...</td>\n",
              "      <td>...</td>\n",
              "    </tr>\n",
              "    <tr>\n",
              "      <th>14708</th>\n",
              "      <td>15321</td>\n",
              "      <td>87</td>\n",
              "      <td>265</td>\n",
              "      <td>KRZC</td>\n",
              "      <td>Amedee</td>\n",
              "      <td>Ducatel</td>\n",
              "      <td>8/3/1861</td>\n",
              "      <td>Nywatt C.</td>\n",
              "      <td>Cutler</td>\n",
              "      <td>Jefferson</td>\n",
              "      <td>LA</td>\n",
              "      <td>.</td>\n",
              "      <td>.</td>\n",
              "      <td>Matthew Jules</td>\n",
              "      <td>Bujac</td>\n",
              "      <td>New Orleans</td>\n",
              "      <td>LA</td>\n",
              "      <td>.</td>\n",
              "      <td>.</td>\n",
              "      <td>Thomassine</td>\n",
              "      <td>F</td>\n",
              "      <td>25</td>\n",
              "      <td>Mulatto</td>\n",
              "      <td>.</td>\n",
              "      <td>Mother of 1 Child</td>\n",
              "      <td>Ernest</td>\n",
              "      <td>M</td>\n",
              "      <td>8</td>\n",
              "      <td>.</td>\n",
              "      <td>.</td>\n",
              "      <td>.</td>\n",
              "      <td>.</td>\n",
              "      <td>.</td>\n",
              "      <td>.</td>\n",
              "      <td>.</td>\n",
              "      <td>.</td>\n",
              "      <td>.</td>\n",
              "      <td>.</td>\n",
              "      <td>.</td>\n",
              "      <td>.</td>\n",
              "      <td>.</td>\n",
              "      <td>.</td>\n",
              "      <td>.</td>\n",
              "      <td>.</td>\n",
              "      <td>.</td>\n",
              "      <td>.</td>\n",
              "      <td>.</td>\n",
              "      <td>.</td>\n",
              "      <td>.</td>\n",
              "      <td>.</td>\n",
              "      <td>.</td>\n",
              "      <td>2</td>\n",
              "      <td>1</td>\n",
              "      <td>1</td>\n",
              "      <td>1</td>\n",
              "      <td>1100</td>\n",
              "      <td>Cash</td>\n",
              "      <td>NaN</td>\n",
              "      <td>0</td>\n",
              "      <td>NaN</td>\n",
              "      <td>NaN</td>\n",
              "      <td>NaN</td>\n",
              "      <td>0.00602698</td>\n",
              "      <td>0.07477</td>\n",
              "      <td>NaN</td>\n",
              "      <td>NaN</td>\n",
              "      <td>NaN</td>\n",
              "      <td>0</td>\n",
              "      <td>NaN</td>\n",
              "      <td>NaN</td>\n",
              "      <td>NaN</td>\n",
              "      <td>Cutler, Nywatt C.</td>\n",
              "      <td>Bujac, Matthew Jules</td>\n",
              "      <td>Ducatel, Amedee</td>\n",
              "    </tr>\n",
              "    <tr>\n",
              "      <th>14709</th>\n",
              "      <td>15370</td>\n",
              "      <td>87</td>\n",
              "      <td>332</td>\n",
              "      <td>KRZC</td>\n",
              "      <td>Adolphe</td>\n",
              "      <td>Mazareau</td>\n",
              "      <td>5/7/1861</td>\n",
              "      <td>John G.</td>\n",
              "      <td>Chadwick</td>\n",
              "      <td>New Orleans</td>\n",
              "      <td>LA</td>\n",
              "      <td>.</td>\n",
              "      <td>.</td>\n",
              "      <td>Sarah Ann</td>\n",
              "      <td>Chadwick</td>\n",
              "      <td>New Orleans</td>\n",
              "      <td>LA</td>\n",
              "      <td>.</td>\n",
              "      <td>.</td>\n",
              "      <td>Lucinda</td>\n",
              "      <td>F</td>\n",
              "      <td>24</td>\n",
              "      <td>Negro</td>\n",
              "      <td>.</td>\n",
              "      <td>Mother of 1 Child</td>\n",
              "      <td>.</td>\n",
              "      <td>.</td>\n",
              "      <td>.</td>\n",
              "      <td>.</td>\n",
              "      <td>.</td>\n",
              "      <td>.</td>\n",
              "      <td>.</td>\n",
              "      <td>.</td>\n",
              "      <td>.</td>\n",
              "      <td>.</td>\n",
              "      <td>.</td>\n",
              "      <td>.</td>\n",
              "      <td>.</td>\n",
              "      <td>.</td>\n",
              "      <td>.</td>\n",
              "      <td>.</td>\n",
              "      <td>.</td>\n",
              "      <td>.</td>\n",
              "      <td>.</td>\n",
              "      <td>.</td>\n",
              "      <td>.</td>\n",
              "      <td>.</td>\n",
              "      <td>.</td>\n",
              "      <td>.</td>\n",
              "      <td>Yes</td>\n",
              "      <td>Fully guaranteed</td>\n",
              "      <td>3</td>\n",
              "      <td>3</td>\n",
              "      <td>0</td>\n",
              "      <td>1</td>\n",
              "      <td>1600</td>\n",
              "      <td>Cash and Credit</td>\n",
              "      <td>200 paid cash with a note for 1400 due in 2 ye...</td>\n",
              "      <td>1</td>\n",
              "      <td>200</td>\n",
              "      <td>24</td>\n",
              "      <td>0.08</td>\n",
              "      <td>0.006054689</td>\n",
              "      <td>0.07512528</td>\n",
              "      <td>NaN</td>\n",
              "      <td>NaN</td>\n",
              "      <td>1600</td>\n",
              "      <td>1</td>\n",
              "      <td>OMIT: Group sale</td>\n",
              "      <td>NaN</td>\n",
              "      <td>NaN</td>\n",
              "      <td>Chadwick, John G.</td>\n",
              "      <td>Chadwick, Sarah Ann</td>\n",
              "      <td>Mazareau, Adolphe</td>\n",
              "    </tr>\n",
              "    <tr>\n",
              "      <th>14710</th>\n",
              "      <td>15371</td>\n",
              "      <td>87</td>\n",
              "      <td>332</td>\n",
              "      <td>KRZC</td>\n",
              "      <td>Adolphe</td>\n",
              "      <td>Mazareau</td>\n",
              "      <td>5/7/1861</td>\n",
              "      <td>John G.</td>\n",
              "      <td>Chadwick</td>\n",
              "      <td>New Orleans</td>\n",
              "      <td>LA</td>\n",
              "      <td>.</td>\n",
              "      <td>.</td>\n",
              "      <td>Sarah Ann</td>\n",
              "      <td>Chadwick</td>\n",
              "      <td>New Orleans</td>\n",
              "      <td>LA</td>\n",
              "      <td>.</td>\n",
              "      <td>.</td>\n",
              "      <td>Child</td>\n",
              "      <td>.</td>\n",
              "      <td>1</td>\n",
              "      <td>.</td>\n",
              "      <td>.</td>\n",
              "      <td>Child of Lucinda</td>\n",
              "      <td>.</td>\n",
              "      <td>.</td>\n",
              "      <td>.</td>\n",
              "      <td>.</td>\n",
              "      <td>.</td>\n",
              "      <td>.</td>\n",
              "      <td>.</td>\n",
              "      <td>.</td>\n",
              "      <td>.</td>\n",
              "      <td>.</td>\n",
              "      <td>.</td>\n",
              "      <td>.</td>\n",
              "      <td>.</td>\n",
              "      <td>.</td>\n",
              "      <td>.</td>\n",
              "      <td>.</td>\n",
              "      <td>.</td>\n",
              "      <td>.</td>\n",
              "      <td>.</td>\n",
              "      <td>.</td>\n",
              "      <td>.</td>\n",
              "      <td>.</td>\n",
              "      <td>.</td>\n",
              "      <td>.</td>\n",
              "      <td>Yes</td>\n",
              "      <td>Fully guaranteed</td>\n",
              "      <td>3</td>\n",
              "      <td>3</td>\n",
              "      <td>0</td>\n",
              "      <td>1</td>\n",
              "      <td>NaN</td>\n",
              "      <td>NaN</td>\n",
              "      <td>NaN</td>\n",
              "      <td>1</td>\n",
              "      <td>NaN</td>\n",
              "      <td>NaN</td>\n",
              "      <td>NaN</td>\n",
              "      <td>0.00602698</td>\n",
              "      <td>0.07477</td>\n",
              "      <td>NaN</td>\n",
              "      <td>NaN</td>\n",
              "      <td>NaN</td>\n",
              "      <td>1</td>\n",
              "      <td>OMIT: Group sale</td>\n",
              "      <td>NaN</td>\n",
              "      <td>NaN</td>\n",
              "      <td>Chadwick, John G.</td>\n",
              "      <td>Chadwick, Sarah Ann</td>\n",
              "      <td>Mazareau, Adolphe</td>\n",
              "    </tr>\n",
              "    <tr>\n",
              "      <th>14711</th>\n",
              "      <td>15372</td>\n",
              "      <td>87</td>\n",
              "      <td>332</td>\n",
              "      <td>KRZC</td>\n",
              "      <td>Adolphe</td>\n",
              "      <td>Mazareau</td>\n",
              "      <td>5/7/1861</td>\n",
              "      <td>John G.</td>\n",
              "      <td>Chadwick</td>\n",
              "      <td>New Orleans</td>\n",
              "      <td>LA</td>\n",
              "      <td>.</td>\n",
              "      <td>.</td>\n",
              "      <td>Sarah Ann</td>\n",
              "      <td>Chadwick</td>\n",
              "      <td>New Orleans</td>\n",
              "      <td>LA</td>\n",
              "      <td>.</td>\n",
              "      <td>.</td>\n",
              "      <td>Martha</td>\n",
              "      <td>F</td>\n",
              "      <td>46</td>\n",
              "      <td>Negro</td>\n",
              "      <td>.</td>\n",
              "      <td>.</td>\n",
              "      <td>.</td>\n",
              "      <td>.</td>\n",
              "      <td>.</td>\n",
              "      <td>.</td>\n",
              "      <td>.</td>\n",
              "      <td>.</td>\n",
              "      <td>.</td>\n",
              "      <td>.</td>\n",
              "      <td>.</td>\n",
              "      <td>.</td>\n",
              "      <td>.</td>\n",
              "      <td>.</td>\n",
              "      <td>.</td>\n",
              "      <td>.</td>\n",
              "      <td>.</td>\n",
              "      <td>.</td>\n",
              "      <td>.</td>\n",
              "      <td>.</td>\n",
              "      <td>.</td>\n",
              "      <td>.</td>\n",
              "      <td>.</td>\n",
              "      <td>.</td>\n",
              "      <td>.</td>\n",
              "      <td>.</td>\n",
              "      <td>Yes</td>\n",
              "      <td>Fully guaranteed</td>\n",
              "      <td>3</td>\n",
              "      <td>3</td>\n",
              "      <td>0</td>\n",
              "      <td>1</td>\n",
              "      <td>NaN</td>\n",
              "      <td>NaN</td>\n",
              "      <td>NaN</td>\n",
              "      <td>1</td>\n",
              "      <td>NaN</td>\n",
              "      <td>NaN</td>\n",
              "      <td>NaN</td>\n",
              "      <td>0.00602698</td>\n",
              "      <td>0.07477</td>\n",
              "      <td>NaN</td>\n",
              "      <td>NaN</td>\n",
              "      <td>NaN</td>\n",
              "      <td>1</td>\n",
              "      <td>OMIT: Group sale</td>\n",
              "      <td>NaN</td>\n",
              "      <td>NaN</td>\n",
              "      <td>Chadwick, John G.</td>\n",
              "      <td>Chadwick, Sarah Ann</td>\n",
              "      <td>Mazareau, Adolphe</td>\n",
              "    </tr>\n",
              "    <tr>\n",
              "      <th>14712</th>\n",
              "      <td>15377</td>\n",
              "      <td>87</td>\n",
              "      <td>340</td>\n",
              "      <td>KRZC</td>\n",
              "      <td>Amedee</td>\n",
              "      <td>Ducatel</td>\n",
              "      <td>7/29/1861</td>\n",
              "      <td>Antoine</td>\n",
              "      <td>Guidry</td>\n",
              "      <td>Lafayette</td>\n",
              "      <td>LA</td>\n",
              "      <td>.</td>\n",
              "      <td>.</td>\n",
              "      <td>Pierre</td>\n",
              "      <td>Balois</td>\n",
              "      <td>New Orleans</td>\n",
              "      <td>LA</td>\n",
              "      <td>.</td>\n",
              "      <td>.</td>\n",
              "      <td>Emilien</td>\n",
              "      <td>M</td>\n",
              "      <td>42</td>\n",
              "      <td>.</td>\n",
              "      <td>.</td>\n",
              "      <td>.</td>\n",
              "      <td>.</td>\n",
              "      <td>.</td>\n",
              "      <td>.</td>\n",
              "      <td>.</td>\n",
              "      <td>.</td>\n",
              "      <td>.</td>\n",
              "      <td>.</td>\n",
              "      <td>.</td>\n",
              "      <td>.</td>\n",
              "      <td>.</td>\n",
              "      <td>.</td>\n",
              "      <td>.</td>\n",
              "      <td>.</td>\n",
              "      <td>.</td>\n",
              "      <td>.</td>\n",
              "      <td>.</td>\n",
              "      <td>.</td>\n",
              "      <td>.</td>\n",
              "      <td>.</td>\n",
              "      <td>.</td>\n",
              "      <td>.</td>\n",
              "      <td>.</td>\n",
              "      <td>.</td>\n",
              "      <td>.</td>\n",
              "      <td>.</td>\n",
              "      <td>.</td>\n",
              "      <td>1</td>\n",
              "      <td>1</td>\n",
              "      <td>0</td>\n",
              "      <td>1</td>\n",
              "      <td>1600</td>\n",
              "      <td>Cash and Credit</td>\n",
              "      <td>800 paid cash with a note for 800 due 1/3/1862...</td>\n",
              "      <td>1</td>\n",
              "      <td>800</td>\n",
              "      <td>10</td>\n",
              "      <td>0.08</td>\n",
              "      <td>0.005849522</td>\n",
              "      <td>0.0724972</td>\n",
              "      <td>NaN</td>\n",
              "      <td>NaN</td>\n",
              "      <td>1600</td>\n",
              "      <td>0</td>\n",
              "      <td>NaN</td>\n",
              "      <td>NaN</td>\n",
              "      <td>NaN</td>\n",
              "      <td>Guidry , Antoine</td>\n",
              "      <td>Balois, Pierre</td>\n",
              "      <td>Ducatel, Amedee</td>\n",
              "    </tr>\n",
              "  </tbody>\n",
              "</table>\n",
              "<p>14713 rows × 74 columns</p>\n",
              "</div>"
            ],
            "text/plain": [
              "       ID number  Conveyance  ...           Buyers Name                Notary Name\n",
              "0              1          70  ...         Hopson, Maria        Coffey, John French\n",
              "1              2          70  ...   Reynolds, Peyton N.           Shannon, William\n",
              "2              3          70  ...     Bagneris, Heloise  Gottschalk, Edward George\n",
              "3              4          70  ...    Dugue Jr., Francis       Laresche, Paul Emile\n",
              "4              5          70  ...       O'Dowd, Anthony          Rareshide, George\n",
              "...          ...         ...  ...                   ...                        ...\n",
              "14708      15321          87  ...  Bujac, Matthew Jules            Ducatel, Amedee\n",
              "14709      15370          87  ...   Chadwick, Sarah Ann          Mazareau, Adolphe\n",
              "14710      15371          87  ...   Chadwick, Sarah Ann          Mazareau, Adolphe\n",
              "14711      15372          87  ...   Chadwick, Sarah Ann          Mazareau, Adolphe\n",
              "14712      15377          87  ...        Balois, Pierre            Ducatel, Amedee\n",
              "\n",
              "[14713 rows x 74 columns]"
            ]
          },
          "metadata": {
            "tags": []
          },
          "execution_count": 91
        }
      ]
    },
    {
      "cell_type": "code",
      "metadata": {
        "id": "TQs4AH_Qe5Ve"
      },
      "source": [
        "#getting all of the column names\n",
        "cols = list(data.columns.values)"
      ],
      "execution_count": 92,
      "outputs": []
    },
    {
      "cell_type": "code",
      "metadata": {
        "id": "ehjTGV-OgzBX",
        "colab": {
          "base_uri": "https://localhost:8080/"
        },
        "outputId": "bc03b9c3-9425-4fa8-afed-f0ae6befaebc"
      },
      "source": [
        "cols"
      ],
      "execution_count": 93,
      "outputs": [
        {
          "output_type": "execute_result",
          "data": {
            "text/plain": [
              "['ID number',\n",
              " 'Conveyance',\n",
              " 'Page',\n",
              " 'Researcher',\n",
              " 'Notary First Name',\n",
              " 'Notary Last Name',\n",
              " 'Sales Date',\n",
              " 'Sellers First Name',\n",
              " 'Sellers Last Name',\n",
              " 'Sellers County of Origin',\n",
              " 'Sellers State of Origin',\n",
              " 'Representing Seller',\n",
              " 'Relationship to Seller',\n",
              " 'Buyers First Name',\n",
              " 'Buyers Last Name',\n",
              " 'Buyers County of Origin',\n",
              " 'Buyers State of Origin',\n",
              " 'Representing Buyer',\n",
              " 'Relationship to Buyer',\n",
              " 'Slave Name',\n",
              " 'Sex',\n",
              " 'Age',\n",
              " 'Color',\n",
              " 'Occupation',\n",
              " 'Family Relationship',\n",
              " 'Name Child 1',\n",
              " 'Sex Child 1',\n",
              " 'Age Child 1',\n",
              " 'Name Child 2',\n",
              " 'Sex Child 2',\n",
              " 'Age Child 2',\n",
              " 'Name Child 3',\n",
              " 'Sex Child 3',\n",
              " 'Age Child 3',\n",
              " 'Name Child 4',\n",
              " 'Sex Child 4',\n",
              " 'Age Child 4',\n",
              " 'Name Child 5',\n",
              " 'Sex Child 5',\n",
              " 'Age Child 5',\n",
              " 'Name Child 6',\n",
              " 'Sex Child 6',\n",
              " 'Age Child 6',\n",
              " 'Name Child 7',\n",
              " 'Sex Child 7',\n",
              " 'Age Child 7',\n",
              " 'Name Child 8',\n",
              " 'Sex Child 8',\n",
              " 'Age Child 8',\n",
              " 'Guaranteed',\n",
              " 'Notes on Guarantee',\n",
              " 'Number of Total Slaves',\n",
              " 'Number of Adult Slaves',\n",
              " 'Number of Child Slaves',\n",
              " 'Number of Prices',\n",
              " 'Price',\n",
              " 'Payment Method',\n",
              " 'Payment flag',\n",
              " 'DUMMY credit',\n",
              " 'Down Payment',\n",
              " 'mthcred',\n",
              " 'Interest Rate',\n",
              " 'Discount Rate',\n",
              " 'predicted rate',\n",
              " 'Calculations',\n",
              " 'Ratio',\n",
              " 'PresentValue',\n",
              " 'DUMMY omission',\n",
              " 'Reason for Omission',\n",
              " 'Comments',\n",
              " 'DUMMY Estate Sale',\n",
              " 'Sellers Name',\n",
              " 'Buyers Name',\n",
              " 'Notary Name']"
            ]
          },
          "metadata": {
            "tags": []
          },
          "execution_count": 93
        }
      ]
    },
    {
      "cell_type": "code",
      "metadata": {
        "id": "SxUZnvaq9OXh",
        "colab": {
          "base_uri": "https://localhost:8080/"
        },
        "outputId": "93712d73-f483-4e75-8b8e-e287c01f265f"
      },
      "source": [
        "#make the sex column uniform with possible values of 'M', 'F', and 'U'\n",
        "data.loc[(data.Sex == 'M '),'Sex']='M'\n",
        "data.loc[(data.Sex == 'F '),'Sex']='F'\n",
        "data.loc[(data.Sex == 'F       '),'Sex']='F'\n",
        "data.loc[(data.Sex == '.'),'Sex']=np.NaN\n",
        "data.loc[pa.isna(data.Sex),'Sex'] = 'U'\n",
        "data.Sex.unique()"
      ],
      "execution_count": 94,
      "outputs": [
        {
          "output_type": "execute_result",
          "data": {
            "text/plain": [
              "array(['M', 'F', 'U'], dtype=object)"
            ]
          },
          "metadata": {
            "tags": []
          },
          "execution_count": 94
        }
      ]
    },
    {
      "cell_type": "code",
      "metadata": {
        "id": "wiJckaMs-Dk1"
      },
      "source": [
        "#fix their weird spacing for repeating values Also, \"Griff\" is a slave not entirely of African descent but was a number of different ethnicities\n",
        "data.loc[(data.Color == 'Negro '),'Color']='Negro'\n",
        "data.loc[(data.Color == 'Dark'),'Color']='Negro'\n",
        "data.loc[(data.Color == 'Bright Mulatto'),'Color']='Light Mulatto'\n",
        "data.loc[(data.Color == 'Fair Mulatto'),'Color']='Light Mulatto'\n",
        "data.loc[(data.Color == 'Quarteroon'),'Color']='Griff'\n",
        "data.loc[(data.Color == 'Bright Color'),'Color']='Light'\n",
        "data.loc[(data.Color == 'Dark Orange, Griff '),'Color']='Dark Orange, Griff'\n",
        "data.loc[(data.Color == '. '),'Color']='.'\n",
        "data.loc[(data.Color == '.'),'Color']='UC'\n",
        "data.loc[pa.isna(data.Color),'Color'] = 'UC'\n",
        "colorLabels = data.Color.unique()"
      ],
      "execution_count": 95,
      "outputs": []
    },
    {
      "cell_type": "code",
      "metadata": {
        "id": "sbOrd5wkIp4p",
        "colab": {
          "base_uri": "https://localhost:8080/"
        },
        "outputId": "81d5a962-34cb-40fb-fd94-032ae05a1e30"
      },
      "source": [
        "data.Color.unique()"
      ],
      "execution_count": 96,
      "outputs": [
        {
          "output_type": "execute_result",
          "data": {
            "text/plain": [
              "array(['UC', 'Negro', 'Mulatto', 'Griff', 'Dark Griff', 'Light Black',\n",
              "       'Black', 'Creole Negro', 'Yellow', 'Colored', 'Creole Mulatto',\n",
              "       'Copper', 'Creole', 'Dark Negro', 'Light Mulatto', 'Light Griff',\n",
              "       'Dark Mulatto', 'Brown', 'Dark Copper', 'Mulatto, Griff',\n",
              "       'Light Negro', 'Light', 'Light Brown', 'Albino, Negro',\n",
              "       'Dark Orange, Griff', 'Chestnut', 'Yellow, Griff', 'Black Negro',\n",
              "       'Griff Creole'], dtype=object)"
            ]
          },
          "metadata": {
            "tags": []
          },
          "execution_count": 96
        }
      ]
    },
    {
      "cell_type": "code",
      "metadata": {
        "colab": {
          "base_uri": "https://localhost:8080/"
        },
        "id": "m8U3xUbzaG2N",
        "outputId": "2a8ef979-e814-4fe7-d0a2-640d3f14366b"
      },
      "source": [
        "#assigning numerical values to Color\n",
        "data.loc[(data.Color == 'UC'),'Color']=1\n",
        "data.loc[(data.Color == 'Colored'),'Color']=2\n",
        "data.loc[(data.Color == 'Albino, Negro'),'Color']=3\n",
        "data.loc[(data.Color == 'Light'),'Color']=4\n",
        "data.loc[(data.Color == 'Light Griff'),'Color']=5\n",
        "data.loc[(data.Color == 'Griff'),'Color']=6\n",
        "data.loc[(data.Color == 'Yellow, Griff'),'Color']=7\n",
        "data.loc[(data.Color == 'Yellow'),'Color']=8\n",
        "data.loc[(data.Color == 'Mulatto, Griff'),'Color']=9\n",
        "data.loc[(data.Color == 'Light Mulatto'),'Color']=10\n",
        "data.loc[(data.Color == 'Copper'),'Color']=11\n",
        "data.loc[(data.Color == 'Griff Creole'),'Color']=12\n",
        "data.loc[(data.Color == 'Creole Mulatto'),'Color']=13\n",
        "data.loc[(data.Color == 'Creole'),'Color']=14\n",
        "data.loc[(data.Color == 'Mulatto'),'Color']=15\n",
        "data.loc[(data.Color == 'Dark Griff'),'Color']=16\n",
        "data.loc[(data.Color == 'Dark Orange, Griff'),'Color']=17\n",
        "data.loc[(data.Color == 'Dark Copper'),'Color']=18\n",
        "data.loc[(data.Color == 'Dark Mulatto'),'Color']=19\n",
        "data.loc[(data.Color == 'Light Brown'),'Color']=20\n",
        "data.loc[(data.Color == 'Chestnut'),'Color']=21\n",
        "data.loc[(data.Color == 'Brown'),'Color']=22\n",
        "data.loc[(data.Color == 'Light Negro'),'Color']=23\n",
        "data.loc[(data.Color == 'Creole Negro'),'Color']=24\n",
        "data.loc[(data.Color == 'Negro'),'Color']=25\n",
        "data.loc[(data.Color == 'Dark Negro'),'Color']=26\n",
        "data.loc[(data.Color == 'Black Negro'),'Color']=27\n",
        "data.loc[(data.Color == 'Light Black'),'Color']=28\n",
        "data.loc[(data.Color == 'Black'),'Color']=29\n",
        "\n",
        "\n",
        "colorLabels = data.Color.unique()\n",
        "data.Color.unique()"
      ],
      "execution_count": 97,
      "outputs": [
        {
          "output_type": "execute_result",
          "data": {
            "text/plain": [
              "array([1, 25, 15, 6, 16, 28, 29, 24, 8, 2, 13, 11, 14, 26, 10, 5, 19, 22,\n",
              "       18, 9, 23, 4, 20, 3, 17, 21, 7, 27, 12], dtype=object)"
            ]
          },
          "metadata": {
            "tags": []
          },
          "execution_count": 97
        }
      ]
    },
    {
      "cell_type": "markdown",
      "metadata": {
        "id": "cYlZRfOhJPKt"
      },
      "source": [
        ""
      ]
    },
    {
      "cell_type": "markdown",
      "metadata": {
        "id": "1POrOEyhT-TW"
      },
      "source": [
        "'UC', 'Colored', 'Albino, Negro', 'Light', 'Light Griff', 'Griff'/'Quarteroon', 'Yellow, Griff', 'Yellow', 'Mulatto, Griff', 'Light Mulatto', 'Copper', 'Griff Creole', 'Creole Mulatto', 'Creole', 'Mulatto',  'Dark Griff', 'Dark Orange, Griff', 'Dark Copper', 'Dark Mulatto', 'Light Brown', 'Chestnut', 'Brown', 'Light Negro', 'Creole Negro', 'Negro', 'Dark Negro', 'Black Negro', 'Light Black', 'Black'"
      ]
    },
    {
      "cell_type": "code",
      "metadata": {
        "id": "v2ckIHvi66SX",
        "colab": {
          "base_uri": "https://localhost:8080/",
          "height": 898
        },
        "outputId": "c39c0cb5-1f35-45bf-84bc-7c3572864316"
      },
      "source": [
        "#First look at slaves that were sold by themselves\n",
        "singles = pa.DataFrame(data.loc[data['Number of Total Slaves'] == 1])\n",
        "singles"
      ],
      "execution_count": 98,
      "outputs": [
        {
          "output_type": "execute_result",
          "data": {
            "text/html": [
              "<div>\n",
              "<style scoped>\n",
              "    .dataframe tbody tr th:only-of-type {\n",
              "        vertical-align: middle;\n",
              "    }\n",
              "\n",
              "    .dataframe tbody tr th {\n",
              "        vertical-align: top;\n",
              "    }\n",
              "\n",
              "    .dataframe thead th {\n",
              "        text-align: right;\n",
              "    }\n",
              "</style>\n",
              "<table border=\"1\" class=\"dataframe\">\n",
              "  <thead>\n",
              "    <tr style=\"text-align: right;\">\n",
              "      <th></th>\n",
              "      <th>ID number</th>\n",
              "      <th>Conveyance</th>\n",
              "      <th>Page</th>\n",
              "      <th>Researcher</th>\n",
              "      <th>Notary First Name</th>\n",
              "      <th>Notary Last Name</th>\n",
              "      <th>Sales Date</th>\n",
              "      <th>Sellers First Name</th>\n",
              "      <th>Sellers Last Name</th>\n",
              "      <th>Sellers County of Origin</th>\n",
              "      <th>Sellers State of Origin</th>\n",
              "      <th>Representing Seller</th>\n",
              "      <th>Relationship to Seller</th>\n",
              "      <th>Buyers First Name</th>\n",
              "      <th>Buyers Last Name</th>\n",
              "      <th>Buyers County of Origin</th>\n",
              "      <th>Buyers State of Origin</th>\n",
              "      <th>Representing Buyer</th>\n",
              "      <th>Relationship to Buyer</th>\n",
              "      <th>Slave Name</th>\n",
              "      <th>Sex</th>\n",
              "      <th>Age</th>\n",
              "      <th>Color</th>\n",
              "      <th>Occupation</th>\n",
              "      <th>Family Relationship</th>\n",
              "      <th>Name Child 1</th>\n",
              "      <th>Sex Child 1</th>\n",
              "      <th>Age Child 1</th>\n",
              "      <th>Name Child 2</th>\n",
              "      <th>Sex Child 2</th>\n",
              "      <th>Age Child 2</th>\n",
              "      <th>Name Child 3</th>\n",
              "      <th>Sex Child 3</th>\n",
              "      <th>Age Child 3</th>\n",
              "      <th>Name Child 4</th>\n",
              "      <th>Sex Child 4</th>\n",
              "      <th>Age Child 4</th>\n",
              "      <th>Name Child 5</th>\n",
              "      <th>Sex Child 5</th>\n",
              "      <th>Age Child 5</th>\n",
              "      <th>Name Child 6</th>\n",
              "      <th>Sex Child 6</th>\n",
              "      <th>Age Child 6</th>\n",
              "      <th>Name Child 7</th>\n",
              "      <th>Sex Child 7</th>\n",
              "      <th>Age Child 7</th>\n",
              "      <th>Name Child 8</th>\n",
              "      <th>Sex Child 8</th>\n",
              "      <th>Age Child 8</th>\n",
              "      <th>Guaranteed</th>\n",
              "      <th>Notes on Guarantee</th>\n",
              "      <th>Number of Total Slaves</th>\n",
              "      <th>Number of Adult Slaves</th>\n",
              "      <th>Number of Child Slaves</th>\n",
              "      <th>Number of Prices</th>\n",
              "      <th>Price</th>\n",
              "      <th>Payment Method</th>\n",
              "      <th>Payment flag</th>\n",
              "      <th>DUMMY credit</th>\n",
              "      <th>Down Payment</th>\n",
              "      <th>mthcred</th>\n",
              "      <th>Interest Rate</th>\n",
              "      <th>Discount Rate</th>\n",
              "      <th>predicted rate</th>\n",
              "      <th>Calculations</th>\n",
              "      <th>Ratio</th>\n",
              "      <th>PresentValue</th>\n",
              "      <th>DUMMY omission</th>\n",
              "      <th>Reason for Omission</th>\n",
              "      <th>Comments</th>\n",
              "      <th>DUMMY Estate Sale</th>\n",
              "      <th>Sellers Name</th>\n",
              "      <th>Buyers Name</th>\n",
              "      <th>Notary Name</th>\n",
              "    </tr>\n",
              "  </thead>\n",
              "  <tbody>\n",
              "    <tr>\n",
              "      <th>0</th>\n",
              "      <td>1</td>\n",
              "      <td>70</td>\n",
              "      <td>348</td>\n",
              "      <td>MS</td>\n",
              "      <td>John French</td>\n",
              "      <td>Coffey</td>\n",
              "      <td>10/6/1856</td>\n",
              "      <td>Benjamin</td>\n",
              "      <td>Screws</td>\n",
              "      <td>.</td>\n",
              "      <td>AL</td>\n",
              "      <td>James Whitfield Bozeman</td>\n",
              "      <td>Agent</td>\n",
              "      <td>Maria</td>\n",
              "      <td>Hopson</td>\n",
              "      <td>.</td>\n",
              "      <td>.</td>\n",
              "      <td>.</td>\n",
              "      <td>.</td>\n",
              "      <td>Shadrack</td>\n",
              "      <td>M</td>\n",
              "      <td>40</td>\n",
              "      <td>1</td>\n",
              "      <td>.</td>\n",
              "      <td>.</td>\n",
              "      <td>.</td>\n",
              "      <td>.</td>\n",
              "      <td>.</td>\n",
              "      <td>.</td>\n",
              "      <td>.</td>\n",
              "      <td>.</td>\n",
              "      <td>.</td>\n",
              "      <td>.</td>\n",
              "      <td>.</td>\n",
              "      <td>.</td>\n",
              "      <td>.</td>\n",
              "      <td>.</td>\n",
              "      <td>.</td>\n",
              "      <td>.</td>\n",
              "      <td>.</td>\n",
              "      <td>.</td>\n",
              "      <td>.</td>\n",
              "      <td>.</td>\n",
              "      <td>.</td>\n",
              "      <td>.</td>\n",
              "      <td>.</td>\n",
              "      <td>.</td>\n",
              "      <td>.</td>\n",
              "      <td>.</td>\n",
              "      <td>.</td>\n",
              "      <td>.</td>\n",
              "      <td>1</td>\n",
              "      <td>1</td>\n",
              "      <td>0</td>\n",
              "      <td>1</td>\n",
              "      <td>650</td>\n",
              "      <td>Cash</td>\n",
              "      <td>NaN</td>\n",
              "      <td>0</td>\n",
              "      <td>NaN</td>\n",
              "      <td>NaN</td>\n",
              "      <td>NaN</td>\n",
              "      <td>0.00602698</td>\n",
              "      <td>0.07477</td>\n",
              "      <td>NaN</td>\n",
              "      <td>NaN</td>\n",
              "      <td>NaN</td>\n",
              "      <td>0</td>\n",
              "      <td>NaN</td>\n",
              "      <td>NaN</td>\n",
              "      <td>NaN</td>\n",
              "      <td>Screws, Benjamin</td>\n",
              "      <td>Hopson, Maria</td>\n",
              "      <td>Coffey, John French</td>\n",
              "    </tr>\n",
              "    <tr>\n",
              "      <th>1</th>\n",
              "      <td>2</td>\n",
              "      <td>70</td>\n",
              "      <td>349</td>\n",
              "      <td>MS</td>\n",
              "      <td>William</td>\n",
              "      <td>Shannon</td>\n",
              "      <td>10/7/1856</td>\n",
              "      <td>Santiago</td>\n",
              "      <td>Galseran</td>\n",
              "      <td>New Orleans</td>\n",
              "      <td>LA</td>\n",
              "      <td>.</td>\n",
              "      <td>.</td>\n",
              "      <td>Peyton N.</td>\n",
              "      <td>Reynolds</td>\n",
              "      <td>New Orleans</td>\n",
              "      <td>LA</td>\n",
              "      <td>.</td>\n",
              "      <td>.</td>\n",
              "      <td>Jane</td>\n",
              "      <td>F</td>\n",
              "      <td>44</td>\n",
              "      <td>25</td>\n",
              "      <td>.</td>\n",
              "      <td>.</td>\n",
              "      <td>.</td>\n",
              "      <td>.</td>\n",
              "      <td>.</td>\n",
              "      <td>.</td>\n",
              "      <td>.</td>\n",
              "      <td>.</td>\n",
              "      <td>.</td>\n",
              "      <td>.</td>\n",
              "      <td>.</td>\n",
              "      <td>.</td>\n",
              "      <td>.</td>\n",
              "      <td>.</td>\n",
              "      <td>.</td>\n",
              "      <td>.</td>\n",
              "      <td>.</td>\n",
              "      <td>.</td>\n",
              "      <td>.</td>\n",
              "      <td>.</td>\n",
              "      <td>.</td>\n",
              "      <td>.</td>\n",
              "      <td>.</td>\n",
              "      <td>.</td>\n",
              "      <td>.</td>\n",
              "      <td>.</td>\n",
              "      <td>.</td>\n",
              "      <td>.</td>\n",
              "      <td>1</td>\n",
              "      <td>1</td>\n",
              "      <td>0</td>\n",
              "      <td>1</td>\n",
              "      <td>550</td>\n",
              "      <td>Cash</td>\n",
              "      <td>NaN</td>\n",
              "      <td>0</td>\n",
              "      <td>NaN</td>\n",
              "      <td>NaN</td>\n",
              "      <td>NaN</td>\n",
              "      <td>0.00602698</td>\n",
              "      <td>0.07477</td>\n",
              "      <td>NaN</td>\n",
              "      <td>NaN</td>\n",
              "      <td>NaN</td>\n",
              "      <td>0</td>\n",
              "      <td>NaN</td>\n",
              "      <td>NaN</td>\n",
              "      <td>NaN</td>\n",
              "      <td>Galseran, Santiago</td>\n",
              "      <td>Reynolds, Peyton N.</td>\n",
              "      <td>Shannon, William</td>\n",
              "    </tr>\n",
              "    <tr>\n",
              "      <th>2</th>\n",
              "      <td>3</td>\n",
              "      <td>70</td>\n",
              "      <td>351</td>\n",
              "      <td>MS</td>\n",
              "      <td>Edward George</td>\n",
              "      <td>Gottschalk</td>\n",
              "      <td>10/1/1856</td>\n",
              "      <td>Pierre</td>\n",
              "      <td>Macou</td>\n",
              "      <td>New Orleans</td>\n",
              "      <td>LA</td>\n",
              "      <td>Jean Louis Moinet</td>\n",
              "      <td>Joint Seller</td>\n",
              "      <td>Heloise</td>\n",
              "      <td>Bagneris</td>\n",
              "      <td>New Orleans</td>\n",
              "      <td>LA</td>\n",
              "      <td>.</td>\n",
              "      <td>.</td>\n",
              "      <td>Helen</td>\n",
              "      <td>F</td>\n",
              "      <td>24</td>\n",
              "      <td>25</td>\n",
              "      <td>.</td>\n",
              "      <td>.</td>\n",
              "      <td>.</td>\n",
              "      <td>.</td>\n",
              "      <td>.</td>\n",
              "      <td>.</td>\n",
              "      <td>.</td>\n",
              "      <td>.</td>\n",
              "      <td>.</td>\n",
              "      <td>.</td>\n",
              "      <td>.</td>\n",
              "      <td>.</td>\n",
              "      <td>.</td>\n",
              "      <td>.</td>\n",
              "      <td>.</td>\n",
              "      <td>.</td>\n",
              "      <td>.</td>\n",
              "      <td>.</td>\n",
              "      <td>.</td>\n",
              "      <td>.</td>\n",
              "      <td>.</td>\n",
              "      <td>.</td>\n",
              "      <td>.</td>\n",
              "      <td>.</td>\n",
              "      <td>.</td>\n",
              "      <td>.</td>\n",
              "      <td>.</td>\n",
              "      <td>.</td>\n",
              "      <td>1</td>\n",
              "      <td>1</td>\n",
              "      <td>0</td>\n",
              "      <td>1</td>\n",
              "      <td>1000</td>\n",
              "      <td>Cash</td>\n",
              "      <td>NaN</td>\n",
              "      <td>0</td>\n",
              "      <td>NaN</td>\n",
              "      <td>NaN</td>\n",
              "      <td>NaN</td>\n",
              "      <td>0.00602698</td>\n",
              "      <td>0.07477</td>\n",
              "      <td>NaN</td>\n",
              "      <td>NaN</td>\n",
              "      <td>NaN</td>\n",
              "      <td>0</td>\n",
              "      <td>NaN</td>\n",
              "      <td>NaN</td>\n",
              "      <td>NaN</td>\n",
              "      <td>Macou, Pierre</td>\n",
              "      <td>Bagneris, Heloise</td>\n",
              "      <td>Gottschalk, Edward George</td>\n",
              "    </tr>\n",
              "    <tr>\n",
              "      <th>3</th>\n",
              "      <td>4</td>\n",
              "      <td>70</td>\n",
              "      <td>352</td>\n",
              "      <td>MS</td>\n",
              "      <td>Paul Emile</td>\n",
              "      <td>Laresche</td>\n",
              "      <td>10/8/1856</td>\n",
              "      <td>Benjamin Franklin</td>\n",
              "      <td>Irby</td>\n",
              "      <td>Vanzand</td>\n",
              "      <td>TX</td>\n",
              "      <td>.</td>\n",
              "      <td>.</td>\n",
              "      <td>Francis</td>\n",
              "      <td>Dugue Jr.</td>\n",
              "      <td>Jefferson</td>\n",
              "      <td>LA</td>\n",
              "      <td>.</td>\n",
              "      <td>.</td>\n",
              "      <td>Jeff</td>\n",
              "      <td>M</td>\n",
              "      <td>23</td>\n",
              "      <td>25</td>\n",
              "      <td>.</td>\n",
              "      <td>.</td>\n",
              "      <td>.</td>\n",
              "      <td>.</td>\n",
              "      <td>.</td>\n",
              "      <td>.</td>\n",
              "      <td>.</td>\n",
              "      <td>.</td>\n",
              "      <td>.</td>\n",
              "      <td>.</td>\n",
              "      <td>.</td>\n",
              "      <td>.</td>\n",
              "      <td>.</td>\n",
              "      <td>.</td>\n",
              "      <td>.</td>\n",
              "      <td>.</td>\n",
              "      <td>.</td>\n",
              "      <td>.</td>\n",
              "      <td>.</td>\n",
              "      <td>.</td>\n",
              "      <td>.</td>\n",
              "      <td>.</td>\n",
              "      <td>.</td>\n",
              "      <td>.</td>\n",
              "      <td>.</td>\n",
              "      <td>.</td>\n",
              "      <td>.</td>\n",
              "      <td>.</td>\n",
              "      <td>1</td>\n",
              "      <td>1</td>\n",
              "      <td>0</td>\n",
              "      <td>1</td>\n",
              "      <td>1400</td>\n",
              "      <td>Cash</td>\n",
              "      <td>NaN</td>\n",
              "      <td>0</td>\n",
              "      <td>NaN</td>\n",
              "      <td>NaN</td>\n",
              "      <td>NaN</td>\n",
              "      <td>0.00602698</td>\n",
              "      <td>0.07477</td>\n",
              "      <td>NaN</td>\n",
              "      <td>NaN</td>\n",
              "      <td>NaN</td>\n",
              "      <td>0</td>\n",
              "      <td>NaN</td>\n",
              "      <td>NaN</td>\n",
              "      <td>NaN</td>\n",
              "      <td>Irby, Benjamin Franklin</td>\n",
              "      <td>Dugue Jr., Francis</td>\n",
              "      <td>Laresche, Paul Emile</td>\n",
              "    </tr>\n",
              "    <tr>\n",
              "      <th>4</th>\n",
              "      <td>5</td>\n",
              "      <td>70</td>\n",
              "      <td>352</td>\n",
              "      <td>MS</td>\n",
              "      <td>George</td>\n",
              "      <td>Rareshide</td>\n",
              "      <td>10/8/1856</td>\n",
              "      <td>Richard</td>\n",
              "      <td>Condon</td>\n",
              "      <td>New Orleans</td>\n",
              "      <td>LA</td>\n",
              "      <td>.</td>\n",
              "      <td>.</td>\n",
              "      <td>Anthony</td>\n",
              "      <td>O'Dowd</td>\n",
              "      <td>New Orleans</td>\n",
              "      <td>LA</td>\n",
              "      <td>.</td>\n",
              "      <td>.</td>\n",
              "      <td>John</td>\n",
              "      <td>M</td>\n",
              "      <td>12</td>\n",
              "      <td>25</td>\n",
              "      <td>.</td>\n",
              "      <td>.</td>\n",
              "      <td>.</td>\n",
              "      <td>.</td>\n",
              "      <td>.</td>\n",
              "      <td>.</td>\n",
              "      <td>.</td>\n",
              "      <td>.</td>\n",
              "      <td>.</td>\n",
              "      <td>.</td>\n",
              "      <td>.</td>\n",
              "      <td>.</td>\n",
              "      <td>.</td>\n",
              "      <td>.</td>\n",
              "      <td>.</td>\n",
              "      <td>.</td>\n",
              "      <td>.</td>\n",
              "      <td>.</td>\n",
              "      <td>.</td>\n",
              "      <td>.</td>\n",
              "      <td>.</td>\n",
              "      <td>.</td>\n",
              "      <td>.</td>\n",
              "      <td>.</td>\n",
              "      <td>.</td>\n",
              "      <td>.</td>\n",
              "      <td>.</td>\n",
              "      <td>.</td>\n",
              "      <td>1</td>\n",
              "      <td>1</td>\n",
              "      <td>0</td>\n",
              "      <td>1</td>\n",
              "      <td>700</td>\n",
              "      <td>Cash</td>\n",
              "      <td>NaN</td>\n",
              "      <td>0</td>\n",
              "      <td>NaN</td>\n",
              "      <td>NaN</td>\n",
              "      <td>NaN</td>\n",
              "      <td>0.00602698</td>\n",
              "      <td>0.07477</td>\n",
              "      <td>NaN</td>\n",
              "      <td>NaN</td>\n",
              "      <td>NaN</td>\n",
              "      <td>0</td>\n",
              "      <td>NaN</td>\n",
              "      <td>NaN</td>\n",
              "      <td>NaN</td>\n",
              "      <td>Condon, Richard</td>\n",
              "      <td>O'Dowd, Anthony</td>\n",
              "      <td>Rareshide, George</td>\n",
              "    </tr>\n",
              "    <tr>\n",
              "      <th>...</th>\n",
              "      <td>...</td>\n",
              "      <td>...</td>\n",
              "      <td>...</td>\n",
              "      <td>...</td>\n",
              "      <td>...</td>\n",
              "      <td>...</td>\n",
              "      <td>...</td>\n",
              "      <td>...</td>\n",
              "      <td>...</td>\n",
              "      <td>...</td>\n",
              "      <td>...</td>\n",
              "      <td>...</td>\n",
              "      <td>...</td>\n",
              "      <td>...</td>\n",
              "      <td>...</td>\n",
              "      <td>...</td>\n",
              "      <td>...</td>\n",
              "      <td>...</td>\n",
              "      <td>...</td>\n",
              "      <td>...</td>\n",
              "      <td>...</td>\n",
              "      <td>...</td>\n",
              "      <td>...</td>\n",
              "      <td>...</td>\n",
              "      <td>...</td>\n",
              "      <td>...</td>\n",
              "      <td>...</td>\n",
              "      <td>...</td>\n",
              "      <td>...</td>\n",
              "      <td>...</td>\n",
              "      <td>...</td>\n",
              "      <td>...</td>\n",
              "      <td>...</td>\n",
              "      <td>...</td>\n",
              "      <td>...</td>\n",
              "      <td>...</td>\n",
              "      <td>...</td>\n",
              "      <td>...</td>\n",
              "      <td>...</td>\n",
              "      <td>...</td>\n",
              "      <td>...</td>\n",
              "      <td>...</td>\n",
              "      <td>...</td>\n",
              "      <td>...</td>\n",
              "      <td>...</td>\n",
              "      <td>...</td>\n",
              "      <td>...</td>\n",
              "      <td>...</td>\n",
              "      <td>...</td>\n",
              "      <td>...</td>\n",
              "      <td>...</td>\n",
              "      <td>...</td>\n",
              "      <td>...</td>\n",
              "      <td>...</td>\n",
              "      <td>...</td>\n",
              "      <td>...</td>\n",
              "      <td>...</td>\n",
              "      <td>...</td>\n",
              "      <td>...</td>\n",
              "      <td>...</td>\n",
              "      <td>...</td>\n",
              "      <td>...</td>\n",
              "      <td>...</td>\n",
              "      <td>...</td>\n",
              "      <td>...</td>\n",
              "      <td>...</td>\n",
              "      <td>...</td>\n",
              "      <td>...</td>\n",
              "      <td>...</td>\n",
              "      <td>...</td>\n",
              "      <td>...</td>\n",
              "      <td>...</td>\n",
              "      <td>...</td>\n",
              "      <td>...</td>\n",
              "    </tr>\n",
              "    <tr>\n",
              "      <th>14696</th>\n",
              "      <td>15201</td>\n",
              "      <td>87</td>\n",
              "      <td>90</td>\n",
              "      <td>KRZC</td>\n",
              "      <td>Jean</td>\n",
              "      <td>Agaisse</td>\n",
              "      <td>8/29/1861</td>\n",
              "      <td>Jean Gabriel</td>\n",
              "      <td>Mortimer</td>\n",
              "      <td>New Orleans</td>\n",
              "      <td>LA</td>\n",
              "      <td>.</td>\n",
              "      <td>.</td>\n",
              "      <td>Octavie</td>\n",
              "      <td>Leesage</td>\n",
              "      <td>New Orleans</td>\n",
              "      <td>LA</td>\n",
              "      <td>.</td>\n",
              "      <td>.</td>\n",
              "      <td>Eliza</td>\n",
              "      <td>F</td>\n",
              "      <td>52</td>\n",
              "      <td>6</td>\n",
              "      <td>.</td>\n",
              "      <td>.</td>\n",
              "      <td>.</td>\n",
              "      <td>.</td>\n",
              "      <td>.</td>\n",
              "      <td>.</td>\n",
              "      <td>.</td>\n",
              "      <td>.</td>\n",
              "      <td>.</td>\n",
              "      <td>.</td>\n",
              "      <td>.</td>\n",
              "      <td>.</td>\n",
              "      <td>.</td>\n",
              "      <td>.</td>\n",
              "      <td>.</td>\n",
              "      <td>.</td>\n",
              "      <td>.</td>\n",
              "      <td>.</td>\n",
              "      <td>.</td>\n",
              "      <td>.</td>\n",
              "      <td>.</td>\n",
              "      <td>.</td>\n",
              "      <td>.</td>\n",
              "      <td>.</td>\n",
              "      <td>.</td>\n",
              "      <td>.</td>\n",
              "      <td>Partial</td>\n",
              "      <td>Titly Only, Sickly</td>\n",
              "      <td>1</td>\n",
              "      <td>1</td>\n",
              "      <td>0</td>\n",
              "      <td>1</td>\n",
              "      <td>80</td>\n",
              "      <td>Cash</td>\n",
              "      <td>NaN</td>\n",
              "      <td>0</td>\n",
              "      <td>NaN</td>\n",
              "      <td>NaN</td>\n",
              "      <td>NaN</td>\n",
              "      <td>0.00602698</td>\n",
              "      <td>0.07477</td>\n",
              "      <td>NaN</td>\n",
              "      <td>NaN</td>\n",
              "      <td>NaN</td>\n",
              "      <td>0</td>\n",
              "      <td>NaN</td>\n",
              "      <td>Buyer is FPC</td>\n",
              "      <td>NaN</td>\n",
              "      <td>Mortimer, Jean Gabriel</td>\n",
              "      <td>Leesage, Octavie</td>\n",
              "      <td>Agaisse, Jean</td>\n",
              "    </tr>\n",
              "    <tr>\n",
              "      <th>14701</th>\n",
              "      <td>15212</td>\n",
              "      <td>87</td>\n",
              "      <td>111</td>\n",
              "      <td>KRZC</td>\n",
              "      <td>Antoine</td>\n",
              "      <td>Abat</td>\n",
              "      <td>5/6/1861</td>\n",
              "      <td>John</td>\n",
              "      <td>Bangle</td>\n",
              "      <td>Lafayette</td>\n",
              "      <td>MS</td>\n",
              "      <td>Peyton H. Skipwidth</td>\n",
              "      <td>Attorney</td>\n",
              "      <td>Paul</td>\n",
              "      <td>Abat</td>\n",
              "      <td>New Orleans</td>\n",
              "      <td>LA</td>\n",
              "      <td>.</td>\n",
              "      <td>.</td>\n",
              "      <td>Tom</td>\n",
              "      <td>M</td>\n",
              "      <td>24</td>\n",
              "      <td>15</td>\n",
              "      <td>.</td>\n",
              "      <td>.</td>\n",
              "      <td>.</td>\n",
              "      <td>.</td>\n",
              "      <td>.</td>\n",
              "      <td>.</td>\n",
              "      <td>.</td>\n",
              "      <td>.</td>\n",
              "      <td>.</td>\n",
              "      <td>.</td>\n",
              "      <td>.</td>\n",
              "      <td>.</td>\n",
              "      <td>.</td>\n",
              "      <td>.</td>\n",
              "      <td>.</td>\n",
              "      <td>.</td>\n",
              "      <td>.</td>\n",
              "      <td>.</td>\n",
              "      <td>.</td>\n",
              "      <td>.</td>\n",
              "      <td>.</td>\n",
              "      <td>.</td>\n",
              "      <td>.</td>\n",
              "      <td>.</td>\n",
              "      <td>.</td>\n",
              "      <td>.</td>\n",
              "      <td>No</td>\n",
              "      <td>Guaranteed in title only</td>\n",
              "      <td>1</td>\n",
              "      <td>1</td>\n",
              "      <td>0</td>\n",
              "      <td>1</td>\n",
              "      <td>1000</td>\n",
              "      <td>Credit</td>\n",
              "      <td>One note payable in a year at 8% interest</td>\n",
              "      <td>1</td>\n",
              "      <td>0</td>\n",
              "      <td>12</td>\n",
              "      <td>0.08</td>\n",
              "      <td>0.006202525</td>\n",
              "      <td>0.07702264</td>\n",
              "      <td>NaN</td>\n",
              "      <td>NaN</td>\n",
              "      <td>1000</td>\n",
              "      <td>0</td>\n",
              "      <td>NaN</td>\n",
              "      <td>NaN</td>\n",
              "      <td>NaN</td>\n",
              "      <td>Bangle, John</td>\n",
              "      <td>Abat, Paul</td>\n",
              "      <td>Abat, Antoine</td>\n",
              "    </tr>\n",
              "    <tr>\n",
              "      <th>14702</th>\n",
              "      <td>15221</td>\n",
              "      <td>87</td>\n",
              "      <td>118</td>\n",
              "      <td>KRZC</td>\n",
              "      <td>Octave</td>\n",
              "      <td>De Armas</td>\n",
              "      <td>8/29/1861</td>\n",
              "      <td>Gustave</td>\n",
              "      <td>Moras</td>\n",
              "      <td>.</td>\n",
              "      <td>.</td>\n",
              "      <td>Elizabeth Bruin</td>\n",
              "      <td>Executor of the Estate</td>\n",
              "      <td>Francois</td>\n",
              "      <td>Duque</td>\n",
              "      <td>Jefferson</td>\n",
              "      <td>LA</td>\n",
              "      <td>.</td>\n",
              "      <td>.</td>\n",
              "      <td>William</td>\n",
              "      <td>M</td>\n",
              "      <td>28</td>\n",
              "      <td>24</td>\n",
              "      <td>.</td>\n",
              "      <td>.</td>\n",
              "      <td>.</td>\n",
              "      <td>.</td>\n",
              "      <td>.</td>\n",
              "      <td>.</td>\n",
              "      <td>.</td>\n",
              "      <td>.</td>\n",
              "      <td>.</td>\n",
              "      <td>.</td>\n",
              "      <td>.</td>\n",
              "      <td>.</td>\n",
              "      <td>.</td>\n",
              "      <td>.</td>\n",
              "      <td>.</td>\n",
              "      <td>.</td>\n",
              "      <td>.</td>\n",
              "      <td>.</td>\n",
              "      <td>.</td>\n",
              "      <td>.</td>\n",
              "      <td>.</td>\n",
              "      <td>.</td>\n",
              "      <td>.</td>\n",
              "      <td>.</td>\n",
              "      <td>.</td>\n",
              "      <td>.</td>\n",
              "      <td>.</td>\n",
              "      <td>.</td>\n",
              "      <td>1</td>\n",
              "      <td>1</td>\n",
              "      <td>0</td>\n",
              "      <td>1</td>\n",
              "      <td>800</td>\n",
              "      <td>Cash and Credit</td>\n",
              "      <td>400 paid cash with the balance put into a note...</td>\n",
              "      <td>1</td>\n",
              "      <td>400</td>\n",
              "      <td>6</td>\n",
              "      <td>0.08</td>\n",
              "      <td>0.005790818</td>\n",
              "      <td>0.07174632</td>\n",
              "      <td>NaN</td>\n",
              "      <td>NaN</td>\n",
              "      <td>800</td>\n",
              "      <td>0</td>\n",
              "      <td>NaN</td>\n",
              "      <td>NaN</td>\n",
              "      <td>1.0</td>\n",
              "      <td>Moras, Gustave</td>\n",
              "      <td>Duque, Francois</td>\n",
              "      <td>De Armas, Octave</td>\n",
              "    </tr>\n",
              "    <tr>\n",
              "      <th>14704</th>\n",
              "      <td>15268</td>\n",
              "      <td>87</td>\n",
              "      <td>201</td>\n",
              "      <td>KRZC</td>\n",
              "      <td>.</td>\n",
              "      <td>.</td>\n",
              "      <td>4/4/1861</td>\n",
              "      <td>V. W.</td>\n",
              "      <td>Hutt</td>\n",
              "      <td>Little Rock</td>\n",
              "      <td>AR</td>\n",
              "      <td>.</td>\n",
              "      <td>.</td>\n",
              "      <td>Isaac</td>\n",
              "      <td>Bloom</td>\n",
              "      <td>New Orleans</td>\n",
              "      <td>LA</td>\n",
              "      <td>.</td>\n",
              "      <td>.</td>\n",
              "      <td>Enock Black</td>\n",
              "      <td>M</td>\n",
              "      <td>35</td>\n",
              "      <td>25</td>\n",
              "      <td>.</td>\n",
              "      <td>.</td>\n",
              "      <td>.</td>\n",
              "      <td>.</td>\n",
              "      <td>.</td>\n",
              "      <td>.</td>\n",
              "      <td>.</td>\n",
              "      <td>.</td>\n",
              "      <td>.</td>\n",
              "      <td>.</td>\n",
              "      <td>.</td>\n",
              "      <td>.</td>\n",
              "      <td>.</td>\n",
              "      <td>.</td>\n",
              "      <td>.</td>\n",
              "      <td>.</td>\n",
              "      <td>.</td>\n",
              "      <td>.</td>\n",
              "      <td>.</td>\n",
              "      <td>.</td>\n",
              "      <td>.</td>\n",
              "      <td>.</td>\n",
              "      <td>.</td>\n",
              "      <td>.</td>\n",
              "      <td>.</td>\n",
              "      <td>.</td>\n",
              "      <td>Yes</td>\n",
              "      <td>Fully guaranteed</td>\n",
              "      <td>1</td>\n",
              "      <td>1</td>\n",
              "      <td>0</td>\n",
              "      <td>1</td>\n",
              "      <td>950</td>\n",
              "      <td>Cash</td>\n",
              "      <td>NaN</td>\n",
              "      <td>0</td>\n",
              "      <td>NaN</td>\n",
              "      <td>NaN</td>\n",
              "      <td>NaN</td>\n",
              "      <td>0.00602698</td>\n",
              "      <td>0.07477</td>\n",
              "      <td>NaN</td>\n",
              "      <td>NaN</td>\n",
              "      <td>NaN</td>\n",
              "      <td>0</td>\n",
              "      <td>NaN</td>\n",
              "      <td>NaN</td>\n",
              "      <td>NaN</td>\n",
              "      <td>Hutt, V. W.</td>\n",
              "      <td>Bloom, Isaac</td>\n",
              "      <td>., .</td>\n",
              "    </tr>\n",
              "    <tr>\n",
              "      <th>14712</th>\n",
              "      <td>15377</td>\n",
              "      <td>87</td>\n",
              "      <td>340</td>\n",
              "      <td>KRZC</td>\n",
              "      <td>Amedee</td>\n",
              "      <td>Ducatel</td>\n",
              "      <td>7/29/1861</td>\n",
              "      <td>Antoine</td>\n",
              "      <td>Guidry</td>\n",
              "      <td>Lafayette</td>\n",
              "      <td>LA</td>\n",
              "      <td>.</td>\n",
              "      <td>.</td>\n",
              "      <td>Pierre</td>\n",
              "      <td>Balois</td>\n",
              "      <td>New Orleans</td>\n",
              "      <td>LA</td>\n",
              "      <td>.</td>\n",
              "      <td>.</td>\n",
              "      <td>Emilien</td>\n",
              "      <td>M</td>\n",
              "      <td>42</td>\n",
              "      <td>1</td>\n",
              "      <td>.</td>\n",
              "      <td>.</td>\n",
              "      <td>.</td>\n",
              "      <td>.</td>\n",
              "      <td>.</td>\n",
              "      <td>.</td>\n",
              "      <td>.</td>\n",
              "      <td>.</td>\n",
              "      <td>.</td>\n",
              "      <td>.</td>\n",
              "      <td>.</td>\n",
              "      <td>.</td>\n",
              "      <td>.</td>\n",
              "      <td>.</td>\n",
              "      <td>.</td>\n",
              "      <td>.</td>\n",
              "      <td>.</td>\n",
              "      <td>.</td>\n",
              "      <td>.</td>\n",
              "      <td>.</td>\n",
              "      <td>.</td>\n",
              "      <td>.</td>\n",
              "      <td>.</td>\n",
              "      <td>.</td>\n",
              "      <td>.</td>\n",
              "      <td>.</td>\n",
              "      <td>.</td>\n",
              "      <td>.</td>\n",
              "      <td>1</td>\n",
              "      <td>1</td>\n",
              "      <td>0</td>\n",
              "      <td>1</td>\n",
              "      <td>1600</td>\n",
              "      <td>Cash and Credit</td>\n",
              "      <td>800 paid cash with a note for 800 due 1/3/1862...</td>\n",
              "      <td>1</td>\n",
              "      <td>800</td>\n",
              "      <td>10</td>\n",
              "      <td>0.08</td>\n",
              "      <td>0.005849522</td>\n",
              "      <td>0.0724972</td>\n",
              "      <td>NaN</td>\n",
              "      <td>NaN</td>\n",
              "      <td>1600</td>\n",
              "      <td>0</td>\n",
              "      <td>NaN</td>\n",
              "      <td>NaN</td>\n",
              "      <td>NaN</td>\n",
              "      <td>Guidry , Antoine</td>\n",
              "      <td>Balois, Pierre</td>\n",
              "      <td>Ducatel, Amedee</td>\n",
              "    </tr>\n",
              "  </tbody>\n",
              "</table>\n",
              "<p>7058 rows × 74 columns</p>\n",
              "</div>"
            ],
            "text/plain": [
              "       ID number  Conveyance  ...          Buyers Name                Notary Name\n",
              "0              1          70  ...        Hopson, Maria        Coffey, John French\n",
              "1              2          70  ...  Reynolds, Peyton N.           Shannon, William\n",
              "2              3          70  ...    Bagneris, Heloise  Gottschalk, Edward George\n",
              "3              4          70  ...   Dugue Jr., Francis       Laresche, Paul Emile\n",
              "4              5          70  ...      O'Dowd, Anthony          Rareshide, George\n",
              "...          ...         ...  ...                  ...                        ...\n",
              "14696      15201          87  ...     Leesage, Octavie              Agaisse, Jean\n",
              "14701      15212          87  ...           Abat, Paul              Abat, Antoine\n",
              "14702      15221          87  ...      Duque, Francois           De Armas, Octave\n",
              "14704      15268          87  ...         Bloom, Isaac                       ., .\n",
              "14712      15377          87  ...       Balois, Pierre            Ducatel, Amedee\n",
              "\n",
              "[7058 rows x 74 columns]"
            ]
          },
          "metadata": {
            "tags": []
          },
          "execution_count": 98
        }
      ]
    },
    {
      "cell_type": "code",
      "metadata": {
        "id": "Z9EWdh_r9C35"
      },
      "source": [
        ""
      ],
      "execution_count": 98,
      "outputs": []
    },
    {
      "cell_type": "markdown",
      "metadata": {
        "id": "gLoo0Ii28xnV"
      },
      "source": [
        "Look at Single Adults sold by themselves."
      ]
    },
    {
      "cell_type": "code",
      "metadata": {
        "id": "ZlD4Ywp77XYW"
      },
      "source": [
        "#now look at the adults of these\n",
        "singleadults = pa.DataFrame(singles.loc[singles['Number of Adult Slaves'] == 1])"
      ],
      "execution_count": 99,
      "outputs": []
    },
    {
      "cell_type": "code",
      "metadata": {
        "id": "WX3iT9778g5n"
      },
      "source": [
        ""
      ],
      "execution_count": 99,
      "outputs": []
    },
    {
      "cell_type": "code",
      "metadata": {
        "id": "d_X4z5F77vVE",
        "colab": {
          "base_uri": "https://localhost:8080/",
          "height": 419
        },
        "outputId": "3f212ce4-dd50-4167-ac71-98a1d65adaf2"
      },
      "source": [
        "singleadults = singleadults[['Sex', 'Age', 'Color', 'Price']]\n",
        "singleadults"
      ],
      "execution_count": 100,
      "outputs": [
        {
          "output_type": "execute_result",
          "data": {
            "text/html": [
              "<div>\n",
              "<style scoped>\n",
              "    .dataframe tbody tr th:only-of-type {\n",
              "        vertical-align: middle;\n",
              "    }\n",
              "\n",
              "    .dataframe tbody tr th {\n",
              "        vertical-align: top;\n",
              "    }\n",
              "\n",
              "    .dataframe thead th {\n",
              "        text-align: right;\n",
              "    }\n",
              "</style>\n",
              "<table border=\"1\" class=\"dataframe\">\n",
              "  <thead>\n",
              "    <tr style=\"text-align: right;\">\n",
              "      <th></th>\n",
              "      <th>Sex</th>\n",
              "      <th>Age</th>\n",
              "      <th>Color</th>\n",
              "      <th>Price</th>\n",
              "    </tr>\n",
              "  </thead>\n",
              "  <tbody>\n",
              "    <tr>\n",
              "      <th>0</th>\n",
              "      <td>M</td>\n",
              "      <td>40</td>\n",
              "      <td>1</td>\n",
              "      <td>650</td>\n",
              "    </tr>\n",
              "    <tr>\n",
              "      <th>1</th>\n",
              "      <td>F</td>\n",
              "      <td>44</td>\n",
              "      <td>25</td>\n",
              "      <td>550</td>\n",
              "    </tr>\n",
              "    <tr>\n",
              "      <th>2</th>\n",
              "      <td>F</td>\n",
              "      <td>24</td>\n",
              "      <td>25</td>\n",
              "      <td>1000</td>\n",
              "    </tr>\n",
              "    <tr>\n",
              "      <th>3</th>\n",
              "      <td>M</td>\n",
              "      <td>23</td>\n",
              "      <td>25</td>\n",
              "      <td>1400</td>\n",
              "    </tr>\n",
              "    <tr>\n",
              "      <th>4</th>\n",
              "      <td>M</td>\n",
              "      <td>12</td>\n",
              "      <td>25</td>\n",
              "      <td>700</td>\n",
              "    </tr>\n",
              "    <tr>\n",
              "      <th>...</th>\n",
              "      <td>...</td>\n",
              "      <td>...</td>\n",
              "      <td>...</td>\n",
              "      <td>...</td>\n",
              "    </tr>\n",
              "    <tr>\n",
              "      <th>14696</th>\n",
              "      <td>F</td>\n",
              "      <td>52</td>\n",
              "      <td>6</td>\n",
              "      <td>80</td>\n",
              "    </tr>\n",
              "    <tr>\n",
              "      <th>14701</th>\n",
              "      <td>M</td>\n",
              "      <td>24</td>\n",
              "      <td>15</td>\n",
              "      <td>1000</td>\n",
              "    </tr>\n",
              "    <tr>\n",
              "      <th>14702</th>\n",
              "      <td>M</td>\n",
              "      <td>28</td>\n",
              "      <td>24</td>\n",
              "      <td>800</td>\n",
              "    </tr>\n",
              "    <tr>\n",
              "      <th>14704</th>\n",
              "      <td>M</td>\n",
              "      <td>35</td>\n",
              "      <td>25</td>\n",
              "      <td>950</td>\n",
              "    </tr>\n",
              "    <tr>\n",
              "      <th>14712</th>\n",
              "      <td>M</td>\n",
              "      <td>42</td>\n",
              "      <td>1</td>\n",
              "      <td>1600</td>\n",
              "    </tr>\n",
              "  </tbody>\n",
              "</table>\n",
              "<p>7057 rows × 4 columns</p>\n",
              "</div>"
            ],
            "text/plain": [
              "      Sex Age Color Price\n",
              "0       M  40     1   650\n",
              "1       F  44    25   550\n",
              "2       F  24    25  1000\n",
              "3       M  23    25  1400\n",
              "4       M  12    25   700\n",
              "...    ..  ..   ...   ...\n",
              "14696   F  52     6    80\n",
              "14701   M  24    15  1000\n",
              "14702   M  28    24   800\n",
              "14704   M  35    25   950\n",
              "14712   M  42     1  1600\n",
              "\n",
              "[7057 rows x 4 columns]"
            ]
          },
          "metadata": {
            "tags": []
          },
          "execution_count": 100
        }
      ]
    },
    {
      "cell_type": "code",
      "metadata": {
        "id": "of10MPrf84go"
      },
      "source": [
        "singleadults = singleadults[~(singleadults['Price'] == '.')]\n",
        "singleadults = singleadults[~(singleadults['Age']=='.')]"
      ],
      "execution_count": 101,
      "outputs": []
    },
    {
      "cell_type": "code",
      "metadata": {
        "id": "jm834o6hBE-5"
      },
      "source": [
        "singleadults = singleadults[singleadults['Price'].notna()]"
      ],
      "execution_count": 102,
      "outputs": []
    },
    {
      "cell_type": "code",
      "metadata": {
        "id": "9zKBuJSe-u4n",
        "colab": {
          "base_uri": "https://localhost:8080/",
          "height": 419
        },
        "outputId": "a4ae52fc-668f-470c-8200-e8aacbd0ed2c"
      },
      "source": [
        "singleadults"
      ],
      "execution_count": 103,
      "outputs": [
        {
          "output_type": "execute_result",
          "data": {
            "text/html": [
              "<div>\n",
              "<style scoped>\n",
              "    .dataframe tbody tr th:only-of-type {\n",
              "        vertical-align: middle;\n",
              "    }\n",
              "\n",
              "    .dataframe tbody tr th {\n",
              "        vertical-align: top;\n",
              "    }\n",
              "\n",
              "    .dataframe thead th {\n",
              "        text-align: right;\n",
              "    }\n",
              "</style>\n",
              "<table border=\"1\" class=\"dataframe\">\n",
              "  <thead>\n",
              "    <tr style=\"text-align: right;\">\n",
              "      <th></th>\n",
              "      <th>Sex</th>\n",
              "      <th>Age</th>\n",
              "      <th>Color</th>\n",
              "      <th>Price</th>\n",
              "    </tr>\n",
              "  </thead>\n",
              "  <tbody>\n",
              "    <tr>\n",
              "      <th>0</th>\n",
              "      <td>M</td>\n",
              "      <td>40</td>\n",
              "      <td>1</td>\n",
              "      <td>650</td>\n",
              "    </tr>\n",
              "    <tr>\n",
              "      <th>1</th>\n",
              "      <td>F</td>\n",
              "      <td>44</td>\n",
              "      <td>25</td>\n",
              "      <td>550</td>\n",
              "    </tr>\n",
              "    <tr>\n",
              "      <th>2</th>\n",
              "      <td>F</td>\n",
              "      <td>24</td>\n",
              "      <td>25</td>\n",
              "      <td>1000</td>\n",
              "    </tr>\n",
              "    <tr>\n",
              "      <th>3</th>\n",
              "      <td>M</td>\n",
              "      <td>23</td>\n",
              "      <td>25</td>\n",
              "      <td>1400</td>\n",
              "    </tr>\n",
              "    <tr>\n",
              "      <th>4</th>\n",
              "      <td>M</td>\n",
              "      <td>12</td>\n",
              "      <td>25</td>\n",
              "      <td>700</td>\n",
              "    </tr>\n",
              "    <tr>\n",
              "      <th>...</th>\n",
              "      <td>...</td>\n",
              "      <td>...</td>\n",
              "      <td>...</td>\n",
              "      <td>...</td>\n",
              "    </tr>\n",
              "    <tr>\n",
              "      <th>14696</th>\n",
              "      <td>F</td>\n",
              "      <td>52</td>\n",
              "      <td>6</td>\n",
              "      <td>80</td>\n",
              "    </tr>\n",
              "    <tr>\n",
              "      <th>14701</th>\n",
              "      <td>M</td>\n",
              "      <td>24</td>\n",
              "      <td>15</td>\n",
              "      <td>1000</td>\n",
              "    </tr>\n",
              "    <tr>\n",
              "      <th>14702</th>\n",
              "      <td>M</td>\n",
              "      <td>28</td>\n",
              "      <td>24</td>\n",
              "      <td>800</td>\n",
              "    </tr>\n",
              "    <tr>\n",
              "      <th>14704</th>\n",
              "      <td>M</td>\n",
              "      <td>35</td>\n",
              "      <td>25</td>\n",
              "      <td>950</td>\n",
              "    </tr>\n",
              "    <tr>\n",
              "      <th>14712</th>\n",
              "      <td>M</td>\n",
              "      <td>42</td>\n",
              "      <td>1</td>\n",
              "      <td>1600</td>\n",
              "    </tr>\n",
              "  </tbody>\n",
              "</table>\n",
              "<p>6958 rows × 4 columns</p>\n",
              "</div>"
            ],
            "text/plain": [
              "      Sex Age Color Price\n",
              "0       M  40     1   650\n",
              "1       F  44    25   550\n",
              "2       F  24    25  1000\n",
              "3       M  23    25  1400\n",
              "4       M  12    25   700\n",
              "...    ..  ..   ...   ...\n",
              "14696   F  52     6    80\n",
              "14701   M  24    15  1000\n",
              "14702   M  28    24   800\n",
              "14704   M  35    25   950\n",
              "14712   M  42     1  1600\n",
              "\n",
              "[6958 rows x 4 columns]"
            ]
          },
          "metadata": {
            "tags": []
          },
          "execution_count": 103
        }
      ]
    },
    {
      "cell_type": "code",
      "metadata": {
        "id": "7Q-DXye4eulV"
      },
      "source": [
        "singleadults.loc[(singleadults['Price']== '233.33 1/3'),'Price']=233.33"
      ],
      "execution_count": 104,
      "outputs": []
    },
    {
      "cell_type": "code",
      "metadata": {
        "id": "8326d2D3i9_5"
      },
      "source": [
        ""
      ],
      "execution_count": null,
      "outputs": []
    },
    {
      "cell_type": "markdown",
      "metadata": {
        "id": "coij0kLOhyv6"
      },
      "source": [
        "Color vs. price divided by sex"
      ]
    },
    {
      "cell_type": "code",
      "metadata": {
        "id": "5gM1RuuhgjTs"
      },
      "source": [
        "singleladies = pa.DataFrame(singleadults.loc[singleadults['Sex'] == 'F'])\n",
        "singleladdies = pa.DataFrame(singleadults.loc[singleadults['Sex'] == 'M'])\n",
        "singleothers = pa.DataFrame(singleadults.loc[singleadults['Sex'] == 'U'])"
      ],
      "execution_count": 106,
      "outputs": []
    },
    {
      "cell_type": "code",
      "metadata": {
        "id": "VybTR-rqi8_f"
      },
      "source": [
        ""
      ],
      "execution_count": null,
      "outputs": []
    },
    {
      "cell_type": "code",
      "metadata": {
        "id": "MxGvZzB-IYyE",
        "colab": {
          "base_uri": "https://localhost:8080/",
          "height": 282
        },
        "outputId": "8711501f-34a3-4b79-a800-ea68b78a36ed"
      },
      "source": [
        "#plot color wrt price\n",
        "import matplotlib.pyplot as plt\n",
        "df = pa.concat([singleadults['Color'], singleadults['Price']], axis=1)\n",
        "df['Color'] = pa.to_numeric(df['Color'])\n",
        "df['Price'] = pa.to_numeric(df['Price'])\n",
        "df = df.loc[df['Price'] != max(df['Price'])]\n",
        "\n",
        "plt.scatter(df['Color'], df['Price'])\n"
      ],
      "execution_count": 88,
      "outputs": [
        {
          "output_type": "execute_result",
          "data": {
            "text/plain": [
              "<matplotlib.collections.PathCollection at 0x7f914af0d2e8>"
            ]
          },
          "metadata": {
            "tags": []
          },
          "execution_count": 88
        },
        {
          "output_type": "display_data",
          "data": {
            "image/png": "[encoded data removed]",
            "text/plain": [
              "<Figure size 432x288 with 1 Axes>"
            ]
          },
          "metadata": {
            "tags": [],
            "needs_background": "light"
          }
        }
      ]
    },
    {
      "cell_type": "code",
      "metadata": {
        "colab": {
          "base_uri": "https://localhost:8080/",
          "height": 282
        },
        "id": "63EtpP7ihELi",
        "outputId": "9892d16f-38f6-487f-dc56-c58e4c8c1704"
      },
      "source": [
        "import matplotlib.pyplot as plt\n",
        "df = pa.concat([singleladies['Color'], singleladies['Price']], axis=1)\n",
        "df['Color'] = pa.to_numeric(df['Color'])\n",
        "df['Price'] = pa.to_numeric(df['Price'])\n",
        "df = df.loc[df['Price'] != max(df['Price'])]\n",
        "\n",
        "plt.scatter(df['Color'], df['Price'])"
      ],
      "execution_count": 107,
      "outputs": [
        {
          "output_type": "execute_result",
          "data": {
            "text/plain": [
              "<matplotlib.collections.PathCollection at 0x7f914a827cc0>"
            ]
          },
          "metadata": {
            "tags": []
          },
          "execution_count": 107
        },
        {
          "output_type": "display_data",
          "data": {
            "image/png": "[encoded data removed]",
            "text/plain": [
              "<Figure size 432x288 with 1 Axes>"
            ]
          },
          "metadata": {
            "tags": [],
            "needs_background": "light"
          }
        }
      ]
    },
    {
      "cell_type": "code",
      "metadata": {
        "colab": {
          "base_uri": "https://localhost:8080/",
          "height": 282
        },
        "id": "IN5ESVB8hT0B",
        "outputId": "2a20b319-5df8-41ed-ab29-e83b18e1c526"
      },
      "source": [
        "import matplotlib.pyplot as plt\n",
        "df = pa.concat([singleladdies['Color'], singleladdies['Price']], axis=1)\n",
        "df['Color'] = pa.to_numeric(df['Color'])\n",
        "df['Price'] = pa.to_numeric(df['Price'])\n",
        "df = df.loc[df['Price'] != max(df['Price'])]\n",
        "\n",
        "plt.scatter(df['Color'], df['Price'])"
      ],
      "execution_count": 108,
      "outputs": [
        {
          "output_type": "execute_result",
          "data": {
            "text/plain": [
              "<matplotlib.collections.PathCollection at 0x7f914a80cf28>"
            ]
          },
          "metadata": {
            "tags": []
          },
          "execution_count": 108
        },
        {
          "output_type": "display_data",
          "data": {
            "image/png": "[encoded data removed]",
            "text/plain": [
              "<Figure size 432x288 with 1 Axes>"
            ]
          },
          "metadata": {
            "tags": [],
            "needs_background": "light"
          }
        }
      ]
    },
    {
      "cell_type": "code",
      "metadata": {
        "colab": {
          "base_uri": "https://localhost:8080/",
          "height": 282
        },
        "id": "Tzi06VE0hcHr",
        "outputId": "03dc4e47-d51a-453c-e68e-efc8057ac124"
      },
      "source": [
        "import matplotlib.pyplot as plt\n",
        "df = pa.concat([singleothers['Color'], singleothers['Price']], axis=1)\n",
        "df['Color'] = pa.to_numeric(df['Color'])\n",
        "df['Price'] = pa.to_numeric(df['Price'])\n",
        "df = df.loc[df['Price'] != max(df['Price'])]\n",
        "\n",
        "plt.scatter(df['Color'], df['Price'])"
      ],
      "execution_count": 109,
      "outputs": [
        {
          "output_type": "execute_result",
          "data": {
            "text/plain": [
              "<matplotlib.collections.PathCollection at 0x7f914a730d68>"
            ]
          },
          "metadata": {
            "tags": []
          },
          "execution_count": 109
        },
        {
          "output_type": "display_data",
          "data": {
            "image/png": "[encoded data removed]",
            "text/plain": [
              "<Figure size 432x288 with 1 Axes>"
            ]
          },
          "metadata": {
            "tags": [],
            "needs_background": "light"
          }
        }
      ]
    },
    {
      "cell_type": "code",
      "metadata": {
        "id": "VLjTvOW2-02d",
        "colab": {
          "base_uri": "https://localhost:8080/",
          "height": 282
        },
        "outputId": "736273d4-3b86-4b9c-9180-ec83c376a4b2"
      },
      "source": [
        "import matplotlib.pyplot as plt\n",
        "df = pa.concat([singleadults['Color'], singleadults['Price']], axis=1)\n",
        "df['Color'] = pa.to_numeric(df['Color'])\n",
        "df['Price'] = pa.to_numeric(df['Price'])\n",
        "df = df.loc[df['Price'] != max(df['Price'])]\n",
        "\n",
        "plt.scatter(df['Color'], df['Price'])"
      ],
      "execution_count": 113,
      "outputs": [
        {
          "output_type": "execute_result",
          "data": {
            "text/plain": [
              "<matplotlib.collections.PathCollection at 0x7f914b35c0b8>"
            ]
          },
          "metadata": {
            "tags": []
          },
          "execution_count": 113
        },
        {
          "output_type": "display_data",
          "data": {
            "image/png": "[encoded data removed]",
            "text/plain": [
              "<Figure size 432x288 with 1 Axes>"
            ]
          },
          "metadata": {
            "tags": [],
            "needs_background": "light"
          }
        }
      ]
    },
    {
      "cell_type": "code",
      "metadata": {
        "id": "m0fnKUle-9Ri",
        "colab": {
          "base_uri": "https://localhost:8080/",
          "height": 282
        },
        "outputId": "890bc100-892b-4182-aae9-2a6f2bee74f3"
      },
      "source": [
        "#I think this is what you want for that code above\n",
        "import matplotlib.pyplot as plt\n",
        "df = pa.concat([singleadults['Age'], singleadults['Price']], axis=1)\n",
        "df['Age'] = pa.to_numeric(df['Age'])\n",
        "df['Price'] = pa.to_numeric(df['Price'])\n",
        "df = df.loc[df['Price'] != max(df['Price'])]\n",
        "\n",
        "plt.scatter(df['Age'], df['Price'])"
      ],
      "execution_count": null,
      "outputs": [
        {
          "output_type": "execute_result",
          "data": {
            "text/plain": [
              "<matplotlib.collections.PathCollection at 0x7f2934029048>"
            ]
          },
          "metadata": {
            "tags": []
          },
          "execution_count": 218
        },
        {
          "output_type": "display_data",
          "data": {
            "image/png": "[encoded data removed]",
            "text/plain": [
              "<Figure size 432x288 with 1 Axes>"
            ]
          },
          "metadata": {
            "tags": [],
            "needs_background": "light"
          }
        }
      ]
    },
    {
      "cell_type": "markdown",
      "metadata": {
        "id": "yw3tWUijh6iB"
      },
      "source": [
        "Age vs price divided by sex"
      ]
    },
    {
      "cell_type": "code",
      "metadata": {
        "colab": {
          "base_uri": "https://localhost:8080/",
          "height": 282
        },
        "id": "RzPZeIsoh6I5",
        "outputId": "4a662374-1e0d-452a-8698-690d33f2a346"
      },
      "source": [
        "import matplotlib.pyplot as plt\n",
        "df = pa.concat([singleladies['Age'], singleladies['Price']], axis=1)\n",
        "df['Age'] = pa.to_numeric(df['Age'])\n",
        "df['Price'] = pa.to_numeric(df['Price'])\n",
        "df = df.loc[df['Price'] != max(df['Price'])]\n",
        "\n",
        "plt.scatter(df['Age'], df['Price'])"
      ],
      "execution_count": 110,
      "outputs": [
        {
          "output_type": "execute_result",
          "data": {
            "text/plain": [
              "<matplotlib.collections.PathCollection at 0x7f914a714550>"
            ]
          },
          "metadata": {
            "tags": []
          },
          "execution_count": 110
        },
        {
          "output_type": "display_data",
          "data": {
            "image/png": "[encoded data removed]",
            "text/plain": [
              "<Figure size 432x288 with 1 Axes>"
            ]
          },
          "metadata": {
            "tags": [],
            "needs_background": "light"
          }
        }
      ]
    },
    {
      "cell_type": "code",
      "metadata": {
        "id": "Y85HKTP2Hb-z",
        "colab": {
          "base_uri": "https://localhost:8080/",
          "height": 282
        },
        "outputId": "7577ac21-bf91-472c-a463-1cdcb86a57cf"
      },
      "source": [
        "import matplotlib.pyplot as plt\n",
        "df = pa.concat([singleladdies['Age'], singleladdies['Price']], axis=1)\n",
        "df['Age'] = pa.to_numeric(df['Age'])\n",
        "df['Price'] = pa.to_numeric(df['Price'])\n",
        "df = df.loc[df['Price'] != max(df['Price'])]\n",
        "\n",
        "plt.scatter(df['Age'], df['Price'])"
      ],
      "execution_count": 111,
      "outputs": [
        {
          "output_type": "execute_result",
          "data": {
            "text/plain": [
              "<matplotlib.collections.PathCollection at 0x7f914a678978>"
            ]
          },
          "metadata": {
            "tags": []
          },
          "execution_count": 111
        },
        {
          "output_type": "display_data",
          "data": {
            "image/png": "[encoded data removed]",
            "text/plain": [
              "<Figure size 432x288 with 1 Axes>"
            ]
          },
          "metadata": {
            "tags": [],
            "needs_background": "light"
          }
        }
      ]
    },
    {
      "cell_type": "code",
      "metadata": {
        "colab": {
          "base_uri": "https://localhost:8080/",
          "height": 282
        },
        "id": "rbkwoJH7iYlq",
        "outputId": "1b55da8b-a79d-4892-ad95-ed23254698ab"
      },
      "source": [
        "import matplotlib.pyplot as plt\n",
        "df = pa.concat([singleothers['Age'], singleothers['Price']], axis=1)\n",
        "df['Age'] = pa.to_numeric(df['Age'])\n",
        "df['Price'] = pa.to_numeric(df['Price'])\n",
        "df = df.loc[df['Price'] != max(df['Price'])]\n",
        "\n",
        "plt.scatter(df['Age'], df['Price'])"
      ],
      "execution_count": 112,
      "outputs": [
        {
          "output_type": "execute_result",
          "data": {
            "text/plain": [
              "<matplotlib.collections.PathCollection at 0x7f914a5a0128>"
            ]
          },
          "metadata": {
            "tags": []
          },
          "execution_count": 112
        },
        {
          "output_type": "display_data",
          "data": {
            "image/png": "[encoded data removed]",
            "text/plain": [
              "<Figure size 432x288 with 1 Axes>"
            ]
          },
          "metadata": {
            "tags": [],
            "needs_background": "light"
          }
        }
      ]
    },
    {
      "cell_type": "code",
      "metadata": {
        "id": "yOxxmMbsiePm"
      },
      "source": [
        ""
      ],
      "execution_count": null,
      "outputs": []
    },
    {
      "cell_type": "code",
      "metadata": {
        "id": "6QlS9O0y_PkF",
        "colab": {
          "base_uri": "https://localhost:8080/"
        },
        "outputId": "28684dcf-3461-4788-a2a5-98c45feecd03"
      },
      "source": [
        "from sklearn import preprocessing\n",
        "\n",
        "lb = preprocessing.LabelBinarizer()\n",
        "\n",
        "#lb.fit_transform(singleadults.Sex)\n",
        "sex = np.array(singleadults.Sex)\n",
        "#sex = np.append(sex,np.array(singleadults.Color))\n",
        "sexbi = lb.fit_transform(sex)\n",
        "sexbi[0,:]"
      ],
      "execution_count": null,
      "outputs": [
        {
          "output_type": "execute_result",
          "data": {
            "text/plain": [
              "array([0, 1, 0])"
            ]
          },
          "metadata": {
            "tags": []
          },
          "execution_count": 198
        }
      ]
    },
    {
      "cell_type": "code",
      "metadata": {
        "id": "L0cGn7an_coJ",
        "colab": {
          "base_uri": "https://localhost:8080/"
        },
        "outputId": "608b4eb3-a7ca-4b2d-9f9f-f82f5fdaae4a"
      },
      "source": [
        "color = np.array(singleadults.Color)\n",
        "\n",
        "\n",
        "colorbi = lb.fit_transform(color)\n",
        "singleadults.Color.unique()\n",
        "colorbi"
      ],
      "execution_count": null,
      "outputs": [
        {
          "output_type": "execute_result",
          "data": {
            "text/plain": [
              "array([[0, 0, 0, ..., 0, 1, 0],\n",
              "       [0, 0, 0, ..., 0, 0, 0],\n",
              "       [0, 0, 0, ..., 0, 0, 0],\n",
              "       ...,\n",
              "       [0, 0, 0, ..., 0, 0, 0],\n",
              "       [0, 0, 0, ..., 0, 0, 0],\n",
              "       [0, 0, 0, ..., 0, 1, 0]])"
            ]
          },
          "metadata": {
            "tags": []
          },
          "execution_count": 199
        }
      ]
    },
    {
      "cell_type": "code",
      "metadata": {
        "id": "y_R6FkRoDLvH",
        "colab": {
          "base_uri": "https://localhost:8080/"
        },
        "outputId": "43d30b67-fbf2-4883-d8b2-cd2296b903c9"
      },
      "source": [
        "colorbi.shape"
      ],
      "execution_count": null,
      "outputs": [
        {
          "output_type": "execute_result",
          "data": {
            "text/plain": [
              "(6958, 31)"
            ]
          },
          "metadata": {
            "tags": []
          },
          "execution_count": 206
        }
      ]
    },
    {
      "cell_type": "code",
      "metadata": {
        "id": "QOqiDQAkDNxV",
        "colab": {
          "base_uri": "https://localhost:8080/"
        },
        "outputId": "cb62427c-f78c-4974-8f89-ea3d5091f345"
      },
      "source": [
        "sexbi.shape"
      ],
      "execution_count": null,
      "outputs": [
        {
          "output_type": "execute_result",
          "data": {
            "text/plain": [
              "(6958, 3)"
            ]
          },
          "metadata": {
            "tags": []
          },
          "execution_count": 207
        }
      ]
    },
    {
      "cell_type": "code",
      "metadata": {
        "id": "sLIszEcA_nC-",
        "colab": {
          "base_uri": "https://localhost:8080/"
        },
        "outputId": "4f11758c-86fe-4b42-f57d-9f62057e4330"
      },
      "source": [
        "colorLabels"
      ],
      "execution_count": null,
      "outputs": [
        {
          "output_type": "execute_result",
          "data": {
            "text/plain": [
              "array(['UC', 'Negro', 'Mulatto', 'Griff', 'Dark Griff', 'Light Black',\n",
              "       'Black', 'Creole Negro', 'Quarteroon', 'Yellow', 'Colored',\n",
              "       'Creole Mulatto', 'Copper', 'Creole', 'Dark Negro',\n",
              "       'Light Mulatto', 'Bright Mulatto', 'Light Griff', 'Dark',\n",
              "       'Dark Mulatto', 'Brown', 'Dark Copper', 'Mulatto, Griff',\n",
              "       'Light Negro', 'Fair Mulatto', 'Bright Color', 'Light',\n",
              "       'Light Brown', 'Albino, Negro', 'Dark Orange, Griff ', 'Chestnut',\n",
              "       'Yellow, Griff', 'Black Negro', 'Griff Creole'], dtype=object)"
            ]
          },
          "metadata": {
            "tags": []
          },
          "execution_count": 200
        }
      ]
    },
    {
      "cell_type": "code",
      "metadata": {
        "id": "Ml0uYt7n_skr",
        "colab": {
          "base_uri": "https://localhost:8080/"
        },
        "outputId": "149005d5-4de1-49eb-ca8c-80189f7af4a3"
      },
      "source": [
        "combine = np.append(sexbi,colorbi,axis = 1)\n",
        "combine.shape"
      ],
      "execution_count": null,
      "outputs": [
        {
          "output_type": "execute_result",
          "data": {
            "text/plain": [
              "(6958, 34)"
            ]
          },
          "metadata": {
            "tags": []
          },
          "execution_count": 201
        }
      ]
    },
    {
      "cell_type": "code",
      "metadata": {
        "id": "5ZpmA9IS_0iV",
        "colab": {
          "base_uri": "https://localhost:8080/"
        },
        "outputId": "71dd0502-77d2-4118-f9de-79fd3ce8afd5"
      },
      "source": [
        "y = np.array(singleadults.Price)\n",
        "age = np.array([singleadults.Age])\n",
        "comb = np.concatenate((combine,age.T),axis = 1)\n",
        "comb.shape"
      ],
      "execution_count": null,
      "outputs": [
        {
          "output_type": "execute_result",
          "data": {
            "text/plain": [
              "(6958, 35)"
            ]
          },
          "metadata": {
            "tags": []
          },
          "execution_count": 202
        }
      ]
    },
    {
      "cell_type": "code",
      "metadata": {
        "id": "FAxIyym9__yU",
        "colab": {
          "base_uri": "https://localhost:8080/"
        },
        "outputId": "2d7bc961-e8b5-4e1d-b042-4c5f8b20c4e4"
      },
      "source": [
        "from sklearn.linear_model import LinearRegression\n",
        "#what is y supposed to be, price?\n",
        "lr = LinearRegression().fit(comb,y)\n",
        "\n",
        "lr.coef_"
      ],
      "execution_count": null,
      "outputs": [
        {
          "output_type": "execute_result",
          "data": {
            "text/plain": [
              "array([ 7.47143904e+08,  7.47144098e+08,  7.47144243e+08,  5.22047378e+12,\n",
              "        5.22047378e+12,  5.22047378e+12,  5.22047378e+12,  5.22047378e+12,\n",
              "        5.22047378e+12,  5.22047378e+12,  5.22047378e+12,  5.22047378e+12,\n",
              "        5.22047378e+12,  5.22047378e+12,  5.22047378e+12,  5.22047378e+12,\n",
              "        5.22047378e+12,  5.22047378e+12,  5.22047378e+12,  5.22047378e+12,\n",
              "        5.22047378e+12,  5.22047378e+12,  5.22047378e+12,  5.22047378e+12,\n",
              "        5.22047378e+12,  5.22047378e+12,  5.22047378e+12,  5.22047378e+12,\n",
              "        5.22047378e+12,  5.22047378e+12,  5.22047378e+12,  5.22047378e+12,\n",
              "        5.22047378e+12,  5.22047378e+12, -1.02348409e+01])"
            ]
          },
          "metadata": {
            "tags": []
          },
          "execution_count": 203
        }
      ]
    },
    {
      "cell_type": "code",
      "metadata": {
        "id": "5JbSM6dkAPbF",
        "colab": {
          "base_uri": "https://localhost:8080/"
        },
        "outputId": "019b131a-ce96-4516-c3ec-12713fc5a0d2"
      },
      "source": [
        "from sklearn.linear_model import Lasso\n",
        "lasso = Lasso().fit(comb,y)\n",
        "\n",
        "lasso.coef_"
      ],
      "execution_count": null,
      "outputs": [
        {
          "output_type": "execute_result",
          "data": {
            "text/plain": [
              "array([-189.82127487,    0.        ,    0.        ,    0.        ,\n",
              "         -0.        ,    0.        ,   -0.        ,    0.        ,\n",
              "          0.        ,    0.        ,   -0.        ,   -0.        ,\n",
              "         -0.        ,    0.        ,    0.        ,    0.        ,\n",
              "         -0.        ,    0.        ,    0.        ,    0.        ,\n",
              "         16.88134812,   -0.        ,   -0.        ,   -0.        ,\n",
              "         -0.        ,   -0.        ,    0.        ,   -0.        ,\n",
              "         -9.36406208,    0.        ,   12.29617409,   -0.        ,\n",
              "       -125.33752865,    0.        ,  -10.20737177])"
            ]
          },
          "metadata": {
            "tags": []
          },
          "execution_count": 204
        }
      ]
    },
    {
      "cell_type": "markdown",
      "metadata": {
        "id": "flP97rN0BzHK"
      },
      "source": [
        "the first 31 are correlation with color, then the next 3 are sex, the last one is age. predicting price."
      ]
    },
    {
      "cell_type": "code",
      "metadata": {
        "id": "jmD4OsCiAigI",
        "colab": {
          "base_uri": "https://localhost:8080/",
          "height": 326
        },
        "outputId": "41925956-ed2a-4ce1-e9ca-d0aab30e6534"
      },
      "source": [
        "#how to heat map\n",
        "import seaborn as sns\n",
        "\n",
        "corr = singleadults.corr()\n",
        "ax = sns.heatmap(\n",
        "    corr, \n",
        "    vmin=-1, vmax=1, center=0,\n",
        "    cmap=sns.diverging_palette(20, 220, n=200),\n",
        "    square=True\n",
        ")\n",
        "ax.set_xticklabels(\n",
        "    ax.get_xticklabels(),\n",
        "    rotation=45,\n",
        "    horizontalalignment='right'\n",
        ");"
      ],
      "execution_count": null,
      "outputs": [
        {
          "output_type": "stream",
          "text": [
            "/usr/local/lib/python3.6/dist-packages/seaborn/matrix.py:311: UserWarning: Attempting to set identical bottom == top == 0 results in singular transformations; automatically expanding.\n",
            "  ax.set(xlim=(0, self.data.shape[1]), ylim=(0, self.data.shape[0]))\n",
            "/usr/local/lib/python3.6/dist-packages/seaborn/matrix.py:311: UserWarning: Attempting to set identical left == right == 0 results in singular transformations; automatically expanding.\n",
            "  ax.set(xlim=(0, self.data.shape[1]), ylim=(0, self.data.shape[0]))\n"
          ],
          "name": "stderr"
        },
        {
          "output_type": "display_data",
          "data": {
            "image/png": "[encoded data removed]",
            "text/plain": [
              "<Figure size 432x288 with 2 Axes>"
            ]
          },
          "metadata": {
            "tags": [],
            "needs_background": "light"
          }
        }
      ]
    },
    {
      "cell_type": "code",
      "metadata": {
        "id": "30OAyAMpgz70"
      },
      "source": [
        "# make dataframe with ID number, sales date, representing seller, slave name, sex, age, color, price\n",
        "dataless = data[['Number of Total Slaves', 'Number of Adult Slaves', 'Number of Child Slaves', 'Name Child 1','Sex Child 1','Age Child 1','Name Child 2','Sex Child 2','Age Child 2','Name Child 3','Sex Child 3','Age Child 3','Name Child 4','Sex Child 4','Age Child 4','Name Child 5','Sex Child 5','Age Child 5','Name Child 6','Sex Child 6','Age Child 6','Name Child 7','Sex Child 7','Age Child 7','Name Child 8','Sex Child 8','Age Child 8', 'Sex', 'Age', 'Color', 'Price']]"
      ],
      "execution_count": null,
      "outputs": []
    },
    {
      "cell_type": "code",
      "metadata": {
        "id": "MBw78IBswW29",
        "colab": {
          "base_uri": "https://localhost:8080/"
        },
        "outputId": "7922edef-3f34-4b5c-93af-b6ff19129ea6"
      },
      "source": [
        "#I want to separate the slaves with children from the slaves without children.\n",
        "dataless['Number of Adult Slaves'].unique()\n"
      ],
      "execution_count": null,
      "outputs": [
        {
          "output_type": "execute_result",
          "data": {
            "text/plain": [
              "array([  1,   2,   3,   7,   4,  45,   0,   5,  11,  17,   6,  10,  19,\n",
              "         8,  21,  23,  30,  18,  12,  28,  14,  33, 147,  13,  24,  16,\n",
              "        34,   9,  27,  20,  25,  38,  31,  15,  32,  41,  26, 115,  49,\n",
              "        53,  58,  55,  22,  72,  29,  82])"
            ]
          },
          "metadata": {
            "tags": []
          },
          "execution_count": 90
        }
      ]
    },
    {
      "cell_type": "code",
      "metadata": {
        "id": "5JCIR2N_zGWW",
        "colab": {
          "base_uri": "https://localhost:8080/"
        },
        "outputId": "ffdc276f-ec16-49f6-b3ea-b1f3536d219d"
      },
      "source": [
        "dataless['Number of Child Slaves'].unique()"
      ],
      "execution_count": null,
      "outputs": [
        {
          "output_type": "execute_result",
          "data": {
            "text/plain": [
              "array([ 0,  2,  1,  7,  3,  4,  6,  5, 10, 11,  9,  8])"
            ]
          },
          "metadata": {
            "tags": []
          },
          "execution_count": 91
        }
      ]
    },
    {
      "cell_type": "markdown",
      "metadata": {
        "id": "9O3nVK3cx7QL"
      },
      "source": [
        "Okay so it looks like i will need to divide the end price by the number of adult slaves (for the cases without children). So separate the entries with children from the ones without, divide the price by the value in the 'number of adult slaves' column."
      ]
    },
    {
      "cell_type": "code",
      "metadata": {
        "id": "CSJRDhXuyqYf",
        "colab": {
          "base_uri": "https://localhost:8080/",
          "height": 453
        },
        "outputId": "12e1a4df-49cf-4575-c079-60ddc6821f5c"
      },
      "source": [
        "#dataframe of only adults, their sex, age, price, number of them, call this onlyadults.\n",
        "onlyadults = pa.DataFrame(dataless.loc[dataless['Number of Child Slaves'] == 0])\n",
        "onlyadults"
      ],
      "execution_count": null,
      "outputs": [
        {
          "output_type": "execute_result",
          "data": {
            "text/html": [
              "<div>\n",
              "<style scoped>\n",
              "    .dataframe tbody tr th:only-of-type {\n",
              "        vertical-align: middle;\n",
              "    }\n",
              "\n",
              "    .dataframe tbody tr th {\n",
              "        vertical-align: top;\n",
              "    }\n",
              "\n",
              "    .dataframe thead th {\n",
              "        text-align: right;\n",
              "    }\n",
              "</style>\n",
              "<table border=\"1\" class=\"dataframe\">\n",
              "  <thead>\n",
              "    <tr style=\"text-align: right;\">\n",
              "      <th></th>\n",
              "      <th>Number of Total Slaves</th>\n",
              "      <th>Number of Adult Slaves</th>\n",
              "      <th>Number of Child Slaves</th>\n",
              "      <th>Name Child 1</th>\n",
              "      <th>Sex Child 1</th>\n",
              "      <th>Age Child 1</th>\n",
              "      <th>Name Child 2</th>\n",
              "      <th>Sex Child 2</th>\n",
              "      <th>Age Child 2</th>\n",
              "      <th>Name Child 3</th>\n",
              "      <th>Sex Child 3</th>\n",
              "      <th>Age Child 3</th>\n",
              "      <th>Name Child 4</th>\n",
              "      <th>Sex Child 4</th>\n",
              "      <th>Age Child 4</th>\n",
              "      <th>Name Child 5</th>\n",
              "      <th>Sex Child 5</th>\n",
              "      <th>Age Child 5</th>\n",
              "      <th>Name Child 6</th>\n",
              "      <th>Sex Child 6</th>\n",
              "      <th>Age Child 6</th>\n",
              "      <th>Name Child 7</th>\n",
              "      <th>Sex Child 7</th>\n",
              "      <th>Age Child 7</th>\n",
              "      <th>Name Child 8</th>\n",
              "      <th>Sex Child 8</th>\n",
              "      <th>Age Child 8</th>\n",
              "      <th>Sex</th>\n",
              "      <th>Age</th>\n",
              "      <th>Color</th>\n",
              "      <th>Price</th>\n",
              "    </tr>\n",
              "  </thead>\n",
              "  <tbody>\n",
              "    <tr>\n",
              "      <th>0</th>\n",
              "      <td>1</td>\n",
              "      <td>1</td>\n",
              "      <td>0</td>\n",
              "      <td>.</td>\n",
              "      <td>.</td>\n",
              "      <td>.</td>\n",
              "      <td>.</td>\n",
              "      <td>.</td>\n",
              "      <td>.</td>\n",
              "      <td>.</td>\n",
              "      <td>.</td>\n",
              "      <td>.</td>\n",
              "      <td>.</td>\n",
              "      <td>.</td>\n",
              "      <td>.</td>\n",
              "      <td>.</td>\n",
              "      <td>.</td>\n",
              "      <td>.</td>\n",
              "      <td>.</td>\n",
              "      <td>.</td>\n",
              "      <td>.</td>\n",
              "      <td>.</td>\n",
              "      <td>.</td>\n",
              "      <td>.</td>\n",
              "      <td>.</td>\n",
              "      <td>.</td>\n",
              "      <td>.</td>\n",
              "      <td>M</td>\n",
              "      <td>40</td>\n",
              "      <td>.</td>\n",
              "      <td>650</td>\n",
              "    </tr>\n",
              "    <tr>\n",
              "      <th>1</th>\n",
              "      <td>1</td>\n",
              "      <td>1</td>\n",
              "      <td>0</td>\n",
              "      <td>.</td>\n",
              "      <td>.</td>\n",
              "      <td>.</td>\n",
              "      <td>.</td>\n",
              "      <td>.</td>\n",
              "      <td>.</td>\n",
              "      <td>.</td>\n",
              "      <td>.</td>\n",
              "      <td>.</td>\n",
              "      <td>.</td>\n",
              "      <td>.</td>\n",
              "      <td>.</td>\n",
              "      <td>.</td>\n",
              "      <td>.</td>\n",
              "      <td>.</td>\n",
              "      <td>.</td>\n",
              "      <td>.</td>\n",
              "      <td>.</td>\n",
              "      <td>.</td>\n",
              "      <td>.</td>\n",
              "      <td>.</td>\n",
              "      <td>.</td>\n",
              "      <td>.</td>\n",
              "      <td>.</td>\n",
              "      <td>F</td>\n",
              "      <td>44</td>\n",
              "      <td>Negro</td>\n",
              "      <td>550</td>\n",
              "    </tr>\n",
              "    <tr>\n",
              "      <th>2</th>\n",
              "      <td>1</td>\n",
              "      <td>1</td>\n",
              "      <td>0</td>\n",
              "      <td>.</td>\n",
              "      <td>.</td>\n",
              "      <td>.</td>\n",
              "      <td>.</td>\n",
              "      <td>.</td>\n",
              "      <td>.</td>\n",
              "      <td>.</td>\n",
              "      <td>.</td>\n",
              "      <td>.</td>\n",
              "      <td>.</td>\n",
              "      <td>.</td>\n",
              "      <td>.</td>\n",
              "      <td>.</td>\n",
              "      <td>.</td>\n",
              "      <td>.</td>\n",
              "      <td>.</td>\n",
              "      <td>.</td>\n",
              "      <td>.</td>\n",
              "      <td>.</td>\n",
              "      <td>.</td>\n",
              "      <td>.</td>\n",
              "      <td>.</td>\n",
              "      <td>.</td>\n",
              "      <td>.</td>\n",
              "      <td>F</td>\n",
              "      <td>24</td>\n",
              "      <td>Negro</td>\n",
              "      <td>1000</td>\n",
              "    </tr>\n",
              "    <tr>\n",
              "      <th>3</th>\n",
              "      <td>1</td>\n",
              "      <td>1</td>\n",
              "      <td>0</td>\n",
              "      <td>.</td>\n",
              "      <td>.</td>\n",
              "      <td>.</td>\n",
              "      <td>.</td>\n",
              "      <td>.</td>\n",
              "      <td>.</td>\n",
              "      <td>.</td>\n",
              "      <td>.</td>\n",
              "      <td>.</td>\n",
              "      <td>.</td>\n",
              "      <td>.</td>\n",
              "      <td>.</td>\n",
              "      <td>.</td>\n",
              "      <td>.</td>\n",
              "      <td>.</td>\n",
              "      <td>.</td>\n",
              "      <td>.</td>\n",
              "      <td>.</td>\n",
              "      <td>.</td>\n",
              "      <td>.</td>\n",
              "      <td>.</td>\n",
              "      <td>.</td>\n",
              "      <td>.</td>\n",
              "      <td>.</td>\n",
              "      <td>M</td>\n",
              "      <td>23</td>\n",
              "      <td>Negro</td>\n",
              "      <td>1400</td>\n",
              "    </tr>\n",
              "    <tr>\n",
              "      <th>4</th>\n",
              "      <td>1</td>\n",
              "      <td>1</td>\n",
              "      <td>0</td>\n",
              "      <td>.</td>\n",
              "      <td>.</td>\n",
              "      <td>.</td>\n",
              "      <td>.</td>\n",
              "      <td>.</td>\n",
              "      <td>.</td>\n",
              "      <td>.</td>\n",
              "      <td>.</td>\n",
              "      <td>.</td>\n",
              "      <td>.</td>\n",
              "      <td>.</td>\n",
              "      <td>.</td>\n",
              "      <td>.</td>\n",
              "      <td>.</td>\n",
              "      <td>.</td>\n",
              "      <td>.</td>\n",
              "      <td>.</td>\n",
              "      <td>.</td>\n",
              "      <td>.</td>\n",
              "      <td>.</td>\n",
              "      <td>.</td>\n",
              "      <td>.</td>\n",
              "      <td>.</td>\n",
              "      <td>.</td>\n",
              "      <td>M</td>\n",
              "      <td>12</td>\n",
              "      <td>Negro</td>\n",
              "      <td>700</td>\n",
              "    </tr>\n",
              "    <tr>\n",
              "      <th>...</th>\n",
              "      <td>...</td>\n",
              "      <td>...</td>\n",
              "      <td>...</td>\n",
              "      <td>...</td>\n",
              "      <td>...</td>\n",
              "      <td>...</td>\n",
              "      <td>...</td>\n",
              "      <td>...</td>\n",
              "      <td>...</td>\n",
              "      <td>...</td>\n",
              "      <td>...</td>\n",
              "      <td>...</td>\n",
              "      <td>...</td>\n",
              "      <td>...</td>\n",
              "      <td>...</td>\n",
              "      <td>...</td>\n",
              "      <td>...</td>\n",
              "      <td>...</td>\n",
              "      <td>...</td>\n",
              "      <td>...</td>\n",
              "      <td>...</td>\n",
              "      <td>...</td>\n",
              "      <td>...</td>\n",
              "      <td>...</td>\n",
              "      <td>...</td>\n",
              "      <td>...</td>\n",
              "      <td>...</td>\n",
              "      <td>...</td>\n",
              "      <td>...</td>\n",
              "      <td>...</td>\n",
              "      <td>...</td>\n",
              "    </tr>\n",
              "    <tr>\n",
              "      <th>14707</th>\n",
              "      <td>3</td>\n",
              "      <td>3</td>\n",
              "      <td>0</td>\n",
              "      <td>.</td>\n",
              "      <td>.</td>\n",
              "      <td>.</td>\n",
              "      <td>.</td>\n",
              "      <td>.</td>\n",
              "      <td>.</td>\n",
              "      <td>.</td>\n",
              "      <td>.</td>\n",
              "      <td>.</td>\n",
              "      <td>.</td>\n",
              "      <td>.</td>\n",
              "      <td>.</td>\n",
              "      <td>.</td>\n",
              "      <td>.</td>\n",
              "      <td>.</td>\n",
              "      <td>.</td>\n",
              "      <td>.</td>\n",
              "      <td>.</td>\n",
              "      <td>.</td>\n",
              "      <td>.</td>\n",
              "      <td>.</td>\n",
              "      <td>.</td>\n",
              "      <td>.</td>\n",
              "      <td>.</td>\n",
              "      <td>M</td>\n",
              "      <td>50</td>\n",
              "      <td>Negro</td>\n",
              "      <td>NaN</td>\n",
              "    </tr>\n",
              "    <tr>\n",
              "      <th>14709</th>\n",
              "      <td>3</td>\n",
              "      <td>3</td>\n",
              "      <td>0</td>\n",
              "      <td>.</td>\n",
              "      <td>.</td>\n",
              "      <td>.</td>\n",
              "      <td>.</td>\n",
              "      <td>.</td>\n",
              "      <td>.</td>\n",
              "      <td>.</td>\n",
              "      <td>.</td>\n",
              "      <td>.</td>\n",
              "      <td>.</td>\n",
              "      <td>.</td>\n",
              "      <td>.</td>\n",
              "      <td>.</td>\n",
              "      <td>.</td>\n",
              "      <td>.</td>\n",
              "      <td>.</td>\n",
              "      <td>.</td>\n",
              "      <td>.</td>\n",
              "      <td>.</td>\n",
              "      <td>.</td>\n",
              "      <td>.</td>\n",
              "      <td>.</td>\n",
              "      <td>.</td>\n",
              "      <td>.</td>\n",
              "      <td>F</td>\n",
              "      <td>24</td>\n",
              "      <td>Negro</td>\n",
              "      <td>1600</td>\n",
              "    </tr>\n",
              "    <tr>\n",
              "      <th>14710</th>\n",
              "      <td>3</td>\n",
              "      <td>3</td>\n",
              "      <td>0</td>\n",
              "      <td>.</td>\n",
              "      <td>.</td>\n",
              "      <td>.</td>\n",
              "      <td>.</td>\n",
              "      <td>.</td>\n",
              "      <td>.</td>\n",
              "      <td>.</td>\n",
              "      <td>.</td>\n",
              "      <td>.</td>\n",
              "      <td>.</td>\n",
              "      <td>.</td>\n",
              "      <td>.</td>\n",
              "      <td>.</td>\n",
              "      <td>.</td>\n",
              "      <td>.</td>\n",
              "      <td>.</td>\n",
              "      <td>.</td>\n",
              "      <td>.</td>\n",
              "      <td>.</td>\n",
              "      <td>.</td>\n",
              "      <td>.</td>\n",
              "      <td>.</td>\n",
              "      <td>.</td>\n",
              "      <td>.</td>\n",
              "      <td>.</td>\n",
              "      <td>1</td>\n",
              "      <td>.</td>\n",
              "      <td>NaN</td>\n",
              "    </tr>\n",
              "    <tr>\n",
              "      <th>14711</th>\n",
              "      <td>3</td>\n",
              "      <td>3</td>\n",
              "      <td>0</td>\n",
              "      <td>.</td>\n",
              "      <td>.</td>\n",
              "      <td>.</td>\n",
              "      <td>.</td>\n",
              "      <td>.</td>\n",
              "      <td>.</td>\n",
              "      <td>.</td>\n",
              "      <td>.</td>\n",
              "      <td>.</td>\n",
              "      <td>.</td>\n",
              "      <td>.</td>\n",
              "      <td>.</td>\n",
              "      <td>.</td>\n",
              "      <td>.</td>\n",
              "      <td>.</td>\n",
              "      <td>.</td>\n",
              "      <td>.</td>\n",
              "      <td>.</td>\n",
              "      <td>.</td>\n",
              "      <td>.</td>\n",
              "      <td>.</td>\n",
              "      <td>.</td>\n",
              "      <td>.</td>\n",
              "      <td>.</td>\n",
              "      <td>F</td>\n",
              "      <td>46</td>\n",
              "      <td>Negro</td>\n",
              "      <td>NaN</td>\n",
              "    </tr>\n",
              "    <tr>\n",
              "      <th>14712</th>\n",
              "      <td>1</td>\n",
              "      <td>1</td>\n",
              "      <td>0</td>\n",
              "      <td>.</td>\n",
              "      <td>.</td>\n",
              "      <td>.</td>\n",
              "      <td>.</td>\n",
              "      <td>.</td>\n",
              "      <td>.</td>\n",
              "      <td>.</td>\n",
              "      <td>.</td>\n",
              "      <td>.</td>\n",
              "      <td>.</td>\n",
              "      <td>.</td>\n",
              "      <td>.</td>\n",
              "      <td>.</td>\n",
              "      <td>.</td>\n",
              "      <td>.</td>\n",
              "      <td>.</td>\n",
              "      <td>.</td>\n",
              "      <td>.</td>\n",
              "      <td>.</td>\n",
              "      <td>.</td>\n",
              "      <td>.</td>\n",
              "      <td>.</td>\n",
              "      <td>.</td>\n",
              "      <td>.</td>\n",
              "      <td>M</td>\n",
              "      <td>42</td>\n",
              "      <td>.</td>\n",
              "      <td>1600</td>\n",
              "    </tr>\n",
              "  </tbody>\n",
              "</table>\n",
              "<p>12482 rows × 31 columns</p>\n",
              "</div>"
            ],
            "text/plain": [
              "       Number of Total Slaves  Number of Adult Slaves  ...  Color Price\n",
              "0                           1                       1  ...      .   650\n",
              "1                           1                       1  ...  Negro   550\n",
              "2                           1                       1  ...  Negro  1000\n",
              "3                           1                       1  ...  Negro  1400\n",
              "4                           1                       1  ...  Negro   700\n",
              "...                       ...                     ...  ...    ...   ...\n",
              "14707                       3                       3  ...  Negro   NaN\n",
              "14709                       3                       3  ...  Negro  1600\n",
              "14710                       3                       3  ...      .   NaN\n",
              "14711                       3                       3  ...  Negro   NaN\n",
              "14712                       1                       1  ...      .  1600\n",
              "\n",
              "[12482 rows x 31 columns]"
            ]
          },
          "metadata": {
            "tags": []
          },
          "execution_count": 102
        }
      ]
    },
    {
      "cell_type": "code",
      "metadata": {
        "id": "F67vh5MQ0Hsw",
        "colab": {
          "base_uri": "https://localhost:8080/",
          "height": 419
        },
        "outputId": "f905f0fb-0cc4-43e8-e695-47aa36531a7f"
      },
      "source": [
        "#i don't need any of child columns so get rid of those\n",
        "onlyadults = onlyadults[['Number of Adult Slaves', 'Sex', 'Age', 'Color', 'Price']]\n",
        "onlyadults"
      ],
      "execution_count": null,
      "outputs": [
        {
          "output_type": "execute_result",
          "data": {
            "text/html": [
              "<div>\n",
              "<style scoped>\n",
              "    .dataframe tbody tr th:only-of-type {\n",
              "        vertical-align: middle;\n",
              "    }\n",
              "\n",
              "    .dataframe tbody tr th {\n",
              "        vertical-align: top;\n",
              "    }\n",
              "\n",
              "    .dataframe thead th {\n",
              "        text-align: right;\n",
              "    }\n",
              "</style>\n",
              "<table border=\"1\" class=\"dataframe\">\n",
              "  <thead>\n",
              "    <tr style=\"text-align: right;\">\n",
              "      <th></th>\n",
              "      <th>Number of Adult Slaves</th>\n",
              "      <th>Sex</th>\n",
              "      <th>Age</th>\n",
              "      <th>Color</th>\n",
              "      <th>Price</th>\n",
              "    </tr>\n",
              "  </thead>\n",
              "  <tbody>\n",
              "    <tr>\n",
              "      <th>0</th>\n",
              "      <td>1</td>\n",
              "      <td>M</td>\n",
              "      <td>40</td>\n",
              "      <td>.</td>\n",
              "      <td>650</td>\n",
              "    </tr>\n",
              "    <tr>\n",
              "      <th>1</th>\n",
              "      <td>1</td>\n",
              "      <td>F</td>\n",
              "      <td>44</td>\n",
              "      <td>Negro</td>\n",
              "      <td>550</td>\n",
              "    </tr>\n",
              "    <tr>\n",
              "      <th>2</th>\n",
              "      <td>1</td>\n",
              "      <td>F</td>\n",
              "      <td>24</td>\n",
              "      <td>Negro</td>\n",
              "      <td>1000</td>\n",
              "    </tr>\n",
              "    <tr>\n",
              "      <th>3</th>\n",
              "      <td>1</td>\n",
              "      <td>M</td>\n",
              "      <td>23</td>\n",
              "      <td>Negro</td>\n",
              "      <td>1400</td>\n",
              "    </tr>\n",
              "    <tr>\n",
              "      <th>4</th>\n",
              "      <td>1</td>\n",
              "      <td>M</td>\n",
              "      <td>12</td>\n",
              "      <td>Negro</td>\n",
              "      <td>700</td>\n",
              "    </tr>\n",
              "    <tr>\n",
              "      <th>...</th>\n",
              "      <td>...</td>\n",
              "      <td>...</td>\n",
              "      <td>...</td>\n",
              "      <td>...</td>\n",
              "      <td>...</td>\n",
              "    </tr>\n",
              "    <tr>\n",
              "      <th>14707</th>\n",
              "      <td>3</td>\n",
              "      <td>M</td>\n",
              "      <td>50</td>\n",
              "      <td>Negro</td>\n",
              "      <td>NaN</td>\n",
              "    </tr>\n",
              "    <tr>\n",
              "      <th>14709</th>\n",
              "      <td>3</td>\n",
              "      <td>F</td>\n",
              "      <td>24</td>\n",
              "      <td>Negro</td>\n",
              "      <td>1600</td>\n",
              "    </tr>\n",
              "    <tr>\n",
              "      <th>14710</th>\n",
              "      <td>3</td>\n",
              "      <td>.</td>\n",
              "      <td>1</td>\n",
              "      <td>.</td>\n",
              "      <td>NaN</td>\n",
              "    </tr>\n",
              "    <tr>\n",
              "      <th>14711</th>\n",
              "      <td>3</td>\n",
              "      <td>F</td>\n",
              "      <td>46</td>\n",
              "      <td>Negro</td>\n",
              "      <td>NaN</td>\n",
              "    </tr>\n",
              "    <tr>\n",
              "      <th>14712</th>\n",
              "      <td>1</td>\n",
              "      <td>M</td>\n",
              "      <td>42</td>\n",
              "      <td>.</td>\n",
              "      <td>1600</td>\n",
              "    </tr>\n",
              "  </tbody>\n",
              "</table>\n",
              "<p>12482 rows × 5 columns</p>\n",
              "</div>"
            ],
            "text/plain": [
              "       Number of Adult Slaves Sex Age  Color Price\n",
              "0                           1   M  40      .   650\n",
              "1                           1   F  44  Negro   550\n",
              "2                           1   F  24  Negro  1000\n",
              "3                           1   M  23  Negro  1400\n",
              "4                           1   M  12  Negro   700\n",
              "...                       ...  ..  ..    ...   ...\n",
              "14707                       3   M  50  Negro   NaN\n",
              "14709                       3   F  24  Negro  1600\n",
              "14710                       3   .   1      .   NaN\n",
              "14711                       3   F  46  Negro   NaN\n",
              "14712                       1   M  42      .  1600\n",
              "\n",
              "[12482 rows x 5 columns]"
            ]
          },
          "metadata": {
            "tags": []
          },
          "execution_count": 103
        }
      ]
    },
    {
      "cell_type": "code",
      "metadata": {
        "id": "aBH5fHgJ0kwj"
      },
      "source": [
        ""
      ],
      "execution_count": null,
      "outputs": []
    },
    {
      "cell_type": "markdown",
      "metadata": {
        "id": "Yme1TrNq0GYh"
      },
      "source": [
        ""
      ]
    },
    {
      "cell_type": "code",
      "metadata": {
        "id": "ES_gMnEWq-QE"
      },
      "source": [
        "#some of the rows have NaN values for price, which is needed for project so, throw those out.\n",
        "onlyadults = onlyadults[onlyadults['Price'].notna()]"
      ],
      "execution_count": null,
      "outputs": []
    },
    {
      "cell_type": "code",
      "metadata": {
        "id": "0hxIQKfotTd7",
        "colab": {
          "base_uri": "https://localhost:8080/"
        },
        "outputId": "b20575f8-5e5c-4e9c-dc28-a9ef2617054c"
      },
      "source": [
        "#check all values in sex column\n",
        "onlyadults.Sex.unique()"
      ],
      "execution_count": null,
      "outputs": [
        {
          "output_type": "execute_result",
          "data": {
            "text/plain": [
              "array(['M', 'F', nan, '.', 'F ', 'M ', 'F       '], dtype=object)"
            ]
          },
          "metadata": {
            "tags": []
          },
          "execution_count": 106
        }
      ]
    },
    {
      "cell_type": "code",
      "metadata": {
        "id": "NgJVfmHbwb6H",
        "colab": {
          "base_uri": "https://localhost:8080/"
        },
        "outputId": "a54919ff-3452-4963-94cb-b7df158e0d7d"
      },
      "source": [
        "#cry because array(['M', 'F', nan, '.', 'F ', 'M ', 'F       '], dtype=object) and why would you do that? \n",
        "#Then fix the values so they are uniform for god's sake\n",
        "onlyadults.loc[(onlyadults.Sex == 'M '),'Sex']='M'\n",
        "onlyadults.loc[(onlyadults.Sex == 'F '),'Sex']='F'\n",
        "onlyadults.loc[(onlyadults.Sex == 'F       '),'Sex']='F'\n",
        "onlyadults.loc[(onlyadults.Sex == '.'),'Sex']=np.NaN\n",
        "onlyadults.loc[pa.isna(onlyadults.Sex),'Sex'] = 'U'\n",
        "onlyadults.Sex.unique()\n"
      ],
      "execution_count": null,
      "outputs": [
        {
          "output_type": "execute_result",
          "data": {
            "text/plain": [
              "array(['M', 'F', 'U'], dtype=object)"
            ]
          },
          "metadata": {
            "tags": []
          },
          "execution_count": 107
        }
      ]
    },
    {
      "cell_type": "code",
      "metadata": {
        "id": "4XALBvB55FYn",
        "colab": {
          "base_uri": "https://localhost:8080/"
        },
        "outputId": "140c8361-0df1-4a6c-869f-6ac42e05ea4b"
      },
      "source": [
        "#Find out our possible Colors.\n",
        "onlyadults.Color.unique()"
      ],
      "execution_count": null,
      "outputs": [
        {
          "output_type": "execute_result",
          "data": {
            "text/plain": [
              "array(['.', 'Negro', 'Mulatto', 'Griff', 'Dark Griff', 'Light Black',\n",
              "       'Black', 'Creole Negro', 'Yellow', 'Quarteroon', 'Creole Mulatto',\n",
              "       'Copper', 'Dark Negro', 'Light Mulatto', 'Dark', 'Dark Mulatto',\n",
              "       'Brown', 'Light Griff', 'Dark Copper', 'Creole', 'Mulatto, Griff',\n",
              "       'Light Negro', 'Fair Mulatto', 'Bright Mulatto', 'Light', nan,\n",
              "       'Light Brown', 'Albino, Negro', 'Dark Orange, Griff ', 'Chestnut',\n",
              "       'Negro ', 'Black Negro', '. ', 'Griff Creole'], dtype=object)"
            ]
          },
          "metadata": {
            "tags": []
          },
          "execution_count": 108
        }
      ]
    },
    {
      "cell_type": "code",
      "metadata": {
        "id": "P4BllArb8W9j"
      },
      "source": [
        "#fix their weird spacing for repeating values Also, \"Griff\" is a slave not entirely of African descent but was a number of different ethnicities\n",
        "onlyadults.loc[(onlyadults.Color == 'Negro '),'Color']='Negro'\n",
        "onlyadults.loc[(onlyadults.Color == '. '),'Color']='.'\n",
        "onlyadults.loc[(onlyadults.Color == '.'),'Color']='UC'\n",
        "onlyadults.loc[pa.isna(onlyadults.Color),'Color'] = 'UC'\n",
        "colorLabels = onlyadults.Color.unique()"
      ],
      "execution_count": null,
      "outputs": []
    },
    {
      "cell_type": "code",
      "metadata": {
        "id": "30F8WDGU9bpG",
        "colab": {
          "base_uri": "https://localhost:8080/"
        },
        "outputId": "91193d23-3f05-4039-caf8-0e4459ef3490"
      },
      "source": [
        "Quarteroon = onlyadults['Color'].str.contains('Quarteroon')\n",
        "ttlQuarteroon = Quarteroon.sum()\n",
        "Black = onlyadults['Color'].str.contains('Black')\n",
        "ttlBlack = Black.sum()\n",
        "Mulatto = onlyadults['Color'].str.contains('Mulatto')\n",
        "ttlMulatto = Mulatto.sum()\n",
        "print(ttlQuarteroon, ttlBlack, ttlMulatto)"
      ],
      "execution_count": null,
      "outputs": [
        {
          "output_type": "stream",
          "text": [
            "24 270 1252\n"
          ],
          "name": "stdout"
        }
      ]
    },
    {
      "cell_type": "code",
      "metadata": {
        "id": "7EWvJLkc1MHw",
        "colab": {
          "base_uri": "https://localhost:8080/",
          "height": 419
        },
        "outputId": "5e7281b7-410b-4466-a597-d634f1d2658a"
      },
      "source": [
        "onlyadults"
      ],
      "execution_count": null,
      "outputs": [
        {
          "output_type": "execute_result",
          "data": {
            "text/html": [
              "<div>\n",
              "<style scoped>\n",
              "    .dataframe tbody tr th:only-of-type {\n",
              "        vertical-align: middle;\n",
              "    }\n",
              "\n",
              "    .dataframe tbody tr th {\n",
              "        vertical-align: top;\n",
              "    }\n",
              "\n",
              "    .dataframe thead th {\n",
              "        text-align: right;\n",
              "    }\n",
              "</style>\n",
              "<table border=\"1\" class=\"dataframe\">\n",
              "  <thead>\n",
              "    <tr style=\"text-align: right;\">\n",
              "      <th></th>\n",
              "      <th>Number of Adult Slaves</th>\n",
              "      <th>Sex</th>\n",
              "      <th>Age</th>\n",
              "      <th>Color</th>\n",
              "      <th>Price</th>\n",
              "    </tr>\n",
              "  </thead>\n",
              "  <tbody>\n",
              "    <tr>\n",
              "      <th>0</th>\n",
              "      <td>1</td>\n",
              "      <td>M</td>\n",
              "      <td>40</td>\n",
              "      <td>UC</td>\n",
              "      <td>650</td>\n",
              "    </tr>\n",
              "    <tr>\n",
              "      <th>1</th>\n",
              "      <td>1</td>\n",
              "      <td>F</td>\n",
              "      <td>44</td>\n",
              "      <td>Negro</td>\n",
              "      <td>550</td>\n",
              "    </tr>\n",
              "    <tr>\n",
              "      <th>2</th>\n",
              "      <td>1</td>\n",
              "      <td>F</td>\n",
              "      <td>24</td>\n",
              "      <td>Negro</td>\n",
              "      <td>1000</td>\n",
              "    </tr>\n",
              "    <tr>\n",
              "      <th>3</th>\n",
              "      <td>1</td>\n",
              "      <td>M</td>\n",
              "      <td>23</td>\n",
              "      <td>Negro</td>\n",
              "      <td>1400</td>\n",
              "    </tr>\n",
              "    <tr>\n",
              "      <th>4</th>\n",
              "      <td>1</td>\n",
              "      <td>M</td>\n",
              "      <td>12</td>\n",
              "      <td>Negro</td>\n",
              "      <td>700</td>\n",
              "    </tr>\n",
              "    <tr>\n",
              "      <th>...</th>\n",
              "      <td>...</td>\n",
              "      <td>...</td>\n",
              "      <td>...</td>\n",
              "      <td>...</td>\n",
              "      <td>...</td>\n",
              "    </tr>\n",
              "    <tr>\n",
              "      <th>14702</th>\n",
              "      <td>1</td>\n",
              "      <td>M</td>\n",
              "      <td>28</td>\n",
              "      <td>Creole Negro</td>\n",
              "      <td>800</td>\n",
              "    </tr>\n",
              "    <tr>\n",
              "      <th>14704</th>\n",
              "      <td>1</td>\n",
              "      <td>M</td>\n",
              "      <td>35</td>\n",
              "      <td>Negro</td>\n",
              "      <td>950</td>\n",
              "    </tr>\n",
              "    <tr>\n",
              "      <th>14705</th>\n",
              "      <td>3</td>\n",
              "      <td>M</td>\n",
              "      <td>50</td>\n",
              "      <td>Negro</td>\n",
              "      <td>650</td>\n",
              "    </tr>\n",
              "    <tr>\n",
              "      <th>14709</th>\n",
              "      <td>3</td>\n",
              "      <td>F</td>\n",
              "      <td>24</td>\n",
              "      <td>Negro</td>\n",
              "      <td>1600</td>\n",
              "    </tr>\n",
              "    <tr>\n",
              "      <th>14712</th>\n",
              "      <td>1</td>\n",
              "      <td>M</td>\n",
              "      <td>42</td>\n",
              "      <td>UC</td>\n",
              "      <td>1600</td>\n",
              "    </tr>\n",
              "  </tbody>\n",
              "</table>\n",
              "<p>10338 rows × 5 columns</p>\n",
              "</div>"
            ],
            "text/plain": [
              "       Number of Adult Slaves Sex Age         Color Price\n",
              "0                           1   M  40            UC   650\n",
              "1                           1   F  44         Negro   550\n",
              "2                           1   F  24         Negro  1000\n",
              "3                           1   M  23         Negro  1400\n",
              "4                           1   M  12         Negro   700\n",
              "...                       ...  ..  ..           ...   ...\n",
              "14702                       1   M  28  Creole Negro   800\n",
              "14704                       1   M  35         Negro   950\n",
              "14705                       3   M  50         Negro   650\n",
              "14709                       3   F  24         Negro  1600\n",
              "14712                       1   M  42            UC  1600\n",
              "\n",
              "[10338 rows x 5 columns]"
            ]
          },
          "metadata": {
            "tags": []
          },
          "execution_count": 111
        }
      ]
    },
    {
      "cell_type": "code",
      "metadata": {
        "id": "4jG7ewGA1eAV"
      },
      "source": [
        "#I'd suggest the code  This has to be done before all your transformations though!!\n",
        "onlyadults = onlyadults[~(onlyadults['Price'] == '.')]\n",
        "onlyadults = onlyadults[~(onlyadults['Age']=='.')]"
      ],
      "execution_count": null,
      "outputs": []
    },
    {
      "cell_type": "code",
      "metadata": {
        "id": "aHEadft43wWR"
      },
      "source": [
        "#need to have each adult slave as one instance, so replace the one listing that has multiple adults with n adults with the same sex, age, color, and divide the price by n.\n",
        "#for value in onlyadults['Number of Adult Slaves] =/ 1, "
      ],
      "execution_count": null,
      "outputs": []
    },
    {
      "cell_type": "code",
      "metadata": {
        "id": "jPvyFtqkSC6K"
      },
      "source": [
        "onlyadults.loc[(onlyadults['Price']== '233.33 1/3'),'Price']=233.33"
      ],
      "execution_count": null,
      "outputs": []
    },
    {
      "cell_type": "code",
      "metadata": {
        "id": "IFlunagWI2es",
        "colab": {
          "base_uri": "https://localhost:8080/",
          "height": 282
        },
        "outputId": "f1b5b874-3c64-4127-ccab-3a38ff8156f9"
      },
      "source": [
        "#I think this is what you want for that code above\n",
        "#dataless[dataless['Sex']=='M']\n",
        "import matplotlib.pyplot as plt\n",
        "df = pa.concat([onlyadults['Age'], onlyadults['Price']], axis=1)\n",
        "df['Age'] = pa.to_numeric(df['Age'])\n",
        "df['Price'] = pa.to_numeric(df['Price'])\n",
        "plt.scatter(df['Age'], df['Price'])\n"
      ],
      "execution_count": null,
      "outputs": [
        {
          "output_type": "execute_result",
          "data": {
            "text/plain": [
              "<matplotlib.collections.PathCollection at 0x7f2935fc6a20>"
            ]
          },
          "metadata": {
            "tags": []
          },
          "execution_count": 115
        },
        {
          "output_type": "display_data",
          "data": {
            "image/png": "[encoded data removed]",
            "text/plain": [
              "<Figure size 432x288 with 1 Axes>"
            ]
          },
          "metadata": {
            "tags": [],
            "needs_background": "light"
          }
        }
      ]
    },
    {
      "cell_type": "code",
      "metadata": {
        "id": "2XFsFhlJyePS",
        "colab": {
          "base_uri": "https://localhost:8080/"
        },
        "outputId": "91d1cd8a-fb6a-4547-b8a6-ecb91ddfa8f4"
      },
      "source": [
        "from sklearn import preprocessing\n",
        "\n",
        "lb = preprocessing.LabelBinarizer()\n",
        "\n",
        "#lb.fit_transform(dataless.Sex)\n",
        "sex = np.array(dataless.Sex)\n",
        "#sex = np.append(sex,np.array(dataless.Color))\n",
        "sexbi = lb.fit_transform(sex)\n",
        "sexbi[0,:]"
      ],
      "execution_count": null,
      "outputs": [
        {
          "output_type": "execute_result",
          "data": {
            "text/plain": [
              "array([0, 1, 0])"
            ]
          },
          "metadata": {
            "tags": []
          },
          "execution_count": 27
        }
      ]
    },
    {
      "cell_type": "code",
      "metadata": {
        "id": "RfT1P8QO951p",
        "colab": {
          "base_uri": "https://localhost:8080/"
        },
        "outputId": "ded03ff4-1a71-4f3f-eb9c-e2205e73c281"
      },
      "source": [
        "color = np.array(dataless.Color)\n",
        "\n",
        "\n",
        "colorbi = lb.fit_transform(color)\n",
        "dataless.Color.unique()\n",
        "colorbi"
      ],
      "execution_count": null,
      "outputs": [
        {
          "output_type": "execute_result",
          "data": {
            "text/plain": [
              "array([[0, 0, 0, ..., 1, 0, 0],\n",
              "       [0, 0, 0, ..., 0, 0, 0],\n",
              "       [0, 0, 0, ..., 0, 0, 0],\n",
              "       ...,\n",
              "       [0, 0, 0, ..., 0, 0, 0],\n",
              "       [0, 0, 0, ..., 0, 0, 0],\n",
              "       [0, 0, 0, ..., 1, 0, 0]])"
            ]
          },
          "metadata": {
            "tags": []
          },
          "execution_count": 40
        }
      ]
    },
    {
      "cell_type": "code",
      "metadata": {
        "id": "DfTYL4NyZcXZ",
        "colab": {
          "base_uri": "https://localhost:8080/"
        },
        "outputId": "e54dc59b-3d5e-4832-8c19-2a2172700410"
      },
      "source": [
        "colorLabels"
      ],
      "execution_count": null,
      "outputs": [
        {
          "output_type": "execute_result",
          "data": {
            "text/plain": [
              "array(['UC', 'Negro', 'Mulatto', 'Griff', 'Dark Griff', 'Light Black',\n",
              "       'Black', 'Creole Negro', 'Yellow', 'Quarteroon', 'Colored',\n",
              "       'Creole Mulatto', 'Copper', 'Creole', 'Dark Negro',\n",
              "       'Light Mulatto', 'Bright Mulatto', 'Dark', 'Dark Mulatto', 'Brown',\n",
              "       'Light Griff', 'Dark Copper', 'Mulatto, Griff', 'Light Negro',\n",
              "       'Fair Mulatto', 'Bright Color', 'Light', 'Light Brown',\n",
              "       'Albino, Negro', 'Dark Orange, Griff ', 'Chestnut',\n",
              "       'Yellow, Griff', 'Black Negro', 'Griff Creole'], dtype=object)"
            ]
          },
          "metadata": {
            "tags": []
          },
          "execution_count": 19
        }
      ]
    },
    {
      "cell_type": "code",
      "metadata": {
        "id": "K_XxhYS8-KBE",
        "colab": {
          "base_uri": "https://localhost:8080/"
        },
        "outputId": "bc25dfae-5df5-462c-d8a5-35adcb1962ed"
      },
      "source": [
        "combine = np.append(sexbi,colorbi,axis = 1)\n",
        "combine.shape"
      ],
      "execution_count": null,
      "outputs": [
        {
          "output_type": "execute_result",
          "data": {
            "text/plain": [
              "(12034, 37)"
            ]
          },
          "metadata": {
            "tags": []
          },
          "execution_count": 37
        }
      ]
    },
    {
      "cell_type": "markdown",
      "metadata": {
        "id": "gsWkZI204a1s"
      },
      "source": [
        "https://scikit-learn.org/stable/modules/generated/sklearn.linear_model.LinearRegression.html "
      ]
    },
    {
      "cell_type": "code",
      "metadata": {
        "id": "myyIqZRg2Zvz"
      },
      "source": [
        "#1 Is there a correlation for price and color?\n",
        "#2 Is there a correlation for sex and price?\n",
        "#3 is there a correlation for age and price?"
      ],
      "execution_count": null,
      "outputs": []
    },
    {
      "cell_type": "code",
      "metadata": {
        "colab": {
          "base_uri": "https://localhost:8080/"
        },
        "id": "plgvjqdH10A1",
        "outputId": "75757b21-2b33-4e78-fee3-ff60b1cd46e3"
      },
      "source": [
        "y = np.array(dataless.Price)\n",
        "age = np.array([dataless.Age])\n",
        "comb = np.concatenate((combine,age.T),axis = 1)\n",
        "comb.shape"
      ],
      "execution_count": null,
      "outputs": [
        {
          "output_type": "execute_result",
          "data": {
            "text/plain": [
              "(12034, 38)"
            ]
          },
          "metadata": {
            "tags": []
          },
          "execution_count": 38
        }
      ]
    },
    {
      "cell_type": "code",
      "metadata": {
        "id": "NXPaFf1LBTPU",
        "colab": {
          "base_uri": "https://localhost:8080/"
        },
        "outputId": "70a7ee28-1fba-4a97-868e-98efb06b0613"
      },
      "source": [
        "from sklearn.linear_model import LinearRegression\n",
        "#what is y supposed to be, price?\n",
        "lr = LinearRegression().fit(comb,y)\n",
        "\n",
        "lr.coef_"
      ],
      "execution_count": null,
      "outputs": [
        {
          "output_type": "execute_result",
          "data": {
            "text/plain": [
              "array([-1.94529828e+08, -1.94529531e+08, -1.94529785e+08,  4.89599383e+12,\n",
              "        4.89599383e+12,  4.89599383e+12,  4.89599383e+12,  4.89599383e+12,\n",
              "        4.89599383e+12,  4.89599383e+12,  4.89599383e+12,  4.89599383e+12,\n",
              "        4.89599383e+12,  4.89599383e+12,  4.89599383e+12,  4.89599383e+12,\n",
              "        4.89599383e+12,  4.89599383e+12,  4.89599383e+12,  4.89599383e+12,\n",
              "        4.89599383e+12,  4.89599383e+12,  4.89599383e+12,  4.89599383e+12,\n",
              "        4.89599383e+12,  4.89599383e+12,  4.89599383e+12,  4.89599383e+12,\n",
              "        4.89599383e+12,  4.89599383e+12,  4.89599383e+12,  4.89599383e+12,\n",
              "        4.89599383e+12,  4.89599383e+12,  4.89599383e+12,  4.89599383e+12,\n",
              "        4.89599383e+12,  4.81973878e+00])"
            ]
          },
          "metadata": {
            "tags": []
          },
          "execution_count": 23
        }
      ]
    },
    {
      "cell_type": "code",
      "metadata": {
        "id": "kbBHtewGzPSM",
        "colab": {
          "base_uri": "https://localhost:8080/"
        },
        "outputId": "5b53e526-d05a-4bbc-940a-afe73f7309d0"
      },
      "source": [
        "from sklearn.linear_model import Lasso\n",
        "lasso = Lasso().fit(comb,y)\n",
        "\n",
        "lasso.coef_"
      ],
      "execution_count": null,
      "outputs": [
        {
          "output_type": "execute_result",
          "data": {
            "text/plain": [
              "array([-58.35139097, 236.68895994,  -0.        ,  -0.        ,\n",
              "       102.469377  ,   0.        ,   0.        ,  -0.        ,\n",
              "         0.        ,   0.        ,   0.        ,   0.        ,\n",
              "        -0.        ,  -0.        ,  -0.        ,  -0.        ,\n",
              "         0.        ,  -0.        ,  -0.        ,   0.        ,\n",
              "         0.        ,  -0.        ,  -0.        ,  -0.        ,\n",
              "        -0.        ,  -0.        ,  -0.        ,  -0.        ,\n",
              "        -0.        ,  -0.        , -26.1945745 ,   0.        ,\n",
              "        34.22319746,  -0.        , 498.60807289,   0.        ,\n",
              "        -0.        ,   4.8364487 ])"
            ]
          },
          "metadata": {
            "tags": []
          },
          "execution_count": 107
        }
      ]
    },
    {
      "cell_type": "code",
      "metadata": {
        "id": "VKJ88R_Sz39j",
        "colab": {
          "base_uri": "https://localhost:8080/",
          "height": 350
        },
        "outputId": "5bb3143d-f06e-41e7-9537-fd5e406a1b7e"
      },
      "source": [
        "import seaborn as sns\n",
        "\n",
        "corr = data.corr()\n",
        "ax = sns.heatmap(\n",
        "    corr, \n",
        "    vmin=-1, vmax=1, center=0,\n",
        "    cmap=sns.diverging_palette(20, 220, n=200),\n",
        "    square=True\n",
        ")\n",
        "ax.set_xticklabels(\n",
        "    ax.get_xticklabels(),\n",
        "    rotation=45,\n",
        "    horizontalalignment='right'\n",
        ");"
      ],
      "execution_count": null,
      "outputs": [
        {
          "output_type": "display_data",
          "data": {
            "image/png": "[encoded data removed]",
            "text/plain": [
              "<Figure size 432x288 with 2 Axes>"
            ]
          },
          "metadata": {
            "tags": [],
            "needs_background": "light"
          }
        }
      ]
    },
    {
      "cell_type": "code",
      "metadata": {
        "id": "Twp1oL6EYiNM"
      },
      "source": [
        "dataless['Age'] = dataless['Age'].astype(float)\n",
        "dataless['Price'] = dataless['Price'].astype(float)"
      ],
      "execution_count": null,
      "outputs": []
    },
    {
      "cell_type": "code",
      "metadata": {
        "id": "uur4Myt6Y2la",
        "colab": {
          "base_uri": "https://localhost:8080/",
          "height": 304
        },
        "outputId": "c52e5a86-3001-4073-c14e-37f218deb654"
      },
      "source": [
        "corr = dataless.corr()\n",
        "ax = sns.heatmap(\n",
        "    corr, \n",
        "    vmin=-1, vmax=1, center=0,\n",
        "    cmap=sns.diverging_palette(20, 220, n=200),\n",
        "    square=True\n",
        ")\n",
        "ax.set_xticklabels(\n",
        "    ax.get_xticklabels(),\n",
        "    rotation=45,\n",
        "    horizontalalignment='right'\n",
        ");"
      ],
      "execution_count": null,
      "outputs": [
        {
          "output_type": "display_data",
          "data": {
            "image/png": "[encoded data removed]",
            "text/plain": [
              "<Figure size 432x288 with 2 Axes>"
            ]
          },
          "metadata": {
            "tags": [],
            "needs_background": "light"
          }
        }
      ]
    },
    {
      "cell_type": "code",
      "metadata": {
        "id": "X-tj1krMbyey"
      },
      "source": [
        ""
      ],
      "execution_count": null,
      "outputs": []
    }
  ]
}